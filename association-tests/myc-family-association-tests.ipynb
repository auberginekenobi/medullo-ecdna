{
 "cells": [
  {
   "cell_type": "code",
   "execution_count": 1,
   "id": "8251c285",
   "metadata": {
    "ExecuteTime": {
     "end_time": "2022-10-03T22:20:47.277794Z",
     "start_time": "2022-10-03T22:20:47.270609Z"
    }
   },
   "outputs": [],
   "source": [
    "# Association tests between MYC family gene amplification and ecDNA."
   ]
  },
  {
   "cell_type": "code",
   "execution_count": 19,
   "id": "ccc46693",
   "metadata": {
    "ExecuteTime": {
     "end_time": "2022-10-03T22:59:00.441051Z",
     "start_time": "2022-10-03T22:59:00.435911Z"
    }
   },
   "outputs": [],
   "source": [
    "import pandas as pd\n",
    "\n",
    "import os\n",
    "import sys\n",
    "sys.path.append(os.path.abspath('/mnt/c/Users/ochapman/Documents/Mesirov/Software/oscutils'))\n",
    "import get\n",
    "import scipy\n",
    "from scipy.stats import chi2_contingency\n",
    "from scipy.stats import fisher_exact"
   ]
  },
  {
   "cell_type": "code",
   "execution_count": 20,
   "id": "7929afbc",
   "metadata": {
    "ExecuteTime": {
     "end_time": "2022-10-03T22:59:01.142066Z",
     "start_time": "2022-10-03T22:59:01.126440Z"
    }
   },
   "outputs": [],
   "source": [
    "def get_table():\n",
    "    patients = get.medullo_patients()\n",
    "    patients['ecDNA'] = patients['ecDNA'].fillna('no')\n",
    "    patients['myc_amp'] = patients.index.isin(get_MYC_amp_patients())\n",
    "    patients['mycn_amp'] = patients.index.isin(get_MYCN_amp_patients())\n",
    "    return patients\n",
    "\n",
    "def tabulate(by):\n",
    "    '''\n",
    "    by: iterable of columns to form multiindex.\n",
    "    '''\n",
    "    patients[['count']]=1\n",
    "    patients = patients.groupby(['Subgroup','ecDNA']).count()\n",
    "\n",
    "    return patients[['count']]\n",
    "\n",
    "def map_cbtn(key=None,value=None):\n",
    "    df = get.medullo_samples()\n",
    "    df=df[df.index.map(lambda x: str(x).startswith('BS'))]\n",
    "    if key == None or value == None:\n",
    "        return df\n",
    "    else:\n",
    "        df[\"Sample_ID\"] = df.index\n",
    "        return df.set_index(key)[value].to_dict()\n",
    "    \n",
    "def preprocess_ac(df):\n",
    "    # drop ampliconx suffix\n",
    "    df['sample_name']=df['sample_name'].map(lambda x: '_'.join(x.split('_')[:-1]))\n",
    "    # drop feature suffix\n",
    "    df['feature']=df['feature'].map(lambda x: x.split('_')[0])\n",
    "    # map cbtn sample names\n",
    "    d=map_cbtn('Aliases','Sample_ID')\n",
    "    df['sample_name']=df['sample_name'].map(lambda x: d[x] if x in d.keys() else x)\n",
    "    df['sample_name']=df['sample_name'].map(lambda x: x.split('.')[0])\n",
    "    # map grch37 ids\n",
    "    df['sample_name']=df['sample_name'].map(lambda x: x[:-3] if x.endswith('_AA') else x)\n",
    "    # map patient ids\n",
    "    d=get.medullo_samples()['Patient_ID'].to_dict()\n",
    "    df['Patient_ID']=df['sample_name'].map(lambda x: d[x] if x in d.keys() else x)\n",
    "    return df\n",
    "\n",
    "def get_MYC_amp_patients():\n",
    "    DIR=\"/home/ochapman/Documents/Mesirov/medullo_ecDNA/data/AmpliconClassifier/latest\"\n",
    "    hg38_set=pd.read_csv(DIR+\"/hg38_gene_list.tsv\",sep='\\t')\n",
    "    hg38_set=preprocess_ac(hg38_set)\n",
    "    hg38_set=hg38_set[hg38_set.gene=='MYC']\n",
    "    pts = set(hg38_set['Patient_ID'])\n",
    "    hg19_set=pd.read_csv(DIR+'/grch37_gene_list.tsv',sep='\\t')\n",
    "    hg19_set=preprocess_ac(hg19_set)\n",
    "    hg19_set=hg19_set[hg19_set.gene=='MYC']\n",
    "    pts = pts | set(hg19_set['Patient_ID']) | set(['MB106','MB260'])\n",
    "    return pts\n",
    "\n",
    "def get_MYCN_amp_patients():\n",
    "    DIR=\"/home/ochapman/Documents/Mesirov/medullo_ecDNA/data/AmpliconClassifier/latest\"\n",
    "    hg38_set=pd.read_csv(DIR+\"/hg38_gene_list.tsv\",sep='\\t')\n",
    "    hg38_set=preprocess_ac(hg38_set)\n",
    "    hg38_set=hg38_set[hg38_set.gene=='MYCN']\n",
    "    pts = set(hg38_set['Patient_ID'])\n",
    "    hg19_set=pd.read_csv(DIR+'/grch37_gene_list.tsv',sep='\\t')\n",
    "    hg19_set=preprocess_ac(hg19_set)\n",
    "    hg19_set=hg19_set[hg19_set.gene=='MYCN']\n",
    "    pts=pts | set(hg19_set['Patient_ID'])\n",
    "    return pts"
   ]
  },
  {
   "cell_type": "code",
   "execution_count": 28,
   "id": "615ea5fe",
   "metadata": {
    "ExecuteTime": {
     "end_time": "2022-10-03T23:00:20.640962Z",
     "start_time": "2022-10-03T23:00:18.131780Z"
    }
   },
   "outputs": [],
   "source": [
    "patients = get_table()"
   ]
  },
  {
   "cell_type": "code",
   "execution_count": 30,
   "id": "821d820e",
   "metadata": {
    "ExecuteTime": {
     "end_time": "2022-10-03T23:00:30.307630Z",
     "start_time": "2022-10-03T23:00:30.299048Z"
    },
    "code_folding": [
     0,
     8
    ]
   },
   "outputs": [],
   "source": [
    "def fisherexact(tbl):\n",
    "    _,p=scipy.stats.fisher_exact(tbl)\n",
    "    print(\"p =\",min(p/2,1), '(Fisher exact test)')\n",
    "    t = tbl.to_numpy().flatten()\n",
    "    print(\"Precision =\",round(t[3]/(t[3]+t[1]),3))\n",
    "    print(\"Recall =\",round(t[3]/(t[3]+t[2]),3))\n",
    "    return tbl\n",
    "def chisq(tbl):\n",
    "    chi2,p,_,_ = scipy.stats.chi2_contingency(tbl)\n",
    "    print(\"chi^2 =\",round(chi2,3),\", p =\",p, '(Chi-squared test)')\n",
    "    t = tbl.to_numpy().flatten()\n",
    "    print(\"Precision =\",round(t[3]/(t[3]+t[1]),3))\n",
    "    print(\"Recall =\",round(t[3]/(t[3]+t[2]),3))\n",
    "    return tbl"
   ]
  },
  {
   "cell_type": "code",
   "execution_count": 31,
   "id": "b8ca2dd1",
   "metadata": {
    "ExecuteTime": {
     "end_time": "2022-10-03T23:00:31.013124Z",
     "start_time": "2022-10-03T23:00:30.947781Z"
    }
   },
   "outputs": [
    {
     "name": "stdout",
     "output_type": "stream",
     "text": [
      "p = 2.3886277850009638e-18 (Fisher exact test)\n",
      "Precision = 0.958\n",
      "Recall = 0.28\n"
     ]
    },
    {
     "data": {
      "text/html": [
       "<div>\n",
       "<style scoped>\n",
       "    .dataframe tbody tr th:only-of-type {\n",
       "        vertical-align: middle;\n",
       "    }\n",
       "\n",
       "    .dataframe tbody tr th {\n",
       "        vertical-align: top;\n",
       "    }\n",
       "\n",
       "    .dataframe thead th {\n",
       "        text-align: right;\n",
       "    }\n",
       "</style>\n",
       "<table border=\"1\" class=\"dataframe\">\n",
       "  <thead>\n",
       "    <tr style=\"text-align: right;\">\n",
       "      <th>mycn_amp</th>\n",
       "      <th>False</th>\n",
       "      <th>True</th>\n",
       "    </tr>\n",
       "    <tr>\n",
       "      <th>ecDNA</th>\n",
       "      <th></th>\n",
       "      <th></th>\n",
       "    </tr>\n",
       "  </thead>\n",
       "  <tbody>\n",
       "    <tr>\n",
       "      <th>no</th>\n",
       "      <td>385</td>\n",
       "      <td>1</td>\n",
       "    </tr>\n",
       "    <tr>\n",
       "      <th>yes</th>\n",
       "      <td>59</td>\n",
       "      <td>23</td>\n",
       "    </tr>\n",
       "  </tbody>\n",
       "</table>\n",
       "</div>"
      ],
      "text/plain": [
       "mycn_amp  False  True\n",
       "ecDNA                \n",
       "no          385     1\n",
       "yes          59    23"
      ]
     },
     "execution_count": 31,
     "metadata": {},
     "output_type": "execute_result"
    }
   ],
   "source": [
    "fisherexact(pd.crosstab(patients.ecDNA,patients.mycn_amp))"
   ]
  },
  {
   "cell_type": "code",
   "execution_count": 32,
   "id": "d19e3bf5",
   "metadata": {
    "ExecuteTime": {
     "end_time": "2022-10-03T23:00:31.950176Z",
     "start_time": "2022-10-03T23:00:31.923356Z"
    }
   },
   "outputs": [
    {
     "name": "stdout",
     "output_type": "stream",
     "text": [
      "chi^2 = 29.248 , p = 6.36715125430278e-08 (Chi-squared test)\n",
      "Precision = 0.65\n",
      "Recall = 0.159\n"
     ]
    },
    {
     "data": {
      "text/html": [
       "<div>\n",
       "<style scoped>\n",
       "    .dataframe tbody tr th:only-of-type {\n",
       "        vertical-align: middle;\n",
       "    }\n",
       "\n",
       "    .dataframe tbody tr th {\n",
       "        vertical-align: top;\n",
       "    }\n",
       "\n",
       "    .dataframe thead th {\n",
       "        text-align: right;\n",
       "    }\n",
       "</style>\n",
       "<table border=\"1\" class=\"dataframe\">\n",
       "  <thead>\n",
       "    <tr style=\"text-align: right;\">\n",
       "      <th>myc_amp</th>\n",
       "      <th>False</th>\n",
       "      <th>True</th>\n",
       "    </tr>\n",
       "    <tr>\n",
       "      <th>ecDNA</th>\n",
       "      <th></th>\n",
       "      <th></th>\n",
       "    </tr>\n",
       "  </thead>\n",
       "  <tbody>\n",
       "    <tr>\n",
       "      <th>no</th>\n",
       "      <td>379</td>\n",
       "      <td>7</td>\n",
       "    </tr>\n",
       "    <tr>\n",
       "      <th>yes</th>\n",
       "      <td>69</td>\n",
       "      <td>13</td>\n",
       "    </tr>\n",
       "  </tbody>\n",
       "</table>\n",
       "</div>"
      ],
      "text/plain": [
       "myc_amp  False  True\n",
       "ecDNA               \n",
       "no         379     7\n",
       "yes         69    13"
      ]
     },
     "execution_count": 32,
     "metadata": {},
     "output_type": "execute_result"
    }
   ],
   "source": [
    "chisq(pd.crosstab(patients.ecDNA,patients.myc_amp))"
   ]
  },
  {
   "cell_type": "code",
   "execution_count": null,
   "id": "c9f07e0e",
   "metadata": {},
   "outputs": [],
   "source": []
  }
 ],
 "metadata": {
  "kernelspec": {
   "display_name": "Python [conda env:py3]",
   "language": "python",
   "name": "conda-env-py3-py"
  },
  "language_info": {
   "codemirror_mode": {
    "name": "ipython",
    "version": 3
   },
   "file_extension": ".py",
   "mimetype": "text/x-python",
   "name": "python",
   "nbconvert_exporter": "python",
   "pygments_lexer": "ipython3",
   "version": "3.10.2"
  }
 },
 "nbformat": 4,
 "nbformat_minor": 5
}
