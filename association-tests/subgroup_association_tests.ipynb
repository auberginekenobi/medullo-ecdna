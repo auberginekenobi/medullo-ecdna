{
 "cells": [
  {
   "cell_type": "code",
   "execution_count": 1,
   "metadata": {
    "ExecuteTime": {
     "end_time": "2022-03-29T21:12:42.554994Z",
     "start_time": "2022-03-29T21:12:41.997749Z"
    }
   },
   "outputs": [],
   "source": [
    "# 2021-07-20\n",
    "\n",
    "import os\n",
    "import sys\n",
    "sys.path.append(os.path.abspath('/mnt/c/Users/ochapman/Documents/Mesirov/Software/oscutils'))\n",
    "import get\n",
    "#os.chdir('/mnt/c/Users/ochapman/Documents/Mesirov/medullo_ecDNA/2021-07-20_association_tests')\n",
    "import pandas as pd\n",
    "pd.set_option('display.max_columns', None)\n",
    "import numpy as np\n",
    "\n",
    "from scipy.stats import chi2_contingency\n",
    "from scipy.stats import fisher_exact\n"
   ]
  },
  {
   "cell_type": "code",
   "execution_count": null,
   "metadata": {
    "ExecuteTime": {
     "end_time": "2022-03-29T21:12:43.914632Z",
     "start_time": "2022-03-29T21:12:43.485900Z"
    }
   },
   "outputs": [],
   "source": [
    "def get_tables():\n",
    "    patients = get.medullo_patients()\n",
    "    patients[['count']]=1\n",
    "    patients['ecDNA'] = patients['ecDNA'].fillna('no')\n",
    "    patients = patients.groupby(['Subgroup','ecDNA']).count()\n",
    "\n",
    "    models = get.medullo_models()\n",
    "    models[['count']]=1\n",
    "    models = models.groupby(['Subgroup','ecDNA']).count()\n",
    "    return patients[['count']], models[['count']]"
   ]
  },
  {
   "cell_type": "code",
   "execution_count": 4,
   "metadata": {
    "ExecuteTime": {
     "end_time": "2022-03-29T21:13:33.360570Z",
     "start_time": "2022-03-29T21:13:33.101968Z"
    }
   },
   "outputs": [
    {
     "name": "stdout",
     "output_type": "stream",
     "text": [
      "[[ 7  3]\n",
      " [30 82]]\n"
     ]
    },
    {
     "data": {
      "text/plain": [
       "(6.377777777777778, 0.008457577184625321)"
      ]
     },
     "execution_count": 4,
     "metadata": {},
     "output_type": "execute_result"
    }
   ],
   "source": [
    "'''\n",
    "Test whether ecDNA is enriched in SHH subgroup\n",
    "'''\n",
    "def test_shh_model_enrichment():\n",
    "    patients,models = get_tables()\n",
    "    tbl = np.array([[models.xs(('SHH','yes')).squeeze()+models.xs(('SHH-TP53','yes')).squeeze(),models.xs(('SHH','no')).squeeze()],\n",
    "                    [patients.xs(('SHH','yes')).squeeze(),patients.xs(('SHH','no')).squeeze()]])\n",
    "    print(tbl)\n",
    "    return fisher_exact(tbl)\n",
    "test_shh_model_enrichment()"
   ]
  },
  {
   "cell_type": "code",
   "execution_count": 5,
   "metadata": {
    "ExecuteTime": {
     "end_time": "2022-03-29T21:13:49.326758Z",
     "start_time": "2022-03-29T21:13:49.030557Z"
    }
   },
   "outputs": [
    {
     "name": "stdout",
     "output_type": "stream",
     "text": [
      "[[11  6]\n",
      " [19 88]]\n"
     ]
    },
    {
     "data": {
      "text/plain": [
       "(8.491228070175438, 0.00014370114783610722)"
      ]
     },
     "execution_count": 5,
     "metadata": {},
     "output_type": "execute_result"
    }
   ],
   "source": [
    "'''\n",
    "Test whether ecDNA is enriched in G3 subgroup\n",
    "'''\n",
    "def test_g3_model_enrichment():\n",
    "    patients,models = get_tables()\n",
    "    tbl = np.array([[models.xs(('G3','yes')).squeeze(),models.xs(('G3','no')).squeeze()],\n",
    "                    [patients.xs(('G3','yes')).squeeze(),patients.xs(('G3','no')).squeeze()]])\n",
    "    print(tbl)\n",
    "    return fisher_exact(tbl)\n",
    "test_g3_model_enrichment()"
   ]
  },
  {
   "cell_type": "code",
   "execution_count": null,
   "metadata": {},
   "outputs": [],
   "source": [
    "'''\n",
    "TODO: add TP53 testing\n",
    "'''\n"
   ]
  }
 ],
 "metadata": {
  "kernelspec": {
   "display_name": "Python [conda env:py3]",
   "language": "python",
   "name": "conda-env-py3-py"
  },
  "language_info": {
   "codemirror_mode": {
    "name": "ipython",
    "version": 3
   },
   "file_extension": ".py",
   "mimetype": "text/x-python",
   "name": "python",
   "nbconvert_exporter": "python",
   "pygments_lexer": "ipython3",
   "version": "3.10.2"
  }
 },
 "nbformat": 4,
 "nbformat_minor": 4
}
