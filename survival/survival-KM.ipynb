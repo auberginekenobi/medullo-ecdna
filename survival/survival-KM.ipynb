{
 "cells": [
  {
   "cell_type": "code",
   "execution_count": 1,
   "metadata": {
    "ExecuteTime": {
     "end_time": "2023-07-20T22:13:05.818955Z",
     "start_time": "2023-07-20T22:13:02.280738Z"
    }
   },
   "outputs": [
    {
     "name": "stdout",
     "output_type": "stream",
     "text": [
      "/mnt/c/Users/ochapman/Documents/Mesirov/medullo_ecDNA/src/survival\n",
      "[Errno 17] File exists: 'out'\n"
     ]
    }
   ],
   "source": [
    "# Using lifelines package to do survival analysis.\n",
    "import pandas as pd\n",
    "import numpy as np\n",
    "import lifelines\n",
    "import lifelines.statistics\n",
    "\n",
    "from lifelines.statistics import logrank_test\n",
    "from lifelines import CoxPHFitter\n",
    "import matplotlib.pyplot as plt\n",
    "import seaborn as sns\n",
    "%matplotlib inline\n",
    "plt.rcParams['svg.fonttype'] = 'none'\n",
    "import os\n",
    "import sys\n",
    "sys.path.append(os.path.abspath( '/mnt/c/Users/ochapman/Documents/Mesirov/Software/oscutils'))\n",
    "import get\n",
    "pd.set_option('display.max_columns', None)\n",
    "#os.chdir('/home/ochapman/Documents/Mesirov/medullo_ecDNA/TCGA-lifelines-survival')\n",
    "print(os.getcwd())\n",
    "\n",
    "try:\n",
    "    os.mkdir('out')\n",
    "except OSError as error:\n",
    "    print(error)"
   ]
  },
  {
   "cell_type": "code",
   "execution_count": 2,
   "metadata": {
    "ExecuteTime": {
     "end_time": "2023-07-20T22:13:05.837397Z",
     "start_time": "2023-07-20T22:13:05.822278Z"
    }
   },
   "outputs": [],
   "source": [
    "def median_time_to_event(T,E):\n",
    "    medIx = np.argsort(T)[len(T)//2]\n",
    "    med=T[medIx]\n",
    "    obs=E[medIx]\n",
    "    if obs:\n",
    "        print(\"Median time to event:\",med)\n",
    "    else:\n",
    "        print(\"Median time to event is at least:\",med,\"(event not observed at median)\")\n",
    "    return(med,obs)\n",
    "\n",
    "def get_pfs(censor_years=None):\n",
    "    pfs = get.medullo_patients()\n",
    "    pfs.ecDNA = pfs.ecDNA.map({\n",
    "        'yes':True,\n",
    "    }).fillna(False).astype(bool)\n",
    "    pfs = pfs.dropna(subset=['Survival_time_years','ecDNA','Vital_status'])\n",
    "    pfs.Vital_status = pfs.Vital_status.map({\n",
    "        'alive':False,\n",
    "        'deceased':True\n",
    "    })\n",
    "    # event observed if patient has documented relapse or dies.\n",
    "    pfs.Relapse_status = pfs.apply(axis=1,\n",
    "                                   func=lambda x:  (not (np.isnan(x[\"Relapse_interval_years\"]))) or x['Vital_status'])\n",
    "    pfs['Relapse_interval_years'] = pfs.apply(axis=1,\n",
    "                                              func=lambda x: x['Survival_time_years'] if np.isnan(x['Relapse_interval_years']) else x['Relapse_interval_years'])\n",
    "    if type(censor_years) == int:\n",
    "        rows = (pfs['Relapse_interval_years'] > censor_years)\n",
    "        print(\"Right-censoring {} intervals to {} years...\".format(rows.sum(),censor_years))\n",
    "        pfs.loc[rows,'Relapse_status'] = False\n",
    "        pfs.loc[rows,'Relapse_interval_years'] = censor_years\n",
    "    return pfs\n",
    "\n",
    "def get_os(censor_years=None):\n",
    "    os_tbl = get.medullo_patients()\n",
    "    os_tbl.ecDNA = os_tbl.ecDNA.map({\n",
    "        'yes':True,\n",
    "    }).fillna(False).astype(bool)\n",
    "    os_tbl = os_tbl.dropna(subset=['Survival_time_years','ecDNA'])\n",
    "    os_tbl.Vital_status = os_tbl.Vital_status.map({\n",
    "        'alive':False,\n",
    "        'deceased':True\n",
    "    }).fillna(False).astype(bool)\n",
    "    os_tbl = os_tbl.dropna(subset=['Survival_time_years','ecDNA','Vital_status'])\n",
    "    if type(censor_years) == int:\n",
    "        rows = (os_tbl['Survival_time_years'] > censor_years)\n",
    "        print(\"Right-censoring {} intervals to {} years...\".format(rows.sum(),censor_years))\n",
    "        os_tbl.loc[rows,'Vital_status'] = False\n",
    "        os_tbl.loc[rows,'Survival_time_years'] = censor_years\n",
    "    return os_tbl"
   ]
  },
  {
   "cell_type": "markdown",
   "metadata": {},
   "source": [
    "# Kaplan-Meier curves"
   ]
  },
  {
   "cell_type": "code",
   "execution_count": 3,
   "metadata": {
    "ExecuteTime": {
     "end_time": "2023-07-20T22:13:09.931126Z",
     "start_time": "2023-07-20T22:13:09.912841Z"
    },
    "code_folding": []
   },
   "outputs": [],
   "source": [
    "def logrank(T,E,ix):\n",
    "    results = logrank_test(T[ix], T[~ix], E[ix], E[~ix], alpha=.99)\n",
    "\n",
    "    results.print_summary()\n",
    "    print(results.p_value)\n",
    "    print(results.test_statistic)\n",
    "\n",
    "def km_pfs(pfs,outfile=None):\n",
    "    '''\n",
    "    Assumes pfs is a dataframe with the following columns:\n",
    "        ecDNA (boolean)\n",
    "        Relapse_interval_years (float)\n",
    "        Relapse_status (float)\n",
    "    '''\n",
    "    kmf = lifelines.KaplanMeierFitter()\n",
    "\n",
    "    ix = pfs['ecDNA']\n",
    "    T = pfs['Relapse_interval_years']\n",
    "    E = pfs['Relapse_status']\n",
    "\n",
    "    fig = plt.figure(figsize=(5,5))\n",
    "    ax = plt.subplot(111)\n",
    "    ax.set_ylim([0.0, 1.02])\n",
    "\n",
    "    kmf.fit(T[~ix], E[~ix], label='ecDNA- (n='+str(len(E[~ix]))+')')\n",
    "    ax = kmf.plot(ax=ax,show_censors=True,ci_show=False,censor_styles={'ms':6})\n",
    "\n",
    "    kmf.fit(T[ix], E[ix], label='ecDNA+ (n='+str(len(E[ix]))+')')\n",
    "    ax = kmf.plot(ax=ax,show_censors=True,ci_show=False,censor_styles={'ms':6},c=\"red\")\n",
    "\n",
    "    sns.despine()\n",
    "    for item in ([ax.xaxis.label, ax.yaxis.label] +\n",
    "                 ax.get_xticklabels() + ax.get_yticklabels()):\n",
    "        item.set_fontsize(14)\n",
    "    ax.set_xlabel(\"Time to event (Years)\")\n",
    "    ax.set_ylabel(\"Progression-free survival (PFS)\")\n",
    "    \n",
    "    # Save figure\n",
    "    if outfile != None:\n",
    "        plt.savefig(outfile)\n",
    "    \n",
    "    # Print statistics\n",
    "    print(\"n = \",len(T))\n",
    "    cts = E.groupby(E).count()\n",
    "    print(cts)\n",
    "    logrank(T,E,ix)\n",
    "\n",
    "def km_os(os_tbl,outfile=None):\n",
    "    '''\n",
    "    Assumes kmf_os is a dataframe with the following columns:\n",
    "        ecDNA (boolean)\n",
    "        Survival_time_years (float)\n",
    "        Vital_status (float)\n",
    "    '''\n",
    "    kmf_os = lifelines.KaplanMeierFitter()\n",
    "\n",
    "    ix = os_tbl['ecDNA']\n",
    "    T = os_tbl['Survival_time_years']\n",
    "    E = os_tbl['Vital_status']\n",
    "\n",
    "    fig = plt.figure(figsize=(5,5))\n",
    "    ax = plt.subplot(111)\n",
    "    ax.set_ylim([0.0, 1.02])\n",
    "\n",
    "    kmf_os.fit(T[~ix], E[~ix], label='ecDNA- (n='+str(len(E[~ix]))+')')\n",
    "    ax = kmf_os.plot(ax=ax,show_censors=True,ci_show=False,censor_styles={'ms':6})\n",
    "\n",
    "    kmf_os.fit(T[ix], E[ix], label='ecDNA+ (n='+str(len(E[ix]))+')')\n",
    "    ax = kmf_os.plot(ax=ax,show_censors=True,ci_show=False,censor_styles={'ms':6},c=\"red\")\n",
    "\n",
    "    sns.despine()\n",
    "    for item in ([ax.xaxis.label, ax.yaxis.label] +\n",
    "                 ax.get_xticklabels() + ax.get_yticklabels()):\n",
    "        item.set_fontsize(14)\n",
    "    ax.set_xlabel(\"Time to event (Years)\")\n",
    "    ax.set_ylabel(\"Overall Survival (OS)\")\n",
    "    \n",
    "    # Save figure\n",
    "    if outfile != None:\n",
    "        plt.savefig(outfile)\n",
    "\n",
    "    # Print statistics\n",
    "    print(\"n = \",len(T))\n",
    "    cts = E.groupby(E).count()\n",
    "    print(cts)\n",
    "    logrank(T,E,ix)"
   ]
  },
  {
   "cell_type": "code",
   "execution_count": 4,
   "metadata": {
    "ExecuteTime": {
     "end_time": "2023-07-20T22:13:13.991506Z",
     "start_time": "2023-07-20T22:13:11.286959Z"
    },
    "code_folding": [],
    "scrolled": true
   },
   "outputs": [
    {
     "name": "stdout",
     "output_type": "stream",
     "text": [
      "Right-censoring 74 intervals to 5 years...\n",
      "n =  340\n",
      "Relapse_status\n",
      "False    251\n",
      "True      89\n",
      "Name: Relapse_status, dtype: int64\n"
     ]
    },
    {
     "name": "stderr",
     "output_type": "stream",
     "text": [
      "/home/ochapman/miniconda3/envs/py3/lib/python3.10/site-packages/lifelines/statistics.py:143: FutureWarning: In future versions `DataFrame.to_latex` is expected to utilise the base implementation of `Styler.to_latex` for formatting and rendering. The arguments signature may therefore change. It is recommended instead to use `DataFrame.style.to_latex` which also contains additional functionality.\n",
      "  return self.summary.to_latex()\n"
     ]
    },
    {
     "data": {
      "text/html": [
       "<div>\n",
       "<style scoped>\n",
       "    .dataframe tbody tr th:only-of-type {\n",
       "        vertical-align: middle;\n",
       "    }\n",
       "\n",
       "    .dataframe tbody tr th {\n",
       "        vertical-align: top;\n",
       "    }\n",
       "\n",
       "    .dataframe thead th {\n",
       "        text-align: right;\n",
       "    }\n",
       "</style>\n",
       "<table border=\"1\" class=\"dataframe\">\n",
       "  <tbody>\n",
       "    <tr>\n",
       "      <th>t_0</th>\n",
       "      <td>-1</td>\n",
       "    </tr>\n",
       "    <tr>\n",
       "      <th>null_distribution</th>\n",
       "      <td>chi squared</td>\n",
       "    </tr>\n",
       "    <tr>\n",
       "      <th>degrees_of_freedom</th>\n",
       "      <td>1</td>\n",
       "    </tr>\n",
       "    <tr>\n",
       "      <th>alpha</th>\n",
       "      <td>0.99</td>\n",
       "    </tr>\n",
       "    <tr>\n",
       "      <th>test_name</th>\n",
       "      <td>logrank_test</td>\n",
       "    </tr>\n",
       "  </tbody>\n",
       "</table>\n",
       "</div><table border=\"1\" class=\"dataframe\">\n",
       "  <thead>\n",
       "    <tr style=\"text-align: right;\">\n",
       "      <th></th>\n",
       "      <th>test_statistic</th>\n",
       "      <th>p</th>\n",
       "      <th>-log2(p)</th>\n",
       "    </tr>\n",
       "  </thead>\n",
       "  <tbody>\n",
       "    <tr>\n",
       "      <th>0</th>\n",
       "      <td>14.76</td>\n",
       "      <td>&lt;0.005</td>\n",
       "      <td>13.00</td>\n",
       "    </tr>\n",
       "  </tbody>\n",
       "</table>"
      ],
      "text/latex": [
       "\\begin{tabular}{lrrr}\n",
       "\\toprule\n",
       "{} &  test\\_statistic &         p &   -log2(p) \\\\\n",
       "\\midrule\n",
       "0 &       14.759814 &  0.000122 &  12.999528 \\\\\n",
       "\\bottomrule\n",
       "\\end{tabular}\n"
      ],
      "text/plain": [
       "<lifelines.StatisticalResult: logrank_test>\n",
       "               t_0 = -1\n",
       " null_distribution = chi squared\n",
       "degrees_of_freedom = 1\n",
       "             alpha = 0.99\n",
       "         test_name = logrank_test\n",
       "\n",
       "---\n",
       " test_statistic      p  -log2(p)\n",
       "          14.76 <0.005     13.00"
      ]
     },
     "metadata": {},
     "output_type": "display_data"
    },
    {
     "name": "stdout",
     "output_type": "stream",
     "text": [
      "0.00012211028279726456\n",
      "14.759814097960387\n"
     ]
    },
    {
     "data": {
      "image/png": "[encoded data removed]",
      "text/plain": [
       "<Figure size 360x360 with 1 Axes>"
      ]
     },
     "metadata": {
      "needs_background": "light"
     },
     "output_type": "display_data"
    }
   ],
   "source": [
    "# PFS\n",
    "pfs = get_pfs(censor_years=5)\n",
    "pfs = pfs[pfs.Subgroup != 'WNT'] # drop WNTs\n",
    "km_pfs(pfs,outfile='out/figure1c_pfs.svg')"
   ]
  },
  {
   "cell_type": "code",
   "execution_count": 5,
   "metadata": {
    "ExecuteTime": {
     "end_time": "2023-07-20T22:13:18.835999Z",
     "start_time": "2023-07-20T22:13:17.951262Z"
    },
    "scrolled": false
   },
   "outputs": [
    {
     "name": "stdout",
     "output_type": "stream",
     "text": [
      "Right-censoring 78 intervals to 5 years...\n",
      "n =  340\n",
      "Vital_status\n",
      "False    271\n",
      "True      69\n",
      "Name: Vital_status, dtype: int64\n"
     ]
    },
    {
     "name": "stderr",
     "output_type": "stream",
     "text": [
      "/home/ochapman/miniconda3/envs/py3/lib/python3.10/site-packages/lifelines/statistics.py:143: FutureWarning: In future versions `DataFrame.to_latex` is expected to utilise the base implementation of `Styler.to_latex` for formatting and rendering. The arguments signature may therefore change. It is recommended instead to use `DataFrame.style.to_latex` which also contains additional functionality.\n",
      "  return self.summary.to_latex()\n"
     ]
    },
    {
     "data": {
      "text/html": [
       "<div>\n",
       "<style scoped>\n",
       "    .dataframe tbody tr th:only-of-type {\n",
       "        vertical-align: middle;\n",
       "    }\n",
       "\n",
       "    .dataframe tbody tr th {\n",
       "        vertical-align: top;\n",
       "    }\n",
       "\n",
       "    .dataframe thead th {\n",
       "        text-align: right;\n",
       "    }\n",
       "</style>\n",
       "<table border=\"1\" class=\"dataframe\">\n",
       "  <tbody>\n",
       "    <tr>\n",
       "      <th>t_0</th>\n",
       "      <td>-1</td>\n",
       "    </tr>\n",
       "    <tr>\n",
       "      <th>null_distribution</th>\n",
       "      <td>chi squared</td>\n",
       "    </tr>\n",
       "    <tr>\n",
       "      <th>degrees_of_freedom</th>\n",
       "      <td>1</td>\n",
       "    </tr>\n",
       "    <tr>\n",
       "      <th>alpha</th>\n",
       "      <td>0.99</td>\n",
       "    </tr>\n",
       "    <tr>\n",
       "      <th>test_name</th>\n",
       "      <td>logrank_test</td>\n",
       "    </tr>\n",
       "  </tbody>\n",
       "</table>\n",
       "</div><table border=\"1\" class=\"dataframe\">\n",
       "  <thead>\n",
       "    <tr style=\"text-align: right;\">\n",
       "      <th></th>\n",
       "      <th>test_statistic</th>\n",
       "      <th>p</th>\n",
       "      <th>-log2(p)</th>\n",
       "    </tr>\n",
       "  </thead>\n",
       "  <tbody>\n",
       "    <tr>\n",
       "      <th>0</th>\n",
       "      <td>19.79</td>\n",
       "      <td>&lt;0.005</td>\n",
       "      <td>16.82</td>\n",
       "    </tr>\n",
       "  </tbody>\n",
       "</table>"
      ],
      "text/latex": [
       "\\begin{tabular}{lrrr}\n",
       "\\toprule\n",
       "{} &  test\\_statistic &         p &   -log2(p) \\\\\n",
       "\\midrule\n",
       "0 &       19.790013 &  0.000009 &  16.819985 \\\\\n",
       "\\bottomrule\n",
       "\\end{tabular}\n"
      ],
      "text/plain": [
       "<lifelines.StatisticalResult: logrank_test>\n",
       "               t_0 = -1\n",
       " null_distribution = chi squared\n",
       "degrees_of_freedom = 1\n",
       "             alpha = 0.99\n",
       "         test_name = logrank_test\n",
       "\n",
       "---\n",
       " test_statistic      p  -log2(p)\n",
       "          19.79 <0.005     16.82"
      ]
     },
     "metadata": {},
     "output_type": "display_data"
    },
    {
     "name": "stdout",
     "output_type": "stream",
     "text": [
      "8.643309539916936e-06\n",
      "19.790013464964947\n"
     ]
    },
    {
     "data": {
      "image/png": "[encoded data removed]",
      "text/plain": [
       "<Figure size 360x360 with 1 Axes>"
      ]
     },
     "metadata": {
      "needs_background": "light"
     },
     "output_type": "display_data"
    }
   ],
   "source": [
    "# OS\n",
    "os_tbl = get_os(censor_years=5)\n",
    "os_tbl = os_tbl[os_tbl.Subgroup != 'WNT'] # drop WNTs\n",
    "km_os(os_tbl,outfile='out/figure1d_os.svg')"
   ]
  },
  {
   "cell_type": "code",
   "execution_count": null,
   "metadata": {
    "ExecuteTime": {
     "end_time": "2022-10-04T03:28:26.658391Z",
     "start_time": "2022-10-04T03:28:26.622469Z"
    }
   },
   "outputs": [],
   "source": [
    "pfs"
   ]
  },
  {
   "cell_type": "markdown",
   "metadata": {
    "ExecuteTime": {
     "end_time": "2022-05-24T00:42:02.744826Z",
     "start_time": "2022-05-24T00:42:02.737597Z"
    }
   },
   "source": [
    "# Kaplan-Meier by subgroup"
   ]
  },
  {
   "cell_type": "markdown",
   "metadata": {},
   "source": [
    "## SHH"
   ]
  },
  {
   "cell_type": "code",
   "execution_count": 6,
   "metadata": {
    "ExecuteTime": {
     "end_time": "2023-07-20T22:15:45.101029Z",
     "start_time": "2023-07-20T22:15:44.325513Z"
    }
   },
   "outputs": [
    {
     "name": "stdout",
     "output_type": "stream",
     "text": [
      "Right-censoring 78 intervals to 5 years...\n",
      "n =  92\n",
      "Vital_status\n",
      "False    73\n",
      "True     19\n",
      "Name: Vital_status, dtype: int64\n"
     ]
    },
    {
     "name": "stderr",
     "output_type": "stream",
     "text": [
      "/home/ochapman/miniconda3/envs/py3/lib/python3.10/site-packages/lifelines/statistics.py:143: FutureWarning: In future versions `DataFrame.to_latex` is expected to utilise the base implementation of `Styler.to_latex` for formatting and rendering. The arguments signature may therefore change. It is recommended instead to use `DataFrame.style.to_latex` which also contains additional functionality.\n",
      "  return self.summary.to_latex()\n"
     ]
    },
    {
     "data": {
      "text/html": [
       "<div>\n",
       "<style scoped>\n",
       "    .dataframe tbody tr th:only-of-type {\n",
       "        vertical-align: middle;\n",
       "    }\n",
       "\n",
       "    .dataframe tbody tr th {\n",
       "        vertical-align: top;\n",
       "    }\n",
       "\n",
       "    .dataframe thead th {\n",
       "        text-align: right;\n",
       "    }\n",
       "</style>\n",
       "<table border=\"1\" class=\"dataframe\">\n",
       "  <tbody>\n",
       "    <tr>\n",
       "      <th>t_0</th>\n",
       "      <td>-1</td>\n",
       "    </tr>\n",
       "    <tr>\n",
       "      <th>null_distribution</th>\n",
       "      <td>chi squared</td>\n",
       "    </tr>\n",
       "    <tr>\n",
       "      <th>degrees_of_freedom</th>\n",
       "      <td>1</td>\n",
       "    </tr>\n",
       "    <tr>\n",
       "      <th>alpha</th>\n",
       "      <td>0.99</td>\n",
       "    </tr>\n",
       "    <tr>\n",
       "      <th>test_name</th>\n",
       "      <td>logrank_test</td>\n",
       "    </tr>\n",
       "  </tbody>\n",
       "</table>\n",
       "</div><table border=\"1\" class=\"dataframe\">\n",
       "  <thead>\n",
       "    <tr style=\"text-align: right;\">\n",
       "      <th></th>\n",
       "      <th>test_statistic</th>\n",
       "      <th>p</th>\n",
       "      <th>-log2(p)</th>\n",
       "    </tr>\n",
       "  </thead>\n",
       "  <tbody>\n",
       "    <tr>\n",
       "      <th>0</th>\n",
       "      <td>7.96</td>\n",
       "      <td>&lt;0.005</td>\n",
       "      <td>7.71</td>\n",
       "    </tr>\n",
       "  </tbody>\n",
       "</table>"
      ],
      "text/latex": [
       "\\begin{tabular}{lrrr}\n",
       "\\toprule\n",
       "{} &  test\\_statistic &         p &  -log2(p) \\\\\n",
       "\\midrule\n",
       "0 &        7.958287 &  0.004787 &  7.706732 \\\\\n",
       "\\bottomrule\n",
       "\\end{tabular}\n"
      ],
      "text/plain": [
       "<lifelines.StatisticalResult: logrank_test>\n",
       "               t_0 = -1\n",
       " null_distribution = chi squared\n",
       "degrees_of_freedom = 1\n",
       "             alpha = 0.99\n",
       "         test_name = logrank_test\n",
       "\n",
       "---\n",
       " test_statistic      p  -log2(p)\n",
       "           7.96 <0.005      7.71"
      ]
     },
     "metadata": {},
     "output_type": "display_data"
    },
    {
     "name": "stdout",
     "output_type": "stream",
     "text": [
      "0.0047867688972855\n",
      "7.958287281123553\n"
     ]
    },
    {
     "data": {
      "image/png": "[encoded data removed]",
      "text/plain": [
       "<Figure size 360x360 with 1 Axes>"
      ]
     },
     "metadata": {
      "needs_background": "light"
     },
     "output_type": "display_data"
    }
   ],
   "source": [
    "ost=get_os(5)\n",
    "ost=ost[ost.Subgroup == 'SHH']\n",
    "km_os(ost,'out/km_os_shh.svg')"
   ]
  },
  {
   "cell_type": "code",
   "execution_count": 7,
   "metadata": {
    "ExecuteTime": {
     "end_time": "2023-07-20T22:15:46.508313Z",
     "start_time": "2023-07-20T22:15:45.840020Z"
    }
   },
   "outputs": [
    {
     "name": "stdout",
     "output_type": "stream",
     "text": [
      "Right-censoring 74 intervals to 5 years...\n",
      "n =  92\n",
      "Relapse_status\n",
      "False    62\n",
      "True     30\n",
      "Name: Relapse_status, dtype: int64\n"
     ]
    },
    {
     "name": "stderr",
     "output_type": "stream",
     "text": [
      "/home/ochapman/miniconda3/envs/py3/lib/python3.10/site-packages/lifelines/statistics.py:143: FutureWarning: In future versions `DataFrame.to_latex` is expected to utilise the base implementation of `Styler.to_latex` for formatting and rendering. The arguments signature may therefore change. It is recommended instead to use `DataFrame.style.to_latex` which also contains additional functionality.\n",
      "  return self.summary.to_latex()\n"
     ]
    },
    {
     "data": {
      "text/html": [
       "<div>\n",
       "<style scoped>\n",
       "    .dataframe tbody tr th:only-of-type {\n",
       "        vertical-align: middle;\n",
       "    }\n",
       "\n",
       "    .dataframe tbody tr th {\n",
       "        vertical-align: top;\n",
       "    }\n",
       "\n",
       "    .dataframe thead th {\n",
       "        text-align: right;\n",
       "    }\n",
       "</style>\n",
       "<table border=\"1\" class=\"dataframe\">\n",
       "  <tbody>\n",
       "    <tr>\n",
       "      <th>t_0</th>\n",
       "      <td>-1</td>\n",
       "    </tr>\n",
       "    <tr>\n",
       "      <th>null_distribution</th>\n",
       "      <td>chi squared</td>\n",
       "    </tr>\n",
       "    <tr>\n",
       "      <th>degrees_of_freedom</th>\n",
       "      <td>1</td>\n",
       "    </tr>\n",
       "    <tr>\n",
       "      <th>alpha</th>\n",
       "      <td>0.99</td>\n",
       "    </tr>\n",
       "    <tr>\n",
       "      <th>test_name</th>\n",
       "      <td>logrank_test</td>\n",
       "    </tr>\n",
       "  </tbody>\n",
       "</table>\n",
       "</div><table border=\"1\" class=\"dataframe\">\n",
       "  <thead>\n",
       "    <tr style=\"text-align: right;\">\n",
       "      <th></th>\n",
       "      <th>test_statistic</th>\n",
       "      <th>p</th>\n",
       "      <th>-log2(p)</th>\n",
       "    </tr>\n",
       "  </thead>\n",
       "  <tbody>\n",
       "    <tr>\n",
       "      <th>0</th>\n",
       "      <td>2.87</td>\n",
       "      <td>0.09</td>\n",
       "      <td>3.47</td>\n",
       "    </tr>\n",
       "  </tbody>\n",
       "</table>"
      ],
      "text/latex": [
       "\\begin{tabular}{lrrr}\n",
       "\\toprule\n",
       "{} &  test\\_statistic &         p &  -log2(p) \\\\\n",
       "\\midrule\n",
       "0 &        2.871058 &  0.090186 &  3.470959 \\\\\n",
       "\\bottomrule\n",
       "\\end{tabular}\n"
      ],
      "text/plain": [
       "<lifelines.StatisticalResult: logrank_test>\n",
       "               t_0 = -1\n",
       " null_distribution = chi squared\n",
       "degrees_of_freedom = 1\n",
       "             alpha = 0.99\n",
       "         test_name = logrank_test\n",
       "\n",
       "---\n",
       " test_statistic    p  -log2(p)\n",
       "           2.87 0.09      3.47"
      ]
     },
     "metadata": {},
     "output_type": "display_data"
    },
    {
     "name": "stdout",
     "output_type": "stream",
     "text": [
      "0.09018558396713668\n",
      "2.8710576683602076\n"
     ]
    },
    {
     "data": {
      "image/png": "[encoded data removed]",
      "text/plain": [
       "<Figure size 360x360 with 1 Axes>"
      ]
     },
     "metadata": {
      "needs_background": "light"
     },
     "output_type": "display_data"
    }
   ],
   "source": [
    "pfs = get_pfs(5)\n",
    "pfs = pfs[pfs.Subgroup == 'SHH']\n",
    "km_pfs(pfs, 'out/km_pfs_shh.svg')"
   ]
  },
  {
   "cell_type": "markdown",
   "metadata": {},
   "source": [
    "## G3"
   ]
  },
  {
   "cell_type": "code",
   "execution_count": 8,
   "metadata": {
    "ExecuteTime": {
     "end_time": "2023-07-20T22:18:30.477962Z",
     "start_time": "2023-07-20T22:18:29.746711Z"
    }
   },
   "outputs": [
    {
     "name": "stdout",
     "output_type": "stream",
     "text": [
      "Right-censoring 78 intervals to 5 years...\n",
      "n =  88\n",
      "Vital_status\n",
      "False    55\n",
      "True     33\n",
      "Name: Vital_status, dtype: int64\n"
     ]
    },
    {
     "name": "stderr",
     "output_type": "stream",
     "text": [
      "/home/ochapman/miniconda3/envs/py3/lib/python3.10/site-packages/lifelines/statistics.py:143: FutureWarning: In future versions `DataFrame.to_latex` is expected to utilise the base implementation of `Styler.to_latex` for formatting and rendering. The arguments signature may therefore change. It is recommended instead to use `DataFrame.style.to_latex` which also contains additional functionality.\n",
      "  return self.summary.to_latex()\n"
     ]
    },
    {
     "data": {
      "text/html": [
       "<div>\n",
       "<style scoped>\n",
       "    .dataframe tbody tr th:only-of-type {\n",
       "        vertical-align: middle;\n",
       "    }\n",
       "\n",
       "    .dataframe tbody tr th {\n",
       "        vertical-align: top;\n",
       "    }\n",
       "\n",
       "    .dataframe thead th {\n",
       "        text-align: right;\n",
       "    }\n",
       "</style>\n",
       "<table border=\"1\" class=\"dataframe\">\n",
       "  <tbody>\n",
       "    <tr>\n",
       "      <th>t_0</th>\n",
       "      <td>-1</td>\n",
       "    </tr>\n",
       "    <tr>\n",
       "      <th>null_distribution</th>\n",
       "      <td>chi squared</td>\n",
       "    </tr>\n",
       "    <tr>\n",
       "      <th>degrees_of_freedom</th>\n",
       "      <td>1</td>\n",
       "    </tr>\n",
       "    <tr>\n",
       "      <th>alpha</th>\n",
       "      <td>0.99</td>\n",
       "    </tr>\n",
       "    <tr>\n",
       "      <th>test_name</th>\n",
       "      <td>logrank_test</td>\n",
       "    </tr>\n",
       "  </tbody>\n",
       "</table>\n",
       "</div><table border=\"1\" class=\"dataframe\">\n",
       "  <thead>\n",
       "    <tr style=\"text-align: right;\">\n",
       "      <th></th>\n",
       "      <th>test_statistic</th>\n",
       "      <th>p</th>\n",
       "      <th>-log2(p)</th>\n",
       "    </tr>\n",
       "  </thead>\n",
       "  <tbody>\n",
       "    <tr>\n",
       "      <th>0</th>\n",
       "      <td>6.73</td>\n",
       "      <td>0.01</td>\n",
       "      <td>6.72</td>\n",
       "    </tr>\n",
       "  </tbody>\n",
       "</table>"
      ],
      "text/latex": [
       "\\begin{tabular}{lrrr}\n",
       "\\toprule\n",
       "{} &  test\\_statistic &         p &  -log2(p) \\\\\n",
       "\\midrule\n",
       "0 &        6.733058 &  0.009464 &  6.723301 \\\\\n",
       "\\bottomrule\n",
       "\\end{tabular}\n"
      ],
      "text/plain": [
       "<lifelines.StatisticalResult: logrank_test>\n",
       "               t_0 = -1\n",
       " null_distribution = chi squared\n",
       "degrees_of_freedom = 1\n",
       "             alpha = 0.99\n",
       "         test_name = logrank_test\n",
       "\n",
       "---\n",
       " test_statistic    p  -log2(p)\n",
       "           6.73 0.01      6.72"
      ]
     },
     "metadata": {},
     "output_type": "display_data"
    },
    {
     "name": "stdout",
     "output_type": "stream",
     "text": [
      "0.009464220331142668\n",
      "6.7330581341164395\n"
     ]
    },
    {
     "data": {
      "image/png": "[encoded data removed]",
      "text/plain": [
       "<Figure size 360x360 with 1 Axes>"
      ]
     },
     "metadata": {
      "needs_background": "light"
     },
     "output_type": "display_data"
    }
   ],
   "source": [
    "ost=get_os(5)\n",
    "ost=ost[ost.Subgroup == 'G3']\n",
    "km_os(ost,'out/km_os_g3.svg')"
   ]
  },
  {
   "cell_type": "code",
   "execution_count": 9,
   "metadata": {
    "ExecuteTime": {
     "end_time": "2023-07-20T22:18:31.318699Z",
     "start_time": "2023-07-20T22:18:30.482880Z"
    },
    "scrolled": false
   },
   "outputs": [
    {
     "name": "stdout",
     "output_type": "stream",
     "text": [
      "Right-censoring 74 intervals to 5 years...\n",
      "n =  88\n",
      "Relapse_status\n",
      "False    54\n",
      "True     34\n",
      "Name: Relapse_status, dtype: int64\n"
     ]
    },
    {
     "name": "stderr",
     "output_type": "stream",
     "text": [
      "/home/ochapman/miniconda3/envs/py3/lib/python3.10/site-packages/lifelines/statistics.py:143: FutureWarning: In future versions `DataFrame.to_latex` is expected to utilise the base implementation of `Styler.to_latex` for formatting and rendering. The arguments signature may therefore change. It is recommended instead to use `DataFrame.style.to_latex` which also contains additional functionality.\n",
      "  return self.summary.to_latex()\n"
     ]
    },
    {
     "data": {
      "text/html": [
       "<div>\n",
       "<style scoped>\n",
       "    .dataframe tbody tr th:only-of-type {\n",
       "        vertical-align: middle;\n",
       "    }\n",
       "\n",
       "    .dataframe tbody tr th {\n",
       "        vertical-align: top;\n",
       "    }\n",
       "\n",
       "    .dataframe thead th {\n",
       "        text-align: right;\n",
       "    }\n",
       "</style>\n",
       "<table border=\"1\" class=\"dataframe\">\n",
       "  <tbody>\n",
       "    <tr>\n",
       "      <th>t_0</th>\n",
       "      <td>-1</td>\n",
       "    </tr>\n",
       "    <tr>\n",
       "      <th>null_distribution</th>\n",
       "      <td>chi squared</td>\n",
       "    </tr>\n",
       "    <tr>\n",
       "      <th>degrees_of_freedom</th>\n",
       "      <td>1</td>\n",
       "    </tr>\n",
       "    <tr>\n",
       "      <th>alpha</th>\n",
       "      <td>0.99</td>\n",
       "    </tr>\n",
       "    <tr>\n",
       "      <th>test_name</th>\n",
       "      <td>logrank_test</td>\n",
       "    </tr>\n",
       "  </tbody>\n",
       "</table>\n",
       "</div><table border=\"1\" class=\"dataframe\">\n",
       "  <thead>\n",
       "    <tr style=\"text-align: right;\">\n",
       "      <th></th>\n",
       "      <th>test_statistic</th>\n",
       "      <th>p</th>\n",
       "      <th>-log2(p)</th>\n",
       "    </tr>\n",
       "  </thead>\n",
       "  <tbody>\n",
       "    <tr>\n",
       "      <th>0</th>\n",
       "      <td>5.67</td>\n",
       "      <td>0.02</td>\n",
       "      <td>5.85</td>\n",
       "    </tr>\n",
       "  </tbody>\n",
       "</table>"
      ],
      "text/latex": [
       "\\begin{tabular}{lrrr}\n",
       "\\toprule\n",
       "{} &  test\\_statistic &         p &  -log2(p) \\\\\n",
       "\\midrule\n",
       "0 &        5.665005 &  0.017307 &  5.852529 \\\\\n",
       "\\bottomrule\n",
       "\\end{tabular}\n"
      ],
      "text/plain": [
       "<lifelines.StatisticalResult: logrank_test>\n",
       "               t_0 = -1\n",
       " null_distribution = chi squared\n",
       "degrees_of_freedom = 1\n",
       "             alpha = 0.99\n",
       "         test_name = logrank_test\n",
       "\n",
       "---\n",
       " test_statistic    p  -log2(p)\n",
       "           5.67 0.02      5.85"
      ]
     },
     "metadata": {},
     "output_type": "display_data"
    },
    {
     "name": "stdout",
     "output_type": "stream",
     "text": [
      "0.017306663184161502\n",
      "5.665005454197943\n"
     ]
    },
    {
     "data": {
      "image/png": "[encoded data removed]",
      "text/plain": [
       "<Figure size 360x360 with 1 Axes>"
      ]
     },
     "metadata": {
      "needs_background": "light"
     },
     "output_type": "display_data"
    }
   ],
   "source": [
    "pfs = get_pfs(5)\n",
    "pfs = pfs[pfs.Subgroup == 'G3']\n",
    "km_pfs(pfs, 'out/km_pfs_g3.svg')"
   ]
  },
  {
   "cell_type": "markdown",
   "metadata": {},
   "source": [
    "## G4"
   ]
  },
  {
   "cell_type": "code",
   "execution_count": 10,
   "metadata": {
    "ExecuteTime": {
     "end_time": "2023-07-20T22:19:59.553110Z",
     "start_time": "2023-07-20T22:19:58.900777Z"
    }
   },
   "outputs": [
    {
     "name": "stdout",
     "output_type": "stream",
     "text": [
      "Right-censoring 78 intervals to 5 years...\n",
      "n =  153\n",
      "Vital_status\n",
      "False    137\n",
      "True      16\n",
      "Name: Vital_status, dtype: int64\n"
     ]
    },
    {
     "name": "stderr",
     "output_type": "stream",
     "text": [
      "/home/ochapman/miniconda3/envs/py3/lib/python3.10/site-packages/lifelines/statistics.py:143: FutureWarning: In future versions `DataFrame.to_latex` is expected to utilise the base implementation of `Styler.to_latex` for formatting and rendering. The arguments signature may therefore change. It is recommended instead to use `DataFrame.style.to_latex` which also contains additional functionality.\n",
      "  return self.summary.to_latex()\n"
     ]
    },
    {
     "data": {
      "text/html": [
       "<div>\n",
       "<style scoped>\n",
       "    .dataframe tbody tr th:only-of-type {\n",
       "        vertical-align: middle;\n",
       "    }\n",
       "\n",
       "    .dataframe tbody tr th {\n",
       "        vertical-align: top;\n",
       "    }\n",
       "\n",
       "    .dataframe thead th {\n",
       "        text-align: right;\n",
       "    }\n",
       "</style>\n",
       "<table border=\"1\" class=\"dataframe\">\n",
       "  <tbody>\n",
       "    <tr>\n",
       "      <th>t_0</th>\n",
       "      <td>-1</td>\n",
       "    </tr>\n",
       "    <tr>\n",
       "      <th>null_distribution</th>\n",
       "      <td>chi squared</td>\n",
       "    </tr>\n",
       "    <tr>\n",
       "      <th>degrees_of_freedom</th>\n",
       "      <td>1</td>\n",
       "    </tr>\n",
       "    <tr>\n",
       "      <th>alpha</th>\n",
       "      <td>0.99</td>\n",
       "    </tr>\n",
       "    <tr>\n",
       "      <th>test_name</th>\n",
       "      <td>logrank_test</td>\n",
       "    </tr>\n",
       "  </tbody>\n",
       "</table>\n",
       "</div><table border=\"1\" class=\"dataframe\">\n",
       "  <thead>\n",
       "    <tr style=\"text-align: right;\">\n",
       "      <th></th>\n",
       "      <th>test_statistic</th>\n",
       "      <th>p</th>\n",
       "      <th>-log2(p)</th>\n",
       "    </tr>\n",
       "  </thead>\n",
       "  <tbody>\n",
       "    <tr>\n",
       "      <th>0</th>\n",
       "      <td>6.99</td>\n",
       "      <td>0.01</td>\n",
       "      <td>6.93</td>\n",
       "    </tr>\n",
       "  </tbody>\n",
       "</table>"
      ],
      "text/latex": [
       "\\begin{tabular}{lrrr}\n",
       "\\toprule\n",
       "{} &  test\\_statistic &         p &  -log2(p) \\\\\n",
       "\\midrule\n",
       "0 &        6.990209 &  0.008196 &  6.930921 \\\\\n",
       "\\bottomrule\n",
       "\\end{tabular}\n"
      ],
      "text/plain": [
       "<lifelines.StatisticalResult: logrank_test>\n",
       "               t_0 = -1\n",
       " null_distribution = chi squared\n",
       "degrees_of_freedom = 1\n",
       "             alpha = 0.99\n",
       "         test_name = logrank_test\n",
       "\n",
       "---\n",
       " test_statistic    p  -log2(p)\n",
       "           6.99 0.01      6.93"
      ]
     },
     "metadata": {},
     "output_type": "display_data"
    },
    {
     "name": "stdout",
     "output_type": "stream",
     "text": [
      "0.00819567744919772\n",
      "6.990209192058147\n"
     ]
    },
    {
     "data": {
      "image/png": "[encoded data removed]",
      "text/plain": [
       "<Figure size 360x360 with 1 Axes>"
      ]
     },
     "metadata": {
      "needs_background": "light"
     },
     "output_type": "display_data"
    }
   ],
   "source": [
    "ost=get_os(5)\n",
    "ost=ost[ost.Subgroup == 'G4']\n",
    "km_os(ost,'out/km_os_g4.svg')"
   ]
  },
  {
   "cell_type": "code",
   "execution_count": 11,
   "metadata": {
    "ExecuteTime": {
     "end_time": "2023-07-20T22:20:00.326937Z",
     "start_time": "2023-07-20T22:19:59.555982Z"
    }
   },
   "outputs": [
    {
     "name": "stdout",
     "output_type": "stream",
     "text": [
      "Right-censoring 74 intervals to 5 years...\n",
      "n =  153\n",
      "Relapse_status\n",
      "False    130\n",
      "True      23\n",
      "Name: Relapse_status, dtype: int64\n"
     ]
    },
    {
     "name": "stderr",
     "output_type": "stream",
     "text": [
      "/home/ochapman/miniconda3/envs/py3/lib/python3.10/site-packages/lifelines/statistics.py:143: FutureWarning: In future versions `DataFrame.to_latex` is expected to utilise the base implementation of `Styler.to_latex` for formatting and rendering. The arguments signature may therefore change. It is recommended instead to use `DataFrame.style.to_latex` which also contains additional functionality.\n",
      "  return self.summary.to_latex()\n"
     ]
    },
    {
     "data": {
      "text/html": [
       "<div>\n",
       "<style scoped>\n",
       "    .dataframe tbody tr th:only-of-type {\n",
       "        vertical-align: middle;\n",
       "    }\n",
       "\n",
       "    .dataframe tbody tr th {\n",
       "        vertical-align: top;\n",
       "    }\n",
       "\n",
       "    .dataframe thead th {\n",
       "        text-align: right;\n",
       "    }\n",
       "</style>\n",
       "<table border=\"1\" class=\"dataframe\">\n",
       "  <tbody>\n",
       "    <tr>\n",
       "      <th>t_0</th>\n",
       "      <td>-1</td>\n",
       "    </tr>\n",
       "    <tr>\n",
       "      <th>null_distribution</th>\n",
       "      <td>chi squared</td>\n",
       "    </tr>\n",
       "    <tr>\n",
       "      <th>degrees_of_freedom</th>\n",
       "      <td>1</td>\n",
       "    </tr>\n",
       "    <tr>\n",
       "      <th>alpha</th>\n",
       "      <td>0.99</td>\n",
       "    </tr>\n",
       "    <tr>\n",
       "      <th>test_name</th>\n",
       "      <td>logrank_test</td>\n",
       "    </tr>\n",
       "  </tbody>\n",
       "</table>\n",
       "</div><table border=\"1\" class=\"dataframe\">\n",
       "  <thead>\n",
       "    <tr style=\"text-align: right;\">\n",
       "      <th></th>\n",
       "      <th>test_statistic</th>\n",
       "      <th>p</th>\n",
       "      <th>-log2(p)</th>\n",
       "    </tr>\n",
       "  </thead>\n",
       "  <tbody>\n",
       "    <tr>\n",
       "      <th>0</th>\n",
       "      <td>5.16</td>\n",
       "      <td>0.02</td>\n",
       "      <td>5.44</td>\n",
       "    </tr>\n",
       "  </tbody>\n",
       "</table>"
      ],
      "text/latex": [
       "\\begin{tabular}{lrrr}\n",
       "\\toprule\n",
       "{} &  test\\_statistic &         p &  -log2(p) \\\\\n",
       "\\midrule\n",
       "0 &        5.163562 &  0.023066 &  5.438117 \\\\\n",
       "\\bottomrule\n",
       "\\end{tabular}\n"
      ],
      "text/plain": [
       "<lifelines.StatisticalResult: logrank_test>\n",
       "               t_0 = -1\n",
       " null_distribution = chi squared\n",
       "degrees_of_freedom = 1\n",
       "             alpha = 0.99\n",
       "         test_name = logrank_test\n",
       "\n",
       "---\n",
       " test_statistic    p  -log2(p)\n",
       "           5.16 0.02      5.44"
      ]
     },
     "metadata": {},
     "output_type": "display_data"
    },
    {
     "name": "stdout",
     "output_type": "stream",
     "text": [
      "0.023065546139852705\n",
      "5.16356194347712\n"
     ]
    },
    {
     "data": {
      "image/png": "[encoded data removed]",
      "text/plain": [
       "<Figure size 360x360 with 1 Axes>"
      ]
     },
     "metadata": {
      "needs_background": "light"
     },
     "output_type": "display_data"
    }
   ],
   "source": [
    "pfs = get_pfs(5)\n",
    "pfs = pfs[pfs.Subgroup == 'G4']\n",
    "km_pfs(pfs, 'out/km_pfs_g4.svg')"
   ]
  },
  {
   "cell_type": "markdown",
   "metadata": {
    "ExecuteTime": {
     "end_time": "2022-10-07T20:33:26.050946Z",
     "start_time": "2022-10-07T20:33:25.892947Z"
    },
    "heading_collapsed": true
   },
   "source": [
    "# Survival by amplification type"
   ]
  },
  {
   "cell_type": "code",
   "execution_count": 13,
   "metadata": {
    "ExecuteTime": {
     "end_time": "2022-10-07T21:15:44.241738Z",
     "start_time": "2022-10-07T21:15:44.223130Z"
    },
    "code_folding": [
     38,
     114
    ],
    "hidden": true
   },
   "outputs": [],
   "source": [
    "# AmpliconClassifier annotations using custom code.\n",
    "\n",
    "def _classify_patient(series):\n",
    "    '''\n",
    "    Helper function. See label_patients_by_AC_class.\n",
    "    Inputs:\n",
    "        series: pd.Series\n",
    "    Returns: string\n",
    "    '''\n",
    "    if series.ecDNA:\n",
    "        return 'ecDNA'\n",
    "    elif series.BFB:\n",
    "        return 'BFB'\n",
    "    elif series['complex non-cyclic']:\n",
    "        return 'complex non-cyclic'\n",
    "    elif series.linear:\n",
    "        return 'linear'\n",
    "    else:\n",
    "        return 'no fSCNA'\n",
    "\n",
    "def label_patients_by_AC_class(pts):\n",
    "    ac = get.medullo_AmpliconClassifier()\n",
    "    pts['BFB'] = False\n",
    "    pts['complex non-cyclic'] = False\n",
    "    pts['linear'] = False\n",
    "    for i in range(len(ac)):\n",
    "        row = ac.iloc[i]\n",
    "        pt = row.Patient_ID\n",
    "        if pt in pts.index:\n",
    "            if row['BFB+'] == 'Positive':\n",
    "                pts.loc[pt,'BFB'] = True\n",
    "            if row['amplicon_decomposition_class'] == 'Linear amplification':\n",
    "                pts.loc[pt,'linear'] = True\n",
    "            if row['amplicon_decomposition_class'] == 'Complex non-cyclic':\n",
    "                pts.loc[pt,'complex non-cyclic'] = True\n",
    "        pts['AmpliconClass'] = pts.apply(func=_classify_patient,axis=1)\n",
    "    return pts\n",
    "\n",
    "def km_pfs_amp_type(pfs,outfile=None):\n",
    "    '''\n",
    "    Assumes pfs is a dataframe with the following columns:\n",
    "        AmpliconClass (string)\n",
    "        Relapse_interval_years (float)\n",
    "        Relapse_status (float)\n",
    "    '''\n",
    "    kmf = lifelines.KaplanMeierFitter()\n",
    "\n",
    "    ix = pfs['AmpliconClass']\n",
    "    T = pfs['Relapse_interval_years']\n",
    "    E = pfs['Relapse_status']\n",
    "\n",
    "    fig = plt.figure(figsize=(5,5))\n",
    "    ax = plt.subplot(111)\n",
    "    ax.set_ylim([0.0, 1.02])\n",
    "    \n",
    "    for cat in ix.unique():\n",
    "        i = ix==cat\n",
    "        kmf.fit(T[i], E[i], label=f'{cat} (n={str(len(E[i]))})')\n",
    "        ax = kmf.plot(ax=ax,show_censors=True,ci_show=False,censor_styles={'ms':6})\n",
    "\n",
    "    sns.despine()\n",
    "    for item in ([ax.xaxis.label, ax.yaxis.label] +\n",
    "                 ax.get_xticklabels() + ax.get_yticklabels()):\n",
    "        item.set_fontsize(14)\n",
    "    ax.set_xlabel(\"Time to event (Years)\")\n",
    "    ax.set_ylabel(\"Progression-free survival (PFS)\")\n",
    "    \n",
    "    # Save figure\n",
    "    if outfile != None:\n",
    "        plt.savefig(outfile)\n",
    "    \n",
    "    # Print statistics\n",
    "    print(\"n = \",len(T))\n",
    "    cts = E.groupby(E).count()\n",
    "    print(cts)\n",
    "\n",
    "def km_os_amp_type(os_tbl,outfile=None):\n",
    "    '''\n",
    "    Assumes os_tbl is a dataframe with the following columns:\n",
    "        AmpliconClass (string)\n",
    "        Survival_time_years (float)\n",
    "        Vital_status (float)\n",
    "    '''\n",
    "    kmf = lifelines.KaplanMeierFitter()\n",
    "\n",
    "    ix = os_tbl['AmpliconClass']\n",
    "    T = os_tbl['Survival_time_years']\n",
    "    E = os_tbl['Vital_status']\n",
    "\n",
    "    fig = plt.figure(figsize=(5,5))\n",
    "    ax = plt.subplot(111)\n",
    "    ax.set_ylim([0.0, 1.02])\n",
    "    \n",
    "    for cat in ix.unique():\n",
    "        i = ix==cat\n",
    "        kmf.fit(T[i], E[i], label=f'{cat} (n={str(len(E[i]))})')\n",
    "        ax = kmf.plot(ax=ax,show_censors=True,ci_show=False,censor_styles={'ms':6})\n",
    "\n",
    "    sns.despine()\n",
    "    for item in ([ax.xaxis.label, ax.yaxis.label] +\n",
    "                 ax.get_xticklabels() + ax.get_yticklabels()):\n",
    "        item.set_fontsize(14)\n",
    "    ax.set_xlabel(\"Time to event (Years)\")\n",
    "    ax.set_ylabel(\"Overall survival (OS)\")\n",
    "    \n",
    "    # Save figure\n",
    "    if outfile != None:\n",
    "        plt.savefig(outfile)\n",
    "    \n",
    "    # Print statistics\n",
    "    print(\"n = \",len(T))\n",
    "    cts = E.groupby(E).count()\n",
    "    print(cts)\n",
    "    \n",
    "def logrank(T,E,ix1,ix2):\n",
    "    results = logrank_test(T[ix1], T[ix2], E[ix1], E[ix2], alpha=.99)\n",
    "\n",
    "    results.print_summary()\n",
    "    print(results.p_value)\n",
    "    print(results.test_statistic)\n",
    "    \n",
    "def logrank_pfs(pfs):\n",
    "    '''\n",
    "    Assumes pfs is a dataframe with the following columns:\n",
    "        AmpliconClass (string)\n",
    "        Relapse_interval_years (float)\n",
    "        Relapse_status (float)\n",
    "    '''\n",
    "    ix = pfs['AmpliconClass']\n",
    "    T = pfs['Relapse_interval_years']\n",
    "    E = pfs['Relapse_status']\n",
    "    cats = ix.unique()\n",
    "    for i in range(len(cats)):\n",
    "        for j in range(i+1,len(cats)):\n",
    "            c1 = cats[i]\n",
    "            c2 = cats[j]\n",
    "            print(f'Log-rank test: {c1} vs {c2}')\n",
    "            logrank(T,E,ix==c1,ix==c2)\n",
    "    return\n",
    "\n",
    "def logrank_os(ost):\n",
    "    '''\n",
    "    Assumes pfs is a dataframe with the following columns:\n",
    "        AmpliconClass (string)\n",
    "        Survival_time_years (float)\n",
    "        Vital_status (float)\n",
    "    '''\n",
    "    ix = ost['AmpliconClass']\n",
    "    T = ost['Survival_time_years']\n",
    "    E = ost['Vital_status']\n",
    "    cats = ix.unique()\n",
    "    for i in range(len(cats)):\n",
    "        for j in range(i+1,len(cats)):\n",
    "            c1 = cats[i]\n",
    "            c2 = cats[j]\n",
    "            print(f'Log-rank test: {c1} vs {c2}')\n",
    "            logrank(T,E,ix==c1,ix==c2)"
   ]
  },
  {
   "cell_type": "code",
   "execution_count": 14,
   "metadata": {
    "ExecuteTime": {
     "end_time": "2022-10-07T21:15:52.454278Z",
     "start_time": "2022-10-07T21:15:44.680138Z"
    },
    "hidden": true
   },
   "outputs": [
    {
     "name": "stdout",
     "output_type": "stream",
     "text": [
      "Right-censoring 74 intervals to 5 years...\n",
      "n =  338\n",
      "Relapse_status\n",
      "False    251\n",
      "True      87\n",
      "Name: Relapse_status, dtype: int64\n"
     ]
    },
    {
     "data": {
      "image/png": "[encoded data removed]",
      "text/plain": [
       "<Figure size 360x360 with 1 Axes>"
      ]
     },
     "metadata": {
      "needs_background": "light"
     },
     "output_type": "display_data"
    }
   ],
   "source": [
    "pfs = get_pfs(censor_years=5)\n",
    "pfs = label_patients_by_AC_class(pfs)\n",
    "pfs = pfs[pfs.AmpliconClass != 'BFB'] # at n = 2, this is uninformative.\n",
    "pfs = pfs[pfs.Subgroup != 'WNT']\n",
    "km_pfs_amp_type(pfs,outfile='out/km_pfs_by_amp_type.svg')"
   ]
  },
  {
   "cell_type": "code",
   "execution_count": 15,
   "metadata": {
    "ExecuteTime": {
     "end_time": "2022-10-07T21:15:52.859066Z",
     "start_time": "2022-10-07T21:15:52.456866Z"
    },
    "hidden": true
   },
   "outputs": [
    {
     "name": "stdout",
     "output_type": "stream",
     "text": [
      "Log-rank test: no fSCNA vs ecDNA\n"
     ]
    },
    {
     "name": "stderr",
     "output_type": "stream",
     "text": [
      "/home/ochapman/miniconda3/envs/py3/lib/python3.10/site-packages/lifelines/statistics.py:143: FutureWarning: In future versions `DataFrame.to_latex` is expected to utilise the base implementation of `Styler.to_latex` for formatting and rendering. The arguments signature may therefore change. It is recommended instead to use `DataFrame.style.to_latex` which also contains additional functionality.\n",
      "  return self.summary.to_latex()\n"
     ]
    },
    {
     "data": {
      "text/html": [
       "<div>\n",
       "<style scoped>\n",
       "    .dataframe tbody tr th:only-of-type {\n",
       "        vertical-align: middle;\n",
       "    }\n",
       "\n",
       "    .dataframe tbody tr th {\n",
       "        vertical-align: top;\n",
       "    }\n",
       "\n",
       "    .dataframe thead th {\n",
       "        text-align: right;\n",
       "    }\n",
       "</style>\n",
       "<table border=\"1\" class=\"dataframe\">\n",
       "  <tbody>\n",
       "    <tr>\n",
       "      <th>t_0</th>\n",
       "      <td>-1</td>\n",
       "    </tr>\n",
       "    <tr>\n",
       "      <th>null_distribution</th>\n",
       "      <td>chi squared</td>\n",
       "    </tr>\n",
       "    <tr>\n",
       "      <th>degrees_of_freedom</th>\n",
       "      <td>1</td>\n",
       "    </tr>\n",
       "    <tr>\n",
       "      <th>alpha</th>\n",
       "      <td>0.99</td>\n",
       "    </tr>\n",
       "    <tr>\n",
       "      <th>test_name</th>\n",
       "      <td>logrank_test</td>\n",
       "    </tr>\n",
       "  </tbody>\n",
       "</table>\n",
       "</div><table border=\"1\" class=\"dataframe\">\n",
       "  <thead>\n",
       "    <tr style=\"text-align: right;\">\n",
       "      <th></th>\n",
       "      <th>test_statistic</th>\n",
       "      <th>p</th>\n",
       "      <th>-log2(p)</th>\n",
       "    </tr>\n",
       "  </thead>\n",
       "  <tbody>\n",
       "    <tr>\n",
       "      <th>0</th>\n",
       "      <td>15.31</td>\n",
       "      <td>&lt;0.005</td>\n",
       "      <td>13.42</td>\n",
       "    </tr>\n",
       "  </tbody>\n",
       "</table>"
      ],
      "text/latex": [
       "\\begin{tabular}{lrrr}\n",
       "\\toprule\n",
       "{} &  test\\_statistic &         p &   -log2(p) \\\\\n",
       "\\midrule\n",
       "0 &       15.309904 &  0.000091 &  13.420023 \\\\\n",
       "\\bottomrule\n",
       "\\end{tabular}\n"
      ],
      "text/plain": [
       "<lifelines.StatisticalResult: logrank_test>\n",
       "               t_0 = -1\n",
       " null_distribution = chi squared\n",
       "degrees_of_freedom = 1\n",
       "             alpha = 0.99\n",
       "         test_name = logrank_test\n",
       "\n",
       "---\n",
       " test_statistic      p  -log2(p)\n",
       "          15.31 <0.005     13.42"
      ]
     },
     "metadata": {},
     "output_type": "display_data"
    },
    {
     "name": "stdout",
     "output_type": "stream",
     "text": [
      "9.123691265436295e-05\n",
      "15.309904018469833\n",
      "Log-rank test: no fSCNA vs linear\n"
     ]
    },
    {
     "name": "stderr",
     "output_type": "stream",
     "text": [
      "/home/ochapman/miniconda3/envs/py3/lib/python3.10/site-packages/lifelines/statistics.py:143: FutureWarning: In future versions `DataFrame.to_latex` is expected to utilise the base implementation of `Styler.to_latex` for formatting and rendering. The arguments signature may therefore change. It is recommended instead to use `DataFrame.style.to_latex` which also contains additional functionality.\n",
      "  return self.summary.to_latex()\n"
     ]
    },
    {
     "data": {
      "text/html": [
       "<div>\n",
       "<style scoped>\n",
       "    .dataframe tbody tr th:only-of-type {\n",
       "        vertical-align: middle;\n",
       "    }\n",
       "\n",
       "    .dataframe tbody tr th {\n",
       "        vertical-align: top;\n",
       "    }\n",
       "\n",
       "    .dataframe thead th {\n",
       "        text-align: right;\n",
       "    }\n",
       "</style>\n",
       "<table border=\"1\" class=\"dataframe\">\n",
       "  <tbody>\n",
       "    <tr>\n",
       "      <th>t_0</th>\n",
       "      <td>-1</td>\n",
       "    </tr>\n",
       "    <tr>\n",
       "      <th>null_distribution</th>\n",
       "      <td>chi squared</td>\n",
       "    </tr>\n",
       "    <tr>\n",
       "      <th>degrees_of_freedom</th>\n",
       "      <td>1</td>\n",
       "    </tr>\n",
       "    <tr>\n",
       "      <th>alpha</th>\n",
       "      <td>0.99</td>\n",
       "    </tr>\n",
       "    <tr>\n",
       "      <th>test_name</th>\n",
       "      <td>logrank_test</td>\n",
       "    </tr>\n",
       "  </tbody>\n",
       "</table>\n",
       "</div><table border=\"1\" class=\"dataframe\">\n",
       "  <thead>\n",
       "    <tr style=\"text-align: right;\">\n",
       "      <th></th>\n",
       "      <th>test_statistic</th>\n",
       "      <th>p</th>\n",
       "      <th>-log2(p)</th>\n",
       "    </tr>\n",
       "  </thead>\n",
       "  <tbody>\n",
       "    <tr>\n",
       "      <th>0</th>\n",
       "      <td>0.24</td>\n",
       "      <td>0.62</td>\n",
       "      <td>0.68</td>\n",
       "    </tr>\n",
       "  </tbody>\n",
       "</table>"
      ],
      "text/latex": [
       "\\begin{tabular}{lrrr}\n",
       "\\toprule\n",
       "{} &  test\\_statistic &         p &  -log2(p) \\\\\n",
       "\\midrule\n",
       "0 &        0.241231 &  0.623319 &  0.681958 \\\\\n",
       "\\bottomrule\n",
       "\\end{tabular}\n"
      ],
      "text/plain": [
       "<lifelines.StatisticalResult: logrank_test>\n",
       "               t_0 = -1\n",
       " null_distribution = chi squared\n",
       "degrees_of_freedom = 1\n",
       "             alpha = 0.99\n",
       "         test_name = logrank_test\n",
       "\n",
       "---\n",
       " test_statistic    p  -log2(p)\n",
       "           0.24 0.62      0.68"
      ]
     },
     "metadata": {},
     "output_type": "display_data"
    },
    {
     "name": "stdout",
     "output_type": "stream",
     "text": [
      "0.6233187295854905\n",
      "0.2412305867880166\n",
      "Log-rank test: no fSCNA vs complex non-cyclic\n"
     ]
    },
    {
     "name": "stderr",
     "output_type": "stream",
     "text": [
      "/home/ochapman/miniconda3/envs/py3/lib/python3.10/site-packages/lifelines/statistics.py:143: FutureWarning: In future versions `DataFrame.to_latex` is expected to utilise the base implementation of `Styler.to_latex` for formatting and rendering. The arguments signature may therefore change. It is recommended instead to use `DataFrame.style.to_latex` which also contains additional functionality.\n",
      "  return self.summary.to_latex()\n"
     ]
    },
    {
     "data": {
      "text/html": [
       "<div>\n",
       "<style scoped>\n",
       "    .dataframe tbody tr th:only-of-type {\n",
       "        vertical-align: middle;\n",
       "    }\n",
       "\n",
       "    .dataframe tbody tr th {\n",
       "        vertical-align: top;\n",
       "    }\n",
       "\n",
       "    .dataframe thead th {\n",
       "        text-align: right;\n",
       "    }\n",
       "</style>\n",
       "<table border=\"1\" class=\"dataframe\">\n",
       "  <tbody>\n",
       "    <tr>\n",
       "      <th>t_0</th>\n",
       "      <td>-1</td>\n",
       "    </tr>\n",
       "    <tr>\n",
       "      <th>null_distribution</th>\n",
       "      <td>chi squared</td>\n",
       "    </tr>\n",
       "    <tr>\n",
       "      <th>degrees_of_freedom</th>\n",
       "      <td>1</td>\n",
       "    </tr>\n",
       "    <tr>\n",
       "      <th>alpha</th>\n",
       "      <td>0.99</td>\n",
       "    </tr>\n",
       "    <tr>\n",
       "      <th>test_name</th>\n",
       "      <td>logrank_test</td>\n",
       "    </tr>\n",
       "  </tbody>\n",
       "</table>\n",
       "</div><table border=\"1\" class=\"dataframe\">\n",
       "  <thead>\n",
       "    <tr style=\"text-align: right;\">\n",
       "      <th></th>\n",
       "      <th>test_statistic</th>\n",
       "      <th>p</th>\n",
       "      <th>-log2(p)</th>\n",
       "    </tr>\n",
       "  </thead>\n",
       "  <tbody>\n",
       "    <tr>\n",
       "      <th>0</th>\n",
       "      <td>4.48</td>\n",
       "      <td>0.03</td>\n",
       "      <td>4.86</td>\n",
       "    </tr>\n",
       "  </tbody>\n",
       "</table>"
      ],
      "text/latex": [
       "\\begin{tabular}{lrrr}\n",
       "\\toprule\n",
       "{} &  test\\_statistic &         p &  -log2(p) \\\\\n",
       "\\midrule\n",
       "0 &        4.475017 &  0.034394 &  4.861705 \\\\\n",
       "\\bottomrule\n",
       "\\end{tabular}\n"
      ],
      "text/plain": [
       "<lifelines.StatisticalResult: logrank_test>\n",
       "               t_0 = -1\n",
       " null_distribution = chi squared\n",
       "degrees_of_freedom = 1\n",
       "             alpha = 0.99\n",
       "         test_name = logrank_test\n",
       "\n",
       "---\n",
       " test_statistic    p  -log2(p)\n",
       "           4.48 0.03      4.86"
      ]
     },
     "metadata": {},
     "output_type": "display_data"
    },
    {
     "name": "stdout",
     "output_type": "stream",
     "text": [
      "0.03439385748327859\n",
      "4.475017138948882\n",
      "Log-rank test: ecDNA vs linear\n"
     ]
    },
    {
     "name": "stderr",
     "output_type": "stream",
     "text": [
      "/home/ochapman/miniconda3/envs/py3/lib/python3.10/site-packages/lifelines/statistics.py:143: FutureWarning: In future versions `DataFrame.to_latex` is expected to utilise the base implementation of `Styler.to_latex` for formatting and rendering. The arguments signature may therefore change. It is recommended instead to use `DataFrame.style.to_latex` which also contains additional functionality.\n",
      "  return self.summary.to_latex()\n"
     ]
    },
    {
     "data": {
      "text/html": [
       "<div>\n",
       "<style scoped>\n",
       "    .dataframe tbody tr th:only-of-type {\n",
       "        vertical-align: middle;\n",
       "    }\n",
       "\n",
       "    .dataframe tbody tr th {\n",
       "        vertical-align: top;\n",
       "    }\n",
       "\n",
       "    .dataframe thead th {\n",
       "        text-align: right;\n",
       "    }\n",
       "</style>\n",
       "<table border=\"1\" class=\"dataframe\">\n",
       "  <tbody>\n",
       "    <tr>\n",
       "      <th>t_0</th>\n",
       "      <td>-1</td>\n",
       "    </tr>\n",
       "    <tr>\n",
       "      <th>null_distribution</th>\n",
       "      <td>chi squared</td>\n",
       "    </tr>\n",
       "    <tr>\n",
       "      <th>degrees_of_freedom</th>\n",
       "      <td>1</td>\n",
       "    </tr>\n",
       "    <tr>\n",
       "      <th>alpha</th>\n",
       "      <td>0.99</td>\n",
       "    </tr>\n",
       "    <tr>\n",
       "      <th>test_name</th>\n",
       "      <td>logrank_test</td>\n",
       "    </tr>\n",
       "  </tbody>\n",
       "</table>\n",
       "</div><table border=\"1\" class=\"dataframe\">\n",
       "  <thead>\n",
       "    <tr style=\"text-align: right;\">\n",
       "      <th></th>\n",
       "      <th>test_statistic</th>\n",
       "      <th>p</th>\n",
       "      <th>-log2(p)</th>\n",
       "    </tr>\n",
       "  </thead>\n",
       "  <tbody>\n",
       "    <tr>\n",
       "      <th>0</th>\n",
       "      <td>9.56</td>\n",
       "      <td>&lt;0.005</td>\n",
       "      <td>8.97</td>\n",
       "    </tr>\n",
       "  </tbody>\n",
       "</table>"
      ],
      "text/latex": [
       "\\begin{tabular}{lrrr}\n",
       "\\toprule\n",
       "{} &  test\\_statistic &         p &  -log2(p) \\\\\n",
       "\\midrule\n",
       "0 &         9.56043 &  0.001988 &  8.974347 \\\\\n",
       "\\bottomrule\n",
       "\\end{tabular}\n"
      ],
      "text/plain": [
       "<lifelines.StatisticalResult: logrank_test>\n",
       "               t_0 = -1\n",
       " null_distribution = chi squared\n",
       "degrees_of_freedom = 1\n",
       "             alpha = 0.99\n",
       "         test_name = logrank_test\n",
       "\n",
       "---\n",
       " test_statistic      p  -log2(p)\n",
       "           9.56 <0.005      8.97"
      ]
     },
     "metadata": {},
     "output_type": "display_data"
    },
    {
     "name": "stdout",
     "output_type": "stream",
     "text": [
      "0.0019881652968688854\n",
      "9.560430016794857\n",
      "Log-rank test: ecDNA vs complex non-cyclic\n"
     ]
    },
    {
     "name": "stderr",
     "output_type": "stream",
     "text": [
      "/home/ochapman/miniconda3/envs/py3/lib/python3.10/site-packages/lifelines/statistics.py:143: FutureWarning: In future versions `DataFrame.to_latex` is expected to utilise the base implementation of `Styler.to_latex` for formatting and rendering. The arguments signature may therefore change. It is recommended instead to use `DataFrame.style.to_latex` which also contains additional functionality.\n",
      "  return self.summary.to_latex()\n"
     ]
    },
    {
     "data": {
      "text/html": [
       "<div>\n",
       "<style scoped>\n",
       "    .dataframe tbody tr th:only-of-type {\n",
       "        vertical-align: middle;\n",
       "    }\n",
       "\n",
       "    .dataframe tbody tr th {\n",
       "        vertical-align: top;\n",
       "    }\n",
       "\n",
       "    .dataframe thead th {\n",
       "        text-align: right;\n",
       "    }\n",
       "</style>\n",
       "<table border=\"1\" class=\"dataframe\">\n",
       "  <tbody>\n",
       "    <tr>\n",
       "      <th>t_0</th>\n",
       "      <td>-1</td>\n",
       "    </tr>\n",
       "    <tr>\n",
       "      <th>null_distribution</th>\n",
       "      <td>chi squared</td>\n",
       "    </tr>\n",
       "    <tr>\n",
       "      <th>degrees_of_freedom</th>\n",
       "      <td>1</td>\n",
       "    </tr>\n",
       "    <tr>\n",
       "      <th>alpha</th>\n",
       "      <td>0.99</td>\n",
       "    </tr>\n",
       "    <tr>\n",
       "      <th>test_name</th>\n",
       "      <td>logrank_test</td>\n",
       "    </tr>\n",
       "  </tbody>\n",
       "</table>\n",
       "</div><table border=\"1\" class=\"dataframe\">\n",
       "  <thead>\n",
       "    <tr style=\"text-align: right;\">\n",
       "      <th></th>\n",
       "      <th>test_statistic</th>\n",
       "      <th>p</th>\n",
       "      <th>-log2(p)</th>\n",
       "    </tr>\n",
       "  </thead>\n",
       "  <tbody>\n",
       "    <tr>\n",
       "      <th>0</th>\n",
       "      <td>0.76</td>\n",
       "      <td>0.38</td>\n",
       "      <td>1.38</td>\n",
       "    </tr>\n",
       "  </tbody>\n",
       "</table>"
      ],
      "text/latex": [
       "\\begin{tabular}{lrrr}\n",
       "\\toprule\n",
       "{} &  test\\_statistic &         p &  -log2(p) \\\\\n",
       "\\midrule\n",
       "0 &        0.755771 &  0.384655 &  1.378362 \\\\\n",
       "\\bottomrule\n",
       "\\end{tabular}\n"
      ],
      "text/plain": [
       "<lifelines.StatisticalResult: logrank_test>\n",
       "               t_0 = -1\n",
       " null_distribution = chi squared\n",
       "degrees_of_freedom = 1\n",
       "             alpha = 0.99\n",
       "         test_name = logrank_test\n",
       "\n",
       "---\n",
       " test_statistic    p  -log2(p)\n",
       "           0.76 0.38      1.38"
      ]
     },
     "metadata": {},
     "output_type": "display_data"
    },
    {
     "name": "stdout",
     "output_type": "stream",
     "text": [
      "0.3846552457062892\n",
      "0.7557709382827734\n",
      "Log-rank test: linear vs complex non-cyclic\n"
     ]
    },
    {
     "name": "stderr",
     "output_type": "stream",
     "text": [
      "/home/ochapman/miniconda3/envs/py3/lib/python3.10/site-packages/lifelines/statistics.py:143: FutureWarning: In future versions `DataFrame.to_latex` is expected to utilise the base implementation of `Styler.to_latex` for formatting and rendering. The arguments signature may therefore change. It is recommended instead to use `DataFrame.style.to_latex` which also contains additional functionality.\n",
      "  return self.summary.to_latex()\n"
     ]
    },
    {
     "data": {
      "text/html": [
       "<div>\n",
       "<style scoped>\n",
       "    .dataframe tbody tr th:only-of-type {\n",
       "        vertical-align: middle;\n",
       "    }\n",
       "\n",
       "    .dataframe tbody tr th {\n",
       "        vertical-align: top;\n",
       "    }\n",
       "\n",
       "    .dataframe thead th {\n",
       "        text-align: right;\n",
       "    }\n",
       "</style>\n",
       "<table border=\"1\" class=\"dataframe\">\n",
       "  <tbody>\n",
       "    <tr>\n",
       "      <th>t_0</th>\n",
       "      <td>-1</td>\n",
       "    </tr>\n",
       "    <tr>\n",
       "      <th>null_distribution</th>\n",
       "      <td>chi squared</td>\n",
       "    </tr>\n",
       "    <tr>\n",
       "      <th>degrees_of_freedom</th>\n",
       "      <td>1</td>\n",
       "    </tr>\n",
       "    <tr>\n",
       "      <th>alpha</th>\n",
       "      <td>0.99</td>\n",
       "    </tr>\n",
       "    <tr>\n",
       "      <th>test_name</th>\n",
       "      <td>logrank_test</td>\n",
       "    </tr>\n",
       "  </tbody>\n",
       "</table>\n",
       "</div><table border=\"1\" class=\"dataframe\">\n",
       "  <thead>\n",
       "    <tr style=\"text-align: right;\">\n",
       "      <th></th>\n",
       "      <th>test_statistic</th>\n",
       "      <th>p</th>\n",
       "      <th>-log2(p)</th>\n",
       "    </tr>\n",
       "  </thead>\n",
       "  <tbody>\n",
       "    <tr>\n",
       "      <th>0</th>\n",
       "      <td>2.78</td>\n",
       "      <td>0.10</td>\n",
       "      <td>3.39</td>\n",
       "    </tr>\n",
       "  </tbody>\n",
       "</table>"
      ],
      "text/latex": [
       "\\begin{tabular}{lrrr}\n",
       "\\toprule\n",
       "{} &  test\\_statistic &         p &  -log2(p) \\\\\n",
       "\\midrule\n",
       "0 &        2.778591 &  0.095532 &   3.38787 \\\\\n",
       "\\bottomrule\n",
       "\\end{tabular}\n"
      ],
      "text/plain": [
       "<lifelines.StatisticalResult: logrank_test>\n",
       "               t_0 = -1\n",
       " null_distribution = chi squared\n",
       "degrees_of_freedom = 1\n",
       "             alpha = 0.99\n",
       "         test_name = logrank_test\n",
       "\n",
       "---\n",
       " test_statistic    p  -log2(p)\n",
       "           2.78 0.10      3.39"
      ]
     },
     "metadata": {},
     "output_type": "display_data"
    },
    {
     "name": "stdout",
     "output_type": "stream",
     "text": [
      "0.09553216552165796\n",
      "2.778591238542282\n"
     ]
    }
   ],
   "source": [
    "logrank_pfs(pfs)\n",
    "# Significant tests:\n",
    "# no fSCNA vs ecDNA\n",
    "# no fSCNA vs complex non-cyclic\n",
    "# ecDNA vs linear"
   ]
  },
  {
   "cell_type": "code",
   "execution_count": 16,
   "metadata": {
    "ExecuteTime": {
     "end_time": "2022-10-07T21:16:00.709239Z",
     "start_time": "2022-10-07T21:15:52.861127Z"
    },
    "hidden": true
   },
   "outputs": [
    {
     "name": "stdout",
     "output_type": "stream",
     "text": [
      "Right-censoring 78 intervals to 5 years...\n",
      "n =  338\n",
      "Vital_status\n",
      "False    271\n",
      "True      67\n",
      "Name: Vital_status, dtype: int64\n"
     ]
    },
    {
     "data": {
      "image/png": "[encoded data removed]",
      "text/plain": [
       "<Figure size 360x360 with 1 Axes>"
      ]
     },
     "metadata": {
      "needs_background": "light"
     },
     "output_type": "display_data"
    }
   ],
   "source": [
    "ost = get_os(censor_years=5)\n",
    "ost = label_patients_by_AC_class(ost)\n",
    "ost = ost[ost.AmpliconClass != 'BFB'] # at n = 2, this is uninformative.\n",
    "ost = ost[ost.Subgroup != 'WNT']\n",
    "km_os_amp_type(ost, outfile='out/km_os_by_amp_type.svg')"
   ]
  },
  {
   "cell_type": "code",
   "execution_count": 17,
   "metadata": {
    "ExecuteTime": {
     "end_time": "2022-10-07T21:16:01.087732Z",
     "start_time": "2022-10-07T21:16:00.712362Z"
    },
    "hidden": true
   },
   "outputs": [
    {
     "name": "stdout",
     "output_type": "stream",
     "text": [
      "Log-rank test: no fSCNA vs ecDNA\n"
     ]
    },
    {
     "name": "stderr",
     "output_type": "stream",
     "text": [
      "/home/ochapman/miniconda3/envs/py3/lib/python3.10/site-packages/lifelines/statistics.py:143: FutureWarning: In future versions `DataFrame.to_latex` is expected to utilise the base implementation of `Styler.to_latex` for formatting and rendering. The arguments signature may therefore change. It is recommended instead to use `DataFrame.style.to_latex` which also contains additional functionality.\n",
      "  return self.summary.to_latex()\n"
     ]
    },
    {
     "data": {
      "text/html": [
       "<div>\n",
       "<style scoped>\n",
       "    .dataframe tbody tr th:only-of-type {\n",
       "        vertical-align: middle;\n",
       "    }\n",
       "\n",
       "    .dataframe tbody tr th {\n",
       "        vertical-align: top;\n",
       "    }\n",
       "\n",
       "    .dataframe thead th {\n",
       "        text-align: right;\n",
       "    }\n",
       "</style>\n",
       "<table border=\"1\" class=\"dataframe\">\n",
       "  <tbody>\n",
       "    <tr>\n",
       "      <th>t_0</th>\n",
       "      <td>-1</td>\n",
       "    </tr>\n",
       "    <tr>\n",
       "      <th>null_distribution</th>\n",
       "      <td>chi squared</td>\n",
       "    </tr>\n",
       "    <tr>\n",
       "      <th>degrees_of_freedom</th>\n",
       "      <td>1</td>\n",
       "    </tr>\n",
       "    <tr>\n",
       "      <th>alpha</th>\n",
       "      <td>0.99</td>\n",
       "    </tr>\n",
       "    <tr>\n",
       "      <th>test_name</th>\n",
       "      <td>logrank_test</td>\n",
       "    </tr>\n",
       "  </tbody>\n",
       "</table>\n",
       "</div><table border=\"1\" class=\"dataframe\">\n",
       "  <thead>\n",
       "    <tr style=\"text-align: right;\">\n",
       "      <th></th>\n",
       "      <th>test_statistic</th>\n",
       "      <th>p</th>\n",
       "      <th>-log2(p)</th>\n",
       "    </tr>\n",
       "  </thead>\n",
       "  <tbody>\n",
       "    <tr>\n",
       "      <th>0</th>\n",
       "      <td>12.91</td>\n",
       "      <td>&lt;0.005</td>\n",
       "      <td>11.58</td>\n",
       "    </tr>\n",
       "  </tbody>\n",
       "</table>"
      ],
      "text/latex": [
       "\\begin{tabular}{lrrr}\n",
       "\\toprule\n",
       "{} &  test\\_statistic &         p &   -log2(p) \\\\\n",
       "\\midrule\n",
       "0 &       12.907452 &  0.000327 &  11.577202 \\\\\n",
       "\\bottomrule\n",
       "\\end{tabular}\n"
      ],
      "text/plain": [
       "<lifelines.StatisticalResult: logrank_test>\n",
       "               t_0 = -1\n",
       " null_distribution = chi squared\n",
       "degrees_of_freedom = 1\n",
       "             alpha = 0.99\n",
       "         test_name = logrank_test\n",
       "\n",
       "---\n",
       " test_statistic      p  -log2(p)\n",
       "          12.91 <0.005     11.58"
      ]
     },
     "metadata": {},
     "output_type": "display_data"
    },
    {
     "name": "stdout",
     "output_type": "stream",
     "text": [
      "0.00032727655629601066\n",
      "12.907451746628485\n",
      "Log-rank test: no fSCNA vs linear\n"
     ]
    },
    {
     "name": "stderr",
     "output_type": "stream",
     "text": [
      "/home/ochapman/miniconda3/envs/py3/lib/python3.10/site-packages/lifelines/statistics.py:143: FutureWarning: In future versions `DataFrame.to_latex` is expected to utilise the base implementation of `Styler.to_latex` for formatting and rendering. The arguments signature may therefore change. It is recommended instead to use `DataFrame.style.to_latex` which also contains additional functionality.\n",
      "  return self.summary.to_latex()\n"
     ]
    },
    {
     "data": {
      "text/html": [
       "<div>\n",
       "<style scoped>\n",
       "    .dataframe tbody tr th:only-of-type {\n",
       "        vertical-align: middle;\n",
       "    }\n",
       "\n",
       "    .dataframe tbody tr th {\n",
       "        vertical-align: top;\n",
       "    }\n",
       "\n",
       "    .dataframe thead th {\n",
       "        text-align: right;\n",
       "    }\n",
       "</style>\n",
       "<table border=\"1\" class=\"dataframe\">\n",
       "  <tbody>\n",
       "    <tr>\n",
       "      <th>t_0</th>\n",
       "      <td>-1</td>\n",
       "    </tr>\n",
       "    <tr>\n",
       "      <th>null_distribution</th>\n",
       "      <td>chi squared</td>\n",
       "    </tr>\n",
       "    <tr>\n",
       "      <th>degrees_of_freedom</th>\n",
       "      <td>1</td>\n",
       "    </tr>\n",
       "    <tr>\n",
       "      <th>alpha</th>\n",
       "      <td>0.99</td>\n",
       "    </tr>\n",
       "    <tr>\n",
       "      <th>test_name</th>\n",
       "      <td>logrank_test</td>\n",
       "    </tr>\n",
       "  </tbody>\n",
       "</table>\n",
       "</div><table border=\"1\" class=\"dataframe\">\n",
       "  <thead>\n",
       "    <tr style=\"text-align: right;\">\n",
       "      <th></th>\n",
       "      <th>test_statistic</th>\n",
       "      <th>p</th>\n",
       "      <th>-log2(p)</th>\n",
       "    </tr>\n",
       "  </thead>\n",
       "  <tbody>\n",
       "    <tr>\n",
       "      <th>0</th>\n",
       "      <td>2.01</td>\n",
       "      <td>0.16</td>\n",
       "      <td>2.68</td>\n",
       "    </tr>\n",
       "  </tbody>\n",
       "</table>"
      ],
      "text/latex": [
       "\\begin{tabular}{lrrr}\n",
       "\\toprule\n",
       "{} &  test\\_statistic &         p &  -log2(p) \\\\\n",
       "\\midrule\n",
       "0 &        2.009647 &  0.156302 &  2.677595 \\\\\n",
       "\\bottomrule\n",
       "\\end{tabular}\n"
      ],
      "text/plain": [
       "<lifelines.StatisticalResult: logrank_test>\n",
       "               t_0 = -1\n",
       " null_distribution = chi squared\n",
       "degrees_of_freedom = 1\n",
       "             alpha = 0.99\n",
       "         test_name = logrank_test\n",
       "\n",
       "---\n",
       " test_statistic    p  -log2(p)\n",
       "           2.01 0.16      2.68"
      ]
     },
     "metadata": {},
     "output_type": "display_data"
    },
    {
     "name": "stdout",
     "output_type": "stream",
     "text": [
      "0.15630163896801721\n",
      "2.009647423795437\n",
      "Log-rank test: no fSCNA vs complex non-cyclic\n"
     ]
    },
    {
     "name": "stderr",
     "output_type": "stream",
     "text": [
      "/home/ochapman/miniconda3/envs/py3/lib/python3.10/site-packages/lifelines/statistics.py:143: FutureWarning: In future versions `DataFrame.to_latex` is expected to utilise the base implementation of `Styler.to_latex` for formatting and rendering. The arguments signature may therefore change. It is recommended instead to use `DataFrame.style.to_latex` which also contains additional functionality.\n",
      "  return self.summary.to_latex()\n"
     ]
    },
    {
     "data": {
      "text/html": [
       "<div>\n",
       "<style scoped>\n",
       "    .dataframe tbody tr th:only-of-type {\n",
       "        vertical-align: middle;\n",
       "    }\n",
       "\n",
       "    .dataframe tbody tr th {\n",
       "        vertical-align: top;\n",
       "    }\n",
       "\n",
       "    .dataframe thead th {\n",
       "        text-align: right;\n",
       "    }\n",
       "</style>\n",
       "<table border=\"1\" class=\"dataframe\">\n",
       "  <tbody>\n",
       "    <tr>\n",
       "      <th>t_0</th>\n",
       "      <td>-1</td>\n",
       "    </tr>\n",
       "    <tr>\n",
       "      <th>null_distribution</th>\n",
       "      <td>chi squared</td>\n",
       "    </tr>\n",
       "    <tr>\n",
       "      <th>degrees_of_freedom</th>\n",
       "      <td>1</td>\n",
       "    </tr>\n",
       "    <tr>\n",
       "      <th>alpha</th>\n",
       "      <td>0.99</td>\n",
       "    </tr>\n",
       "    <tr>\n",
       "      <th>test_name</th>\n",
       "      <td>logrank_test</td>\n",
       "    </tr>\n",
       "  </tbody>\n",
       "</table>\n",
       "</div><table border=\"1\" class=\"dataframe\">\n",
       "  <thead>\n",
       "    <tr style=\"text-align: right;\">\n",
       "      <th></th>\n",
       "      <th>test_statistic</th>\n",
       "      <th>p</th>\n",
       "      <th>-log2(p)</th>\n",
       "    </tr>\n",
       "  </thead>\n",
       "  <tbody>\n",
       "    <tr>\n",
       "      <th>0</th>\n",
       "      <td>0.72</td>\n",
       "      <td>0.40</td>\n",
       "      <td>1.34</td>\n",
       "    </tr>\n",
       "  </tbody>\n",
       "</table>"
      ],
      "text/latex": [
       "\\begin{tabular}{lrrr}\n",
       "\\toprule\n",
       "{} &  test\\_statistic &         p &  -log2(p) \\\\\n",
       "\\midrule\n",
       "0 &         0.72067 &  0.395924 &  1.336704 \\\\\n",
       "\\bottomrule\n",
       "\\end{tabular}\n"
      ],
      "text/plain": [
       "<lifelines.StatisticalResult: logrank_test>\n",
       "               t_0 = -1\n",
       " null_distribution = chi squared\n",
       "degrees_of_freedom = 1\n",
       "             alpha = 0.99\n",
       "         test_name = logrank_test\n",
       "\n",
       "---\n",
       " test_statistic    p  -log2(p)\n",
       "           0.72 0.40      1.34"
      ]
     },
     "metadata": {},
     "output_type": "display_data"
    },
    {
     "name": "stdout",
     "output_type": "stream",
     "text": [
      "0.3959242055474258\n",
      "0.7206700591295154\n",
      "Log-rank test: ecDNA vs linear\n"
     ]
    },
    {
     "name": "stderr",
     "output_type": "stream",
     "text": [
      "/home/ochapman/miniconda3/envs/py3/lib/python3.10/site-packages/lifelines/statistics.py:143: FutureWarning: In future versions `DataFrame.to_latex` is expected to utilise the base implementation of `Styler.to_latex` for formatting and rendering. The arguments signature may therefore change. It is recommended instead to use `DataFrame.style.to_latex` which also contains additional functionality.\n",
      "  return self.summary.to_latex()\n"
     ]
    },
    {
     "data": {
      "text/html": [
       "<div>\n",
       "<style scoped>\n",
       "    .dataframe tbody tr th:only-of-type {\n",
       "        vertical-align: middle;\n",
       "    }\n",
       "\n",
       "    .dataframe tbody tr th {\n",
       "        vertical-align: top;\n",
       "    }\n",
       "\n",
       "    .dataframe thead th {\n",
       "        text-align: right;\n",
       "    }\n",
       "</style>\n",
       "<table border=\"1\" class=\"dataframe\">\n",
       "  <tbody>\n",
       "    <tr>\n",
       "      <th>t_0</th>\n",
       "      <td>-1</td>\n",
       "    </tr>\n",
       "    <tr>\n",
       "      <th>null_distribution</th>\n",
       "      <td>chi squared</td>\n",
       "    </tr>\n",
       "    <tr>\n",
       "      <th>degrees_of_freedom</th>\n",
       "      <td>1</td>\n",
       "    </tr>\n",
       "    <tr>\n",
       "      <th>alpha</th>\n",
       "      <td>0.99</td>\n",
       "    </tr>\n",
       "    <tr>\n",
       "      <th>test_name</th>\n",
       "      <td>logrank_test</td>\n",
       "    </tr>\n",
       "  </tbody>\n",
       "</table>\n",
       "</div><table border=\"1\" class=\"dataframe\">\n",
       "  <thead>\n",
       "    <tr style=\"text-align: right;\">\n",
       "      <th></th>\n",
       "      <th>test_statistic</th>\n",
       "      <th>p</th>\n",
       "      <th>-log2(p)</th>\n",
       "    </tr>\n",
       "  </thead>\n",
       "  <tbody>\n",
       "    <tr>\n",
       "      <th>0</th>\n",
       "      <td>18.82</td>\n",
       "      <td>&lt;0.005</td>\n",
       "      <td>16.09</td>\n",
       "    </tr>\n",
       "  </tbody>\n",
       "</table>"
      ],
      "text/latex": [
       "\\begin{tabular}{lrrr}\n",
       "\\toprule\n",
       "{} &  test\\_statistic &         p &   -log2(p) \\\\\n",
       "\\midrule\n",
       "0 &       18.824006 &  0.000014 &  16.090084 \\\\\n",
       "\\bottomrule\n",
       "\\end{tabular}\n"
      ],
      "text/plain": [
       "<lifelines.StatisticalResult: logrank_test>\n",
       "               t_0 = -1\n",
       " null_distribution = chi squared\n",
       "degrees_of_freedom = 1\n",
       "             alpha = 0.99\n",
       "         test_name = logrank_test\n",
       "\n",
       "---\n",
       " test_statistic      p  -log2(p)\n",
       "          18.82 <0.005     16.09"
      ]
     },
     "metadata": {},
     "output_type": "display_data"
    },
    {
     "name": "stdout",
     "output_type": "stream",
     "text": [
      "1.4335140330652815e-05\n",
      "18.824006476976166\n",
      "Log-rank test: ecDNA vs complex non-cyclic\n"
     ]
    },
    {
     "name": "stderr",
     "output_type": "stream",
     "text": [
      "/home/ochapman/miniconda3/envs/py3/lib/python3.10/site-packages/lifelines/statistics.py:143: FutureWarning: In future versions `DataFrame.to_latex` is expected to utilise the base implementation of `Styler.to_latex` for formatting and rendering. The arguments signature may therefore change. It is recommended instead to use `DataFrame.style.to_latex` which also contains additional functionality.\n",
      "  return self.summary.to_latex()\n"
     ]
    },
    {
     "data": {
      "text/html": [
       "<div>\n",
       "<style scoped>\n",
       "    .dataframe tbody tr th:only-of-type {\n",
       "        vertical-align: middle;\n",
       "    }\n",
       "\n",
       "    .dataframe tbody tr th {\n",
       "        vertical-align: top;\n",
       "    }\n",
       "\n",
       "    .dataframe thead th {\n",
       "        text-align: right;\n",
       "    }\n",
       "</style>\n",
       "<table border=\"1\" class=\"dataframe\">\n",
       "  <tbody>\n",
       "    <tr>\n",
       "      <th>t_0</th>\n",
       "      <td>-1</td>\n",
       "    </tr>\n",
       "    <tr>\n",
       "      <th>null_distribution</th>\n",
       "      <td>chi squared</td>\n",
       "    </tr>\n",
       "    <tr>\n",
       "      <th>degrees_of_freedom</th>\n",
       "      <td>1</td>\n",
       "    </tr>\n",
       "    <tr>\n",
       "      <th>alpha</th>\n",
       "      <td>0.99</td>\n",
       "    </tr>\n",
       "    <tr>\n",
       "      <th>test_name</th>\n",
       "      <td>logrank_test</td>\n",
       "    </tr>\n",
       "  </tbody>\n",
       "</table>\n",
       "</div><table border=\"1\" class=\"dataframe\">\n",
       "  <thead>\n",
       "    <tr style=\"text-align: right;\">\n",
       "      <th></th>\n",
       "      <th>test_statistic</th>\n",
       "      <th>p</th>\n",
       "      <th>-log2(p)</th>\n",
       "    </tr>\n",
       "  </thead>\n",
       "  <tbody>\n",
       "    <tr>\n",
       "      <th>0</th>\n",
       "      <td>2.45</td>\n",
       "      <td>0.12</td>\n",
       "      <td>3.09</td>\n",
       "    </tr>\n",
       "  </tbody>\n",
       "</table>"
      ],
      "text/latex": [
       "\\begin{tabular}{lrrr}\n",
       "\\toprule\n",
       "{} &  test\\_statistic &         p &  -log2(p) \\\\\n",
       "\\midrule\n",
       "0 &        2.453713 &  0.117247 &  3.092375 \\\\\n",
       "\\bottomrule\n",
       "\\end{tabular}\n"
      ],
      "text/plain": [
       "<lifelines.StatisticalResult: logrank_test>\n",
       "               t_0 = -1\n",
       " null_distribution = chi squared\n",
       "degrees_of_freedom = 1\n",
       "             alpha = 0.99\n",
       "         test_name = logrank_test\n",
       "\n",
       "---\n",
       " test_statistic    p  -log2(p)\n",
       "           2.45 0.12      3.09"
      ]
     },
     "metadata": {},
     "output_type": "display_data"
    },
    {
     "name": "stdout",
     "output_type": "stream",
     "text": [
      "0.11724719831734694\n",
      "2.4537134696185237\n",
      "Log-rank test: linear vs complex non-cyclic\n"
     ]
    },
    {
     "name": "stderr",
     "output_type": "stream",
     "text": [
      "/home/ochapman/miniconda3/envs/py3/lib/python3.10/site-packages/lifelines/statistics.py:143: FutureWarning: In future versions `DataFrame.to_latex` is expected to utilise the base implementation of `Styler.to_latex` for formatting and rendering. The arguments signature may therefore change. It is recommended instead to use `DataFrame.style.to_latex` which also contains additional functionality.\n",
      "  return self.summary.to_latex()\n"
     ]
    },
    {
     "data": {
      "text/html": [
       "<div>\n",
       "<style scoped>\n",
       "    .dataframe tbody tr th:only-of-type {\n",
       "        vertical-align: middle;\n",
       "    }\n",
       "\n",
       "    .dataframe tbody tr th {\n",
       "        vertical-align: top;\n",
       "    }\n",
       "\n",
       "    .dataframe thead th {\n",
       "        text-align: right;\n",
       "    }\n",
       "</style>\n",
       "<table border=\"1\" class=\"dataframe\">\n",
       "  <tbody>\n",
       "    <tr>\n",
       "      <th>t_0</th>\n",
       "      <td>-1</td>\n",
       "    </tr>\n",
       "    <tr>\n",
       "      <th>null_distribution</th>\n",
       "      <td>chi squared</td>\n",
       "    </tr>\n",
       "    <tr>\n",
       "      <th>degrees_of_freedom</th>\n",
       "      <td>1</td>\n",
       "    </tr>\n",
       "    <tr>\n",
       "      <th>alpha</th>\n",
       "      <td>0.99</td>\n",
       "    </tr>\n",
       "    <tr>\n",
       "      <th>test_name</th>\n",
       "      <td>logrank_test</td>\n",
       "    </tr>\n",
       "  </tbody>\n",
       "</table>\n",
       "</div><table border=\"1\" class=\"dataframe\">\n",
       "  <thead>\n",
       "    <tr style=\"text-align: right;\">\n",
       "      <th></th>\n",
       "      <th>test_statistic</th>\n",
       "      <th>p</th>\n",
       "      <th>-log2(p)</th>\n",
       "    </tr>\n",
       "  </thead>\n",
       "  <tbody>\n",
       "    <tr>\n",
       "      <th>0</th>\n",
       "      <td>3.76</td>\n",
       "      <td>0.05</td>\n",
       "      <td>4.25</td>\n",
       "    </tr>\n",
       "  </tbody>\n",
       "</table>"
      ],
      "text/latex": [
       "\\begin{tabular}{lrrr}\n",
       "\\toprule\n",
       "{} &  test\\_statistic &         p &  -log2(p) \\\\\n",
       "\\midrule\n",
       "0 &        3.759993 &  0.052493 &  4.251737 \\\\\n",
       "\\bottomrule\n",
       "\\end{tabular}\n"
      ],
      "text/plain": [
       "<lifelines.StatisticalResult: logrank_test>\n",
       "               t_0 = -1\n",
       " null_distribution = chi squared\n",
       "degrees_of_freedom = 1\n",
       "             alpha = 0.99\n",
       "         test_name = logrank_test\n",
       "\n",
       "---\n",
       " test_statistic    p  -log2(p)\n",
       "           3.76 0.05      4.25"
      ]
     },
     "metadata": {},
     "output_type": "display_data"
    },
    {
     "name": "stdout",
     "output_type": "stream",
     "text": [
      "0.0524928008331372\n",
      "3.759992919297852\n"
     ]
    }
   ],
   "source": [
    "logrank_os(ost)\n",
    "# Significant tests:\n",
    "# no fSCNA vs ecDNA\n",
    "# ecDNA vs linear"
   ]
  },
  {
   "cell_type": "code",
   "execution_count": 7,
   "metadata": {
    "ExecuteTime": {
     "end_time": "2022-10-07T21:13:02.261466Z",
     "start_time": "2022-10-07T21:13:02.235943Z"
    },
    "hidden": true
   },
   "outputs": [
    {
     "data": {
      "text/html": [
       "<div>\n",
       "<style scoped>\n",
       "    .dataframe tbody tr th:only-of-type {\n",
       "        vertical-align: middle;\n",
       "    }\n",
       "\n",
       "    .dataframe tbody tr th {\n",
       "        vertical-align: top;\n",
       "    }\n",
       "\n",
       "    .dataframe thead th {\n",
       "        text-align: right;\n",
       "    }\n",
       "</style>\n",
       "<table border=\"1\" class=\"dataframe\">\n",
       "  <thead>\n",
       "    <tr style=\"text-align: right;\">\n",
       "      <th></th>\n",
       "      <th>Source</th>\n",
       "      <th>ecDNA</th>\n",
       "      <th>Subgroup</th>\n",
       "      <th>Sex</th>\n",
       "      <th>Age_at_diagnosis</th>\n",
       "      <th>Vital_status</th>\n",
       "      <th>Relapse_status</th>\n",
       "      <th>Relapse_interval_years</th>\n",
       "      <th>Survival_time_years</th>\n",
       "      <th>Citations</th>\n",
       "      <th>Subtype_northcott</th>\n",
       "      <th>Aliases</th>\n",
       "      <th>BFB</th>\n",
       "      <th>complex non-cyclic</th>\n",
       "      <th>linear</th>\n",
       "      <th>AmpliconClass</th>\n",
       "    </tr>\n",
       "    <tr>\n",
       "      <th>Patient_ID</th>\n",
       "      <th></th>\n",
       "      <th></th>\n",
       "      <th></th>\n",
       "      <th></th>\n",
       "      <th></th>\n",
       "      <th></th>\n",
       "      <th></th>\n",
       "      <th></th>\n",
       "      <th></th>\n",
       "      <th></th>\n",
       "      <th></th>\n",
       "      <th></th>\n",
       "      <th></th>\n",
       "      <th></th>\n",
       "      <th></th>\n",
       "      <th></th>\n",
       "    </tr>\n",
       "  </thead>\n",
       "  <tbody>\n",
       "    <tr>\n",
       "      <th>MB018</th>\n",
       "      <td>Archer</td>\n",
       "      <td>False</td>\n",
       "      <td>G3</td>\n",
       "      <td>f</td>\n",
       "      <td>13.00</td>\n",
       "      <td>False</td>\n",
       "      <td>False</td>\n",
       "      <td>5.000000</td>\n",
       "      <td>7.000000</td>\n",
       "      <td>1,2</td>\n",
       "      <td>II</td>\n",
       "      <td>DO35553</td>\n",
       "      <td>False</td>\n",
       "      <td>False</td>\n",
       "      <td>False</td>\n",
       "      <td>no fSCNA</td>\n",
       "    </tr>\n",
       "    <tr>\n",
       "      <th>MB036</th>\n",
       "      <td>Archer</td>\n",
       "      <td>True</td>\n",
       "      <td>G3</td>\n",
       "      <td>m</td>\n",
       "      <td>4.00</td>\n",
       "      <td>False</td>\n",
       "      <td>False</td>\n",
       "      <td>5.000000</td>\n",
       "      <td>6.000000</td>\n",
       "      <td>1,2</td>\n",
       "      <td>II</td>\n",
       "      <td>DO35573</td>\n",
       "      <td>False</td>\n",
       "      <td>False</td>\n",
       "      <td>False</td>\n",
       "      <td>ecDNA</td>\n",
       "    </tr>\n",
       "    <tr>\n",
       "      <th>MB037</th>\n",
       "      <td>Archer</td>\n",
       "      <td>False</td>\n",
       "      <td>SHH</td>\n",
       "      <td>f</td>\n",
       "      <td>1.00</td>\n",
       "      <td>False</td>\n",
       "      <td>False</td>\n",
       "      <td>5.000000</td>\n",
       "      <td>7.000000</td>\n",
       "      <td>1,2</td>\n",
       "      <td>SHH (infant)</td>\n",
       "      <td>DO35574</td>\n",
       "      <td>False</td>\n",
       "      <td>False</td>\n",
       "      <td>False</td>\n",
       "      <td>no fSCNA</td>\n",
       "    </tr>\n",
       "    <tr>\n",
       "      <th>MB088</th>\n",
       "      <td>Archer</td>\n",
       "      <td>False</td>\n",
       "      <td>SHH</td>\n",
       "      <td>m</td>\n",
       "      <td>2.00</td>\n",
       "      <td>False</td>\n",
       "      <td>True</td>\n",
       "      <td>0.668036</td>\n",
       "      <td>6.000000</td>\n",
       "      <td>1,2</td>\n",
       "      <td>SHH (infant)</td>\n",
       "      <td>DO35620</td>\n",
       "      <td>False</td>\n",
       "      <td>False</td>\n",
       "      <td>True</td>\n",
       "      <td>linear</td>\n",
       "    </tr>\n",
       "    <tr>\n",
       "      <th>MB091</th>\n",
       "      <td>Archer</td>\n",
       "      <td>False</td>\n",
       "      <td>G4</td>\n",
       "      <td>m</td>\n",
       "      <td>15.00</td>\n",
       "      <td>False</td>\n",
       "      <td>False</td>\n",
       "      <td>5.000000</td>\n",
       "      <td>6.000000</td>\n",
       "      <td>1,2</td>\n",
       "      <td>VIII</td>\n",
       "      <td>DO35623</td>\n",
       "      <td>False</td>\n",
       "      <td>True</td>\n",
       "      <td>True</td>\n",
       "      <td>complex non-cyclic</td>\n",
       "    </tr>\n",
       "    <tr>\n",
       "      <th>...</th>\n",
       "      <td>...</td>\n",
       "      <td>...</td>\n",
       "      <td>...</td>\n",
       "      <td>...</td>\n",
       "      <td>...</td>\n",
       "      <td>...</td>\n",
       "      <td>...</td>\n",
       "      <td>...</td>\n",
       "      <td>...</td>\n",
       "      <td>...</td>\n",
       "      <td>...</td>\n",
       "      <td>...</td>\n",
       "      <td>...</td>\n",
       "      <td>...</td>\n",
       "      <td>...</td>\n",
       "      <td>...</td>\n",
       "    </tr>\n",
       "    <tr>\n",
       "      <th>SJ008037</th>\n",
       "      <td>St Jude</td>\n",
       "      <td>False</td>\n",
       "      <td>G4</td>\n",
       "      <td>m</td>\n",
       "      <td>6.56</td>\n",
       "      <td>False</td>\n",
       "      <td>False</td>\n",
       "      <td>2.166667</td>\n",
       "      <td>2.166667</td>\n",
       "      <td>4</td>\n",
       "      <td>NaN</td>\n",
       "      <td>NaN</td>\n",
       "      <td>False</td>\n",
       "      <td>False</td>\n",
       "      <td>False</td>\n",
       "      <td>no fSCNA</td>\n",
       "    </tr>\n",
       "    <tr>\n",
       "      <th>SJ008038</th>\n",
       "      <td>St Jude</td>\n",
       "      <td>True</td>\n",
       "      <td>G4</td>\n",
       "      <td>m</td>\n",
       "      <td>8.70</td>\n",
       "      <td>False</td>\n",
       "      <td>False</td>\n",
       "      <td>1.916667</td>\n",
       "      <td>1.916667</td>\n",
       "      <td>4</td>\n",
       "      <td>NaN</td>\n",
       "      <td>NaN</td>\n",
       "      <td>False</td>\n",
       "      <td>False</td>\n",
       "      <td>True</td>\n",
       "      <td>ecDNA</td>\n",
       "    </tr>\n",
       "    <tr>\n",
       "      <th>SJ008039</th>\n",
       "      <td>St Jude</td>\n",
       "      <td>False</td>\n",
       "      <td>G3</td>\n",
       "      <td>m</td>\n",
       "      <td>8.19</td>\n",
       "      <td>False</td>\n",
       "      <td>False</td>\n",
       "      <td>2.000000</td>\n",
       "      <td>2.000000</td>\n",
       "      <td>4</td>\n",
       "      <td>NaN</td>\n",
       "      <td>NaN</td>\n",
       "      <td>False</td>\n",
       "      <td>False</td>\n",
       "      <td>False</td>\n",
       "      <td>no fSCNA</td>\n",
       "    </tr>\n",
       "    <tr>\n",
       "      <th>SJ008040</th>\n",
       "      <td>St Jude</td>\n",
       "      <td>False</td>\n",
       "      <td>WNT</td>\n",
       "      <td>f</td>\n",
       "      <td>8.14</td>\n",
       "      <td>False</td>\n",
       "      <td>False</td>\n",
       "      <td>1.750000</td>\n",
       "      <td>1.750000</td>\n",
       "      <td>4</td>\n",
       "      <td>NaN</td>\n",
       "      <td>NaN</td>\n",
       "      <td>False</td>\n",
       "      <td>False</td>\n",
       "      <td>False</td>\n",
       "      <td>no fSCNA</td>\n",
       "    </tr>\n",
       "    <tr>\n",
       "      <th>SJ008041</th>\n",
       "      <td>St Jude</td>\n",
       "      <td>False</td>\n",
       "      <td>WNT</td>\n",
       "      <td>f</td>\n",
       "      <td>7.45</td>\n",
       "      <td>False</td>\n",
       "      <td>False</td>\n",
       "      <td>1.666667</td>\n",
       "      <td>1.666667</td>\n",
       "      <td>4</td>\n",
       "      <td>NaN</td>\n",
       "      <td>NaN</td>\n",
       "      <td>False</td>\n",
       "      <td>False</td>\n",
       "      <td>False</td>\n",
       "      <td>no fSCNA</td>\n",
       "    </tr>\n",
       "  </tbody>\n",
       "</table>\n",
       "<p>360 rows × 16 columns</p>\n",
       "</div>"
      ],
      "text/plain": [
       "             Source  ecDNA Subgroup Sex  Age_at_diagnosis  Vital_status  \\\n",
       "Patient_ID                                                                \n",
       "MB018        Archer  False       G3   f             13.00         False   \n",
       "MB036        Archer   True       G3   m              4.00         False   \n",
       "MB037        Archer  False      SHH   f              1.00         False   \n",
       "MB088        Archer  False      SHH   m              2.00         False   \n",
       "MB091        Archer  False       G4   m             15.00         False   \n",
       "...             ...    ...      ...  ..               ...           ...   \n",
       "SJ008037    St Jude  False       G4   m              6.56         False   \n",
       "SJ008038    St Jude   True       G4   m              8.70         False   \n",
       "SJ008039    St Jude  False       G3   m              8.19         False   \n",
       "SJ008040    St Jude  False      WNT   f              8.14         False   \n",
       "SJ008041    St Jude  False      WNT   f              7.45         False   \n",
       "\n",
       "            Relapse_status  Relapse_interval_years  Survival_time_years  \\\n",
       "Patient_ID                                                                \n",
       "MB018                False                5.000000             7.000000   \n",
       "MB036                False                5.000000             6.000000   \n",
       "MB037                False                5.000000             7.000000   \n",
       "MB088                 True                0.668036             6.000000   \n",
       "MB091                False                5.000000             6.000000   \n",
       "...                    ...                     ...                  ...   \n",
       "SJ008037             False                2.166667             2.166667   \n",
       "SJ008038             False                1.916667             1.916667   \n",
       "SJ008039             False                2.000000             2.000000   \n",
       "SJ008040             False                1.750000             1.750000   \n",
       "SJ008041             False                1.666667             1.666667   \n",
       "\n",
       "           Citations Subtype_northcott  Aliases    BFB  complex non-cyclic  \\\n",
       "Patient_ID                                                                   \n",
       "MB018            1,2                II  DO35553  False               False   \n",
       "MB036            1,2                II  DO35573  False               False   \n",
       "MB037            1,2      SHH (infant)  DO35574  False               False   \n",
       "MB088            1,2      SHH (infant)  DO35620  False               False   \n",
       "MB091            1,2              VIII  DO35623  False                True   \n",
       "...              ...               ...      ...    ...                 ...   \n",
       "SJ008037           4               NaN      NaN  False               False   \n",
       "SJ008038           4               NaN      NaN  False               False   \n",
       "SJ008039           4               NaN      NaN  False               False   \n",
       "SJ008040           4               NaN      NaN  False               False   \n",
       "SJ008041           4               NaN      NaN  False               False   \n",
       "\n",
       "            linear       AmpliconClass  \n",
       "Patient_ID                              \n",
       "MB018        False            no fSCNA  \n",
       "MB036        False               ecDNA  \n",
       "MB037        False            no fSCNA  \n",
       "MB088         True              linear  \n",
       "MB091         True  complex non-cyclic  \n",
       "...            ...                 ...  \n",
       "SJ008037     False            no fSCNA  \n",
       "SJ008038      True               ecDNA  \n",
       "SJ008039     False            no fSCNA  \n",
       "SJ008040     False            no fSCNA  \n",
       "SJ008041     False            no fSCNA  \n",
       "\n",
       "[360 rows x 16 columns]"
      ]
     },
     "execution_count": 7,
     "metadata": {},
     "output_type": "execute_result"
    }
   ],
   "source": [
    "pfs"
   ]
  },
  {
   "cell_type": "markdown",
   "metadata": {},
   "source": [
    "# Dissertation chapter 1 title slide"
   ]
  },
  {
   "cell_type": "code",
   "execution_count": 6,
   "metadata": {
    "ExecuteTime": {
     "end_time": "2023-04-22T00:00:53.378902Z",
     "start_time": "2023-04-22T00:00:53.371224Z"
    }
   },
   "outputs": [],
   "source": [
    "def ch1_title_slide(pfs,outfile='out/ch1_title_slide.svg'):\n",
    "    '''\n",
    "    Assumes pfs is a dataframe with the following columns:\n",
    "        ecDNA (boolean)\n",
    "        Relapse_interval_years (float)\n",
    "        Relapse_status (float)\n",
    "    '''\n",
    "    kmf = lifelines.KaplanMeierFitter()\n",
    "\n",
    "    ix = pfs['ecDNA']\n",
    "    T = pfs['Relapse_interval_years']\n",
    "    E = pfs['Relapse_status']\n",
    "\n",
    "    fig = plt.figure(figsize=(10,5))\n",
    "    ax = plt.subplot(111)\n",
    "    ax.set_ylim([0.0, 1.02])\n",
    "\n",
    "    kmf.fit(T[~ix], E[~ix], label='ecDNA- (n='+str(len(E[~ix]))+')')\n",
    "    ax = kmf.plot(ax=ax,show_censors=True,ci_show=False,censor_styles={'ms':6})\n",
    "\n",
    "    kmf.fit(T[ix], E[ix], label='ecDNA+ (n='+str(len(E[ix]))+')')\n",
    "    ax = kmf.plot(ax=ax,show_censors=True,ci_show=False,censor_styles={'ms':6},c=\"red\")\n",
    "\n",
    "    sns.despine()#(left=True,bottom=True)\n",
    "    for item in ([ax.xaxis.label, ax.yaxis.label] +\n",
    "                 ax.get_xticklabels() + ax.get_yticklabels()):\n",
    "        item.set_fontsize(14)\n",
    "    # set visibility of x-axis as False\n",
    "    ax.get_xaxis().set_visible(False)\n",
    "    # set visibility of y-axis as False\n",
    "    ax.get_yaxis().set_visible(False)\n",
    "    # remove legend\n",
    "    ax.get_legend().remove()\n",
    "    \n",
    "    # Save figure\n",
    "    #if outfile != None:\n",
    "        #plt.savefig(outfile)\n",
    "    # Print statistics\n",
    "    print(\"n = \",len(T))\n",
    "    cts = E.groupby(E).count()\n",
    "    print(cts)\n",
    "    logrank(T,E,ix)"
   ]
  },
  {
   "cell_type": "code",
   "execution_count": 7,
   "metadata": {
    "ExecuteTime": {
     "end_time": "2023-04-22T00:00:54.343696Z",
     "start_time": "2023-04-22T00:00:54.048244Z"
    }
   },
   "outputs": [
    {
     "name": "stdout",
     "output_type": "stream",
     "text": [
      "Right-censoring 74 intervals to 5 years...\n",
      "n =  340\n",
      "Relapse_status\n",
      "False    251\n",
      "True      89\n",
      "Name: Relapse_status, dtype: int64\n"
     ]
    },
    {
     "ename": "NameError",
     "evalue": "name 'logrank' is not defined",
     "output_type": "error",
     "traceback": [
      "\u001b[0;31m---------------------------------------------------------------------------\u001b[0m",
      "\u001b[0;31mNameError\u001b[0m                                 Traceback (most recent call last)",
      "Input \u001b[0;32mIn [7]\u001b[0m, in \u001b[0;36m<module>\u001b[0;34m\u001b[0m\n\u001b[1;32m      1\u001b[0m pfs \u001b[38;5;241m=\u001b[39m get_pfs(censor_years\u001b[38;5;241m=\u001b[39m\u001b[38;5;241m5\u001b[39m)\n\u001b[1;32m      2\u001b[0m pfs \u001b[38;5;241m=\u001b[39m pfs[pfs\u001b[38;5;241m.\u001b[39mSubgroup \u001b[38;5;241m!=\u001b[39m \u001b[38;5;124m'\u001b[39m\u001b[38;5;124mWNT\u001b[39m\u001b[38;5;124m'\u001b[39m] \u001b[38;5;66;03m# drop WNTs\u001b[39;00m\n\u001b[0;32m----> 3\u001b[0m \u001b[43mch1_title_slide\u001b[49m\u001b[43m(\u001b[49m\u001b[43mpfs\u001b[49m\u001b[43m)\u001b[49m\n",
      "Input \u001b[0;32mIn [6]\u001b[0m, in \u001b[0;36mch1_title_slide\u001b[0;34m(pfs, outfile)\u001b[0m\n\u001b[1;32m     40\u001b[0m cts \u001b[38;5;241m=\u001b[39m E\u001b[38;5;241m.\u001b[39mgroupby(E)\u001b[38;5;241m.\u001b[39mcount()\n\u001b[1;32m     41\u001b[0m \u001b[38;5;28mprint\u001b[39m(cts)\n\u001b[0;32m---> 42\u001b[0m \u001b[43mlogrank\u001b[49m(T,E,ix)\n",
      "\u001b[0;31mNameError\u001b[0m: name 'logrank' is not defined"
     ]
    },
    {
     "data": {
      "image/png": "[encoded data removed]",
      "text/plain": [
       "<Figure size 720x360 with 1 Axes>"
      ]
     },
     "metadata": {
      "needs_background": "light"
     },
     "output_type": "display_data"
    }
   ],
   "source": [
    "pfs = get_pfs(censor_years=5)\n",
    "pfs = pfs[pfs.Subgroup != 'WNT'] # drop WNTs\n",
    "ch1_title_slide(pfs)"
   ]
  },
  {
   "cell_type": "code",
   "execution_count": null,
   "metadata": {},
   "outputs": [],
   "source": []
  }
 ],
 "metadata": {
  "kernelspec": {
   "display_name": "Python [conda env:py3]",
   "language": "python",
   "name": "conda-env-py3-py"
  },
  "language_info": {
   "codemirror_mode": {
    "name": "ipython",
    "version": 3
   },
   "file_extension": ".py",
   "mimetype": "text/x-python",
   "name": "python",
   "nbconvert_exporter": "python",
   "pygments_lexer": "ipython3",
   "version": "3.10.2"
  }
 },
 "nbformat": 4,
 "nbformat_minor": 2
}
