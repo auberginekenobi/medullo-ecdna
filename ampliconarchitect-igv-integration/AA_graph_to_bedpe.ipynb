{
 "cells": [
  {
   "cell_type": "code",
   "execution_count": 1,
   "metadata": {
    "ExecuteTime": {
     "end_time": "2022-03-29T22:38:27.396288Z",
     "start_time": "2022-03-29T22:38:27.134663Z"
    }
   },
   "outputs": [
    {
     "name": "stdout",
     "output_type": "stream",
     "text": [
      "/mnt/c/Users/ochapman/Documents/Mesirov/medullo_ecDNA/src/ampliconarchitect-igv-integration\n",
      "[Errno 17] File exists: 'out'\n"
     ]
    }
   ],
   "source": [
    "# Generate a bedpe file for all segments in a graph.txt file.\n",
    "\n",
    "import pandas as pd\n",
    "import os\n",
    "import sys\n",
    "sys.path.append(os.path.abspath( '/mnt/c/Users/ochapman/Documents/Mesirov/Software/oscutils'))\n",
    "import get\n",
    "import AAutils\n",
    "pd.set_option('display.max_columns', None)\n",
    "print(os.getcwd())\n",
    "try:\n",
    "    os.mkdir('out')\n",
    "except OSError as error:\n",
    "    print(error)"
   ]
  },
  {
   "cell_type": "code",
   "execution_count": 2,
   "metadata": {
    "ExecuteTime": {
     "end_time": "2022-03-29T22:38:29.035465Z",
     "start_time": "2022-03-29T22:38:29.029183Z"
    }
   },
   "outputs": [],
   "source": [
    "filename = './data/D458_amplicon1_cleaned_augmented_candidate_cycles.txt'\n",
    "test = AAutils.Cycle(filename)"
   ]
  },
  {
   "cell_type": "code",
   "execution_count": 4,
   "metadata": {
    "ExecuteTime": {
     "end_time": "2022-03-29T22:38:36.456337Z",
     "start_time": "2022-03-29T22:38:36.448605Z"
    }
   },
   "outputs": [
    {
     "name": "stdout",
     "output_type": "stream",
     "text": [
      "[chr14\t57264562\t57264562\tchr8\t129025209\t129025209\t\t\t-\t-\n",
      ", chr8\t128969961\t128969961\tchr8\t129456111\t129456111\t\t\t-\t+\n",
      ", chr8\t129465167\t129465167\tchr8\t129471266\t129471266\t\t\t+\t+\n",
      ", chr8\t129663634\t129663634\tchr8\t130055256\t130055256\t\t\t+\t+\n",
      ", chr8\t130097238\t130097238\tchr8\t128305367\t128305367\t\t\t+\t+\n",
      ", chr8\t128468094\t128468094\tchr8\t129539628\t129539628\t\t\t+\t-\n",
      ", chr8\t129518267\t129518267\tchr8\t128884338\t128884338\t\t\t-\t+\n",
      ", chr8\t129453439\t129453439\tchr8\t128960793\t128960793\t\t\t+\t-\n",
      ", chr8\t128862696\t128862696\tchr8\t130046137\t130046137\t\t\t-\t+\n",
      ", chr8\t130061605\t130061605\tchr8\t129654244\t129654244\t\t\t+\t+\n",
      ", chr8\t130097238\t130097238\tchr8\t128305367\t128305367\t\t\t+\t+\n",
      ", chr8\t128882818\t128882818\tchr14\t57059831\t57059831\t\t\t+\t+\n",
      ", chr14\t57260903\t57260903\tchr14\t57453551\t57453551\t\t\t+\t-\n",
      "]\n"
     ]
    }
   ],
   "source": [
    "print(test.get_breakpoints())\n",
    "outfile = 'out/D458_junctions.hg19.bedpe'\n",
    "#outfile = 'out/D425_junctions.hg19.bedpe'\n",
    "test.write_breakpoints(outfile)\n"
   ]
  },
  {
   "cell_type": "code",
   "execution_count": null,
   "metadata": {},
   "outputs": [],
   "source": []
  }
 ],
 "metadata": {
  "kernelspec": {
   "display_name": "Python [conda env:py3]",
   "language": "python",
   "name": "conda-env-py3-py"
  },
  "language_info": {
   "codemirror_mode": {
    "name": "ipython",
    "version": 3
   },
   "file_extension": ".py",
   "mimetype": "text/x-python",
   "name": "python",
   "nbconvert_exporter": "python",
   "pygments_lexer": "ipython3",
   "version": "3.10.2"
  }
 },
 "nbformat": 4,
 "nbformat_minor": 4
}
