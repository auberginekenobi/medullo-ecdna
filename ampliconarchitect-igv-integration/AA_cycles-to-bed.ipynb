{
 "cells": [
  {
   "cell_type": "code",
   "execution_count": 3,
   "metadata": {
    "ExecuteTime": {
     "end_time": "2022-03-29T22:38:21.070986Z",
     "start_time": "2022-03-29T22:38:21.063269Z"
    }
   },
   "outputs": [
    {
     "name": "stdout",
     "output_type": "stream",
     "text": [
      "/mnt/c/Users/ochapman/Documents/Mesirov/medullo_ecDNA/src/ampliconarchitect-igv-integration\n"
     ]
    }
   ],
   "source": [
    "# using oscutils\n",
    "# Generate a bed file for all segments in a cycles.txt file.\n",
    "\n",
    "import pandas as pd\n",
    "import os\n",
    "import sys\n",
    "sys.path.append(os.path.abspath( '/mnt/c/Users/ochapman/Documents/Mesirov/Software/oscutils'))\n",
    "import get\n",
    "import AAutils\n",
    "pd.set_option('display.max_columns', None)\n",
    "print(os.getcwd())\n",
    "\n",
    "try:\n",
    "    os.mkdir('out')\n",
    "except OSError as error:\n",
    "    print(error)"
   ]
  },
  {
   "cell_type": "code",
   "execution_count": 4,
   "metadata": {
    "ExecuteTime": {
     "end_time": "2022-03-29T22:38:22.081796Z",
     "start_time": "2022-03-29T22:38:22.070925Z"
    }
   },
   "outputs": [],
   "source": [
    "cycles = './data/D425_amplicon451_cleaned_candidate1_cycles.txt'\n",
    "cycles = AAutils.Cycle(cycles)\n",
    "cycles.write_sequences('./out/D425_bionano.hg19.bed')"
   ]
  },
  {
   "cell_type": "code",
   "execution_count": null,
   "metadata": {},
   "outputs": [],
   "source": []
  }
 ],
 "metadata": {
  "kernelspec": {
   "display_name": "Python [conda env:py3]",
   "language": "python",
   "name": "conda-env-py3-py"
  },
  "language_info": {
   "codemirror_mode": {
    "name": "ipython",
    "version": 3
   },
   "file_extension": ".py",
   "mimetype": "text/x-python",
   "name": "python",
   "nbconvert_exporter": "python",
   "pygments_lexer": "ipython3",
   "version": "3.10.2"
  }
 },
 "nbformat": 4,
 "nbformat_minor": 4
}
