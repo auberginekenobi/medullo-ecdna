{
 "cells": [
  {
   "cell_type": "code",
   "execution_count": 1,
   "metadata": {
    "ExecuteTime": {
     "end_time": "2020-10-23T23:45:41.078653Z",
     "start_time": "2020-10-23T23:45:41.076516Z"
    }
   },
   "outputs": [],
   "source": [
    "# Generate a bed file from the AA graph file. Lets us operate on the amplified intervals.\n",
    "# This code parses the AA graph file and pulls out all amplified regions above a specified copy number.\n",
    "# We treat these regions (approximately) as the regions amplified on an ecDNA."
   ]
  },
  {
   "cell_type": "code",
   "execution_count": 1,
   "metadata": {
    "ExecuteTime": {
     "end_time": "2021-04-30T18:23:22.957982Z",
     "start_time": "2021-04-30T18:23:22.954790Z"
    }
   },
   "outputs": [
    {
     "name": "stdout",
     "output_type": "stream",
     "text": [
      "/mnt/c/Users/ochapman/Documents/Mesirov/medullo_ecDNA/amplified-intervals-bed\n"
     ]
    }
   ],
   "source": [
    "import os\n",
    "print(os.getcwd())"
   ]
  },
  {
   "cell_type": "code",
   "execution_count": 2,
   "metadata": {
    "ExecuteTime": {
     "end_time": "2021-04-30T18:23:23.466174Z",
     "start_time": "2021-04-30T18:23:23.461182Z"
    }
   },
   "outputs": [],
   "source": [
    "def bed_from_AA_graph(graphfile,bedfile,coverage_threshold=10):\n",
    "    '''\n",
    "    Generates a bed file of the format: \n",
    "        chrom start end coverage\n",
    "    from a graph.txt file output from AA of the format:\n",
    "        [SEQUENCEHEADER]\n",
    "        sequence StartPosition EndPosition PredictedCopyCount AverageCoverage Size NumberReadsMapped\n",
    "        [BREAKPOINTHEADER]\n",
    "        type start->end pcc, nreadpairs, homolsize, homolinsertsequence\n",
    "    '''\n",
    "    writestr=''\n",
    "    n=0\n",
    "    with open(graphfile,'r') as f:\n",
    "        f.readline()\n",
    "        for line in f.readlines():\n",
    "            if line.startswith(\"BreakpointEdge\"):\n",
    "                break\n",
    "            line=line.split()\n",
    "            chrom=line[1].split(':')[0]\n",
    "            start=str(int(line[1].split(':')[1][:-1])-1)\n",
    "            end=line[2].split(':')[1][:-1]\n",
    "            cn=float(line[3])\n",
    "            if not chrom.startswith('chr'):\n",
    "                chrom = 'chr'+chrom\n",
    "            if cn > coverage_threshold:\n",
    "                writestr+=chrom+'\\t'+start+'\\t'+end+'\\t'+str(cn)+'\\n'\n",
    "                n+=1\n",
    "    with open(bedfile,'w') as g:\n",
    "        g.write(writestr)\n",
    "    print(\"Wrote\",n,\"lines.\")"
   ]
  },
  {
   "cell_type": "markdown",
   "metadata": {},
   "source": [
    "# Cohort"
   ]
  },
  {
   "cell_type": "code",
   "execution_count": 89,
   "metadata": {
    "ExecuteTime": {
     "end_time": "2020-06-15T17:10:20.784882Z",
     "start_time": "2020-06-15T17:10:20.777814Z"
    },
    "scrolled": true
   },
   "outputs": [
    {
     "name": "stdout",
     "output_type": "stream",
     "text": [
      "Wrote 7 lines.\n"
     ]
    }
   ],
   "source": [
    "g='/mnt/c/Users/ochapman/Documents/Mesirov/medullo_ecDNA/case11/AA_results/AA_amplicon1_graph.txt'\n",
    "b=os.path.join(os.getcwd(),'cohort','RCMB56_1.hg38.bed')\n",
    "bed_from_AA_graph(g,b,10)"
   ]
  },
  {
   "cell_type": "code",
   "execution_count": 90,
   "metadata": {
    "ExecuteTime": {
     "end_time": "2020-06-15T17:10:21.123176Z",
     "start_time": "2020-06-15T17:10:21.117173Z"
    }
   },
   "outputs": [
    {
     "name": "stdout",
     "output_type": "stream",
     "text": [
      "Wrote 39 lines.\n"
     ]
    }
   ],
   "source": [
    "g='/mnt/c/Users/ochapman/Documents/Mesirov/medullo_ecDNA/case11/AA_results/AA_amplicon2_graph.txt'\n",
    "b=os.path.join(os.getcwd(),'cohort','RCMB56_2.hg38.bed')\n",
    "bed_from_AA_graph(g,b,9)"
   ]
  },
  {
   "cell_type": "code",
   "execution_count": 94,
   "metadata": {
    "ExecuteTime": {
     "end_time": "2020-06-15T17:11:24.545559Z",
     "start_time": "2020-06-15T17:11:24.539982Z"
    }
   },
   "outputs": [
    {
     "name": "stdout",
     "output_type": "stream",
     "text": [
      "Wrote 10 lines.\n"
     ]
    }
   ],
   "source": [
    "g='/mnt/c/Users/ochapman/Documents/Mesirov/medullo_ecDNA/MB248/MB248_AA_amplicon2_graph.txt'\n",
    "b=os.path.join(os.getcwd(),'cohort','MB248.hg19.bed')\n",
    "bed_from_AA_graph(g,b,3)"
   ]
  },
  {
   "cell_type": "code",
   "execution_count": 95,
   "metadata": {
    "ExecuteTime": {
     "end_time": "2020-06-15T17:13:20.439529Z",
     "start_time": "2020-06-15T17:13:20.433468Z"
    }
   },
   "outputs": [
    {
     "name": "stdout",
     "output_type": "stream",
     "text": [
      "Wrote 11 lines.\n"
     ]
    }
   ],
   "source": [
    "g='/mnt/c/Users/ochapman/Documents/Mesirov/medullo_ecDNA/MB275/MB275_AA_amplicon3_graph.txt'\n",
    "b=os.path.join(os.getcwd(),'cohort','MB275.hg19.bed')\n",
    "bed_from_AA_graph(g,b,10)"
   ]
  },
  {
   "cell_type": "code",
   "execution_count": 96,
   "metadata": {
    "ExecuteTime": {
     "end_time": "2020-06-15T17:15:09.702590Z",
     "start_time": "2020-06-15T17:15:09.693176Z"
    }
   },
   "outputs": [
    {
     "name": "stdout",
     "output_type": "stream",
     "text": [
      "Wrote 17 lines.\n"
     ]
    }
   ],
   "source": [
    "g='/mnt/c/Users/ochapman/Documents/Mesirov/medullo_ecDNA/MB281/MB281_AA_amplicon3_graph.txt'\n",
    "b=os.path.join(os.getcwd(),'cohort','MB281.hg19.bed')\n",
    "bed_from_AA_graph(g,b,10)"
   ]
  },
  {
   "cell_type": "code",
   "execution_count": 97,
   "metadata": {
    "ExecuteTime": {
     "end_time": "2020-06-15T17:16:49.592653Z",
     "start_time": "2020-06-15T17:16:49.584062Z"
    }
   },
   "outputs": [
    {
     "name": "stdout",
     "output_type": "stream",
     "text": [
      "Wrote 15 lines.\n"
     ]
    }
   ],
   "source": [
    "g='/mnt/c/Users/ochapman/Documents/Mesirov/medullo_atac/AmpliconArchitect/MB268/MB268_AA_amplicon5_graph.txt'\n",
    "b=os.path.join(os.getcwd(),'cohort','MB268.hg19.bed')\n",
    "bed_from_AA_graph(g,b,10)"
   ]
  },
  {
   "cell_type": "code",
   "execution_count": 98,
   "metadata": {
    "ExecuteTime": {
     "end_time": "2020-06-15T17:17:55.347850Z",
     "start_time": "2020-06-15T17:17:55.341366Z"
    }
   },
   "outputs": [
    {
     "name": "stdout",
     "output_type": "stream",
     "text": [
      "Wrote 30 lines.\n"
     ]
    }
   ],
   "source": [
    "g='/mnt/c/Users/ochapman/Documents/Mesirov/medullo_atac/AmpliconArchitect/MB036/MB036_AA_amplicon9_graph.txt'\n",
    "b=os.path.join(os.getcwd(),'cohort','MB036.hg19.bed')\n",
    "bed_from_AA_graph(g,b,10)"
   ]
  },
  {
   "cell_type": "code",
   "execution_count": 99,
   "metadata": {
    "ExecuteTime": {
     "end_time": "2020-06-15T17:19:06.061170Z",
     "start_time": "2020-06-15T17:19:06.051945Z"
    }
   },
   "outputs": [
    {
     "name": "stdout",
     "output_type": "stream",
     "text": [
      "Wrote 21 lines.\n"
     ]
    }
   ],
   "source": [
    "g='/mnt/c/Users/ochapman/Documents/Mesirov/medullo_atac/AmpliconArchitect/MB177/MB177_AA_amplicon3_graph.txt'\n",
    "b=os.path.join(os.getcwd(),'cohort','MB177.hg19.bed')\n",
    "bed_from_AA_graph(g,b,10)"
   ]
  },
  {
   "cell_type": "code",
   "execution_count": 100,
   "metadata": {
    "ExecuteTime": {
     "end_time": "2020-06-15T17:23:41.255740Z",
     "start_time": "2020-06-15T17:23:41.248594Z"
    }
   },
   "outputs": [
    {
     "name": "stdout",
     "output_type": "stream",
     "text": [
      "Wrote 4 lines.\n"
     ]
    }
   ],
   "source": [
    "g='/mnt/c/Users/ochapman/Documents/Mesirov/medullo_ecDNA/icgc/ICGC_MB1/AA_results/AA_amplicon1_graph.txt'\n",
    "b=os.path.join(os.getcwd(),'cohort','ICGC_MB1.hg19.bed')\n",
    "bed_from_AA_graph(g,b,8)"
   ]
  },
  {
   "cell_type": "code",
   "execution_count": 101,
   "metadata": {
    "ExecuteTime": {
     "end_time": "2020-06-15T17:25:36.408712Z",
     "start_time": "2020-06-15T17:25:36.397202Z"
    }
   },
   "outputs": [
    {
     "name": "stdout",
     "output_type": "stream",
     "text": [
      "Wrote 54 lines.\n"
     ]
    }
   ],
   "source": [
    "g='/mnt/c/Users/ochapman/Documents/Mesirov/medullo_ecDNA/icgc/ICGC_MB131/AA_results/AA_amplicon1_graph.txt'\n",
    "b=os.path.join(os.getcwd(),'cohort','ICGC_MB131.hg19.bed')\n",
    "bed_from_AA_graph(g,b,10)"
   ]
  },
  {
   "cell_type": "code",
   "execution_count": 103,
   "metadata": {
    "ExecuteTime": {
     "end_time": "2020-06-15T17:26:44.877612Z",
     "start_time": "2020-06-15T17:26:44.871672Z"
    }
   },
   "outputs": [
    {
     "name": "stdout",
     "output_type": "stream",
     "text": [
      "Wrote 91 lines.\n"
     ]
    }
   ],
   "source": [
    "g='/mnt/c/Users/ochapman/Documents/Mesirov/medullo_ecDNA/icgc/ICGC_MB145/AA_results/AA_amplicon5_graph.txt'\n",
    "b=os.path.join(os.getcwd(),'cohort','ICGC_MB145.hg19.bed')\n",
    "bed_from_AA_graph(g,b,10)"
   ]
  },
  {
   "cell_type": "code",
   "execution_count": 104,
   "metadata": {
    "ExecuteTime": {
     "end_time": "2020-06-15T17:27:52.700646Z",
     "start_time": "2020-06-15T17:27:52.691696Z"
    }
   },
   "outputs": [
    {
     "name": "stdout",
     "output_type": "stream",
     "text": [
      "Wrote 15 lines.\n"
     ]
    }
   ],
   "source": [
    "g='/mnt/c/Users/ochapman/Documents/Mesirov/medullo_ecDNA/icgc/ICGC_MB165/AA_results/AA_amplicon2_graph.txt'\n",
    "b=os.path.join(os.getcwd(),'cohort','ICGC_MB165.hg19.bed')\n",
    "bed_from_AA_graph(g,b,7)"
   ]
  },
  {
   "cell_type": "code",
   "execution_count": 105,
   "metadata": {
    "ExecuteTime": {
     "end_time": "2020-06-15T17:29:15.629193Z",
     "start_time": "2020-06-15T17:29:15.623244Z"
    }
   },
   "outputs": [
    {
     "name": "stdout",
     "output_type": "stream",
     "text": [
      "Wrote 6 lines.\n"
     ]
    }
   ],
   "source": [
    "g='/mnt/c/Users/ochapman/Documents/Mesirov/medullo_ecDNA/icgc/ICGC_MB183/AA_results/AA_amplicon1_graph.txt'\n",
    "b=os.path.join(os.getcwd(),'cohort','ICGC_MB183.hg19.bed')\n",
    "bed_from_AA_graph(g,b,10)"
   ]
  },
  {
   "cell_type": "code",
   "execution_count": 106,
   "metadata": {
    "ExecuteTime": {
     "end_time": "2020-06-15T17:30:19.847004Z",
     "start_time": "2020-06-15T17:30:19.840330Z"
    }
   },
   "outputs": [
    {
     "name": "stdout",
     "output_type": "stream",
     "text": [
      "Wrote 75 lines.\n"
     ]
    }
   ],
   "source": [
    "g='/mnt/c/Users/ochapman/Documents/Mesirov/medullo_ecDNA/icgc/ICGC_MB186/AA_results/AA_amplicon1_graph.txt'\n",
    "b=os.path.join(os.getcwd(),'cohort','ICGC_MB186.hg19.bed')\n",
    "bed_from_AA_graph(g,b,10)"
   ]
  },
  {
   "cell_type": "code",
   "execution_count": 111,
   "metadata": {
    "ExecuteTime": {
     "end_time": "2020-06-15T17:36:56.674128Z",
     "start_time": "2020-06-15T17:36:56.666113Z"
    }
   },
   "outputs": [
    {
     "name": "stdout",
     "output_type": "stream",
     "text": [
      "Wrote 29 lines.\n"
     ]
    }
   ],
   "source": [
    "g='/mnt/c/Users/ochapman/Documents/Mesirov/medullo_ecDNA/icgc/ICGC_MB34/AA_results/AA_amplicon1_graph.txt'\n",
    "b=os.path.join(os.getcwd(),'cohort','ICGC_MB34_1.hg19.bed')\n",
    "bed_from_AA_graph(g,b,4)"
   ]
  },
  {
   "cell_type": "code",
   "execution_count": 109,
   "metadata": {
    "ExecuteTime": {
     "end_time": "2020-06-15T17:35:07.513515Z",
     "start_time": "2020-06-15T17:35:07.506087Z"
    }
   },
   "outputs": [
    {
     "name": "stdout",
     "output_type": "stream",
     "text": [
      "Wrote 10 lines.\n"
     ]
    }
   ],
   "source": [
    "g='/mnt/c/Users/ochapman/Documents/Mesirov/medullo_ecDNA/icgc/ICGC_MB34/AA_results/AA_amplicon3_graph.txt'\n",
    "b=os.path.join(os.getcwd(),'cohort','ICGC_MB34_3.hg19.bed')\n",
    "bed_from_AA_graph(g,b,10)"
   ]
  },
  {
   "cell_type": "code",
   "execution_count": 110,
   "metadata": {
    "ExecuteTime": {
     "end_time": "2020-06-15T17:36:43.990107Z",
     "start_time": "2020-06-15T17:36:43.980919Z"
    }
   },
   "outputs": [
    {
     "name": "stdout",
     "output_type": "stream",
     "text": [
      "Wrote 62 lines.\n"
     ]
    }
   ],
   "source": [
    "g='/mnt/c/Users/ochapman/Documents/Mesirov/medullo_ecDNA/icgc/ICGC_MB34/AA_results/AA_amplicon4_graph.txt'\n",
    "b=os.path.join(os.getcwd(),'cohort','ICGC_MB34_4.hg19.bed')\n",
    "bed_from_AA_graph(g,b,4)"
   ]
  },
  {
   "cell_type": "code",
   "execution_count": 112,
   "metadata": {
    "ExecuteTime": {
     "end_time": "2020-06-15T17:43:40.892178Z",
     "start_time": "2020-06-15T17:43:40.882743Z"
    }
   },
   "outputs": [
    {
     "name": "stdout",
     "output_type": "stream",
     "text": [
      "Wrote 13 lines.\n"
     ]
    }
   ],
   "source": [
    "g='/mnt/c/Users/ochapman/Documents/Mesirov/medullo_ecDNA/icgc/ICGC_MB6/AA_results/AA_amplicon1_graph.txt'\n",
    "b=os.path.join(os.getcwd(),'cohort','ICGC_MB6.hg19.bed')\n",
    "bed_from_AA_graph(g,b,10)"
   ]
  },
  {
   "cell_type": "code",
   "execution_count": 114,
   "metadata": {
    "ExecuteTime": {
     "end_time": "2020-06-15T17:49:00.930471Z",
     "start_time": "2020-06-15T17:49:00.922963Z"
    }
   },
   "outputs": [
    {
     "name": "stdout",
     "output_type": "stream",
     "text": [
      "Wrote 119 lines.\n"
     ]
    }
   ],
   "source": [
    "g='/mnt/c/Users/ochapman/Documents/Mesirov/medullo_ecDNA/icgc/ICGC_MB81/AA_results/AA_amplicon1_graph.txt'\n",
    "b=os.path.join(os.getcwd(),'cohort','ICGC_MB81.hg19.bed')\n",
    "bed_from_AA_graph(g,b,4)"
   ]
  },
  {
   "cell_type": "code",
   "execution_count": 115,
   "metadata": {
    "ExecuteTime": {
     "end_time": "2020-06-15T17:53:16.181416Z",
     "start_time": "2020-06-15T17:53:16.173120Z"
    }
   },
   "outputs": [
    {
     "name": "stdout",
     "output_type": "stream",
     "text": [
      "Wrote 8 lines.\n"
     ]
    }
   ],
   "source": [
    "g='/mnt/c/Users/ochapman/Documents/Mesirov/medullo_ecDNA/icgc/ICGC_MB89/AA_results/AA_amplicon1_graph.txt'\n",
    "b=os.path.join(os.getcwd(),'cohort','ICGC_MB89.hg19.bed')\n",
    "bed_from_AA_graph(g,b,10)"
   ]
  },
  {
   "cell_type": "code",
   "execution_count": 116,
   "metadata": {
    "ExecuteTime": {
     "end_time": "2020-06-15T17:55:30.702337Z",
     "start_time": "2020-06-15T17:55:30.695697Z"
    }
   },
   "outputs": [
    {
     "name": "stdout",
     "output_type": "stream",
     "text": [
      "Wrote 78 lines.\n"
     ]
    }
   ],
   "source": [
    "g='/mnt/c/Users/ochapman/Documents/Mesirov/medullo_ecDNA/icgc/MBRep_T79/AA_results/AA_amplicon1_graph.txt'\n",
    "b=os.path.join(os.getcwd(),'cohort','MBRep_T79.hg19.bed')\n",
    "bed_from_AA_graph(g,b,8)"
   ]
  },
  {
   "cell_type": "code",
   "execution_count": 117,
   "metadata": {
    "ExecuteTime": {
     "end_time": "2020-06-15T17:57:25.945772Z",
     "start_time": "2020-06-15T17:57:25.938057Z"
    }
   },
   "outputs": [
    {
     "name": "stdout",
     "output_type": "stream",
     "text": [
      "Wrote 5 lines.\n"
     ]
    }
   ],
   "source": [
    "g='/mnt/c/Users/ochapman/Documents/Mesirov/medullo_ecDNA/icgc/MDT-AP-0223/AA_results/AA_amplicon1_graph.txt'\n",
    "b=os.path.join(os.getcwd(),'cohort','MDT-AP-0223.hg19.bed')\n",
    "bed_from_AA_graph(g,b,10)"
   ]
  },
  {
   "cell_type": "code",
   "execution_count": 118,
   "metadata": {
    "ExecuteTime": {
     "end_time": "2020-06-15T17:58:45.633140Z",
     "start_time": "2020-06-15T17:58:45.625502Z"
    }
   },
   "outputs": [
    {
     "name": "stdout",
     "output_type": "stream",
     "text": [
      "Wrote 17 lines.\n"
     ]
    }
   ],
   "source": [
    "g='/mnt/c/Users/ochapman/Documents/Mesirov/medullo_ecDNA/icgc/MDT-AP-0435/AA_results/AA_amplicon2_graph.txt'\n",
    "b=os.path.join(os.getcwd(),'cohort','MDT-AP-0435.hg19.bed')\n",
    "bed_from_AA_graph(g,b,10)"
   ]
  },
  {
   "cell_type": "code",
   "execution_count": 119,
   "metadata": {
    "ExecuteTime": {
     "end_time": "2020-06-15T18:00:09.895935Z",
     "start_time": "2020-06-15T18:00:09.887465Z"
    }
   },
   "outputs": [
    {
     "name": "stdout",
     "output_type": "stream",
     "text": [
      "Wrote 95 lines.\n"
     ]
    }
   ],
   "source": [
    "g='/mnt/c/Users/ochapman/Documents/Mesirov/medullo_ecDNA/icgc/MDT-AP-0437/AA_results/AA_amplicon1_graph.txt'\n",
    "b=os.path.join(os.getcwd(),'cohort','MDT-AP-0437.hg19.bed')\n",
    "bed_from_AA_graph(g,b,8)"
   ]
  },
  {
   "cell_type": "code",
   "execution_count": 121,
   "metadata": {
    "ExecuteTime": {
     "end_time": "2020-06-15T18:01:25.145267Z",
     "start_time": "2020-06-15T18:01:25.139322Z"
    }
   },
   "outputs": [
    {
     "name": "stdout",
     "output_type": "stream",
     "text": [
      "Wrote 17 lines.\n"
     ]
    }
   ],
   "source": [
    "g='/mnt/c/Users/ochapman/Documents/Mesirov/medullo_ecDNA/icgc/MDT-AP-0707/AA_results/AA_amplicon1_graph.txt'\n",
    "b=os.path.join(os.getcwd(),'cohort','MDT-AP-0707_1.hg19.bed')\n",
    "bed_from_AA_graph(g,b,10)"
   ]
  },
  {
   "cell_type": "code",
   "execution_count": 122,
   "metadata": {
    "ExecuteTime": {
     "end_time": "2020-06-15T18:01:37.257080Z",
     "start_time": "2020-06-15T18:01:37.247945Z"
    }
   },
   "outputs": [
    {
     "name": "stdout",
     "output_type": "stream",
     "text": [
      "Wrote 28 lines.\n"
     ]
    }
   ],
   "source": [
    "g='/mnt/c/Users/ochapman/Documents/Mesirov/medullo_ecDNA/icgc/MDT-AP-0707/AA_results/AA_amplicon3_graph.txt'\n",
    "b=os.path.join(os.getcwd(),'cohort','MDT-AP-0707_3.hg19.bed')\n",
    "bed_from_AA_graph(g,b,10)"
   ]
  },
  {
   "cell_type": "code",
   "execution_count": 123,
   "metadata": {
    "ExecuteTime": {
     "end_time": "2020-06-15T18:03:06.840742Z",
     "start_time": "2020-06-15T18:03:06.832499Z"
    }
   },
   "outputs": [
    {
     "name": "stdout",
     "output_type": "stream",
     "text": [
      "Wrote 6 lines.\n"
     ]
    }
   ],
   "source": [
    "g='/mnt/c/Users/ochapman/Documents/Mesirov/medullo_ecDNA/icgc/MDT-AP-0749/AA_results/AA_amplicon1_graph.txt'\n",
    "b=os.path.join(os.getcwd(),'cohort','MDT-AP-0749_1.hg19.bed')\n",
    "bed_from_AA_graph(g,b,10)"
   ]
  },
  {
   "cell_type": "code",
   "execution_count": 124,
   "metadata": {
    "ExecuteTime": {
     "end_time": "2020-06-15T18:03:25.580331Z",
     "start_time": "2020-06-15T18:03:25.566465Z"
    }
   },
   "outputs": [
    {
     "name": "stdout",
     "output_type": "stream",
     "text": [
      "Wrote 11 lines.\n"
     ]
    }
   ],
   "source": [
    "g='/mnt/c/Users/ochapman/Documents/Mesirov/medullo_ecDNA/icgc/MDT-AP-0749/AA_results/AA_amplicon3_graph.txt'\n",
    "b=os.path.join(os.getcwd(),'cohort','MDT-AP-0749_3.hg19.bed')\n",
    "bed_from_AA_graph(g,b,10)"
   ]
  },
  {
   "cell_type": "code",
   "execution_count": 125,
   "metadata": {
    "ExecuteTime": {
     "end_time": "2020-06-15T18:04:25.064221Z",
     "start_time": "2020-06-15T18:04:25.052767Z"
    }
   },
   "outputs": [
    {
     "name": "stdout",
     "output_type": "stream",
     "text": [
      "Wrote 54 lines.\n"
     ]
    }
   ],
   "source": [
    "g='/mnt/c/Users/ochapman/Documents/Mesirov/medullo_ecDNA/icgc/MDT-AP-1165/AA_results/AA_amplicon1_graph.txt'\n",
    "b=os.path.join(os.getcwd(),'cohort','MDT-AP-1165.hg19.bed')\n",
    "bed_from_AA_graph(g,b,10)"
   ]
  },
  {
   "cell_type": "code",
   "execution_count": 126,
   "metadata": {
    "ExecuteTime": {
     "end_time": "2020-06-15T18:05:21.468928Z",
     "start_time": "2020-06-15T18:05:21.461879Z"
    }
   },
   "outputs": [
    {
     "name": "stdout",
     "output_type": "stream",
     "text": [
      "Wrote 40 lines.\n"
     ]
    }
   ],
   "source": [
    "g='/mnt/c/Users/ochapman/Documents/Mesirov/medullo_ecDNA/icgc/MDT-AP-1208/AA_results/AA_amplicon1_graph.txt'\n",
    "b=os.path.join(os.getcwd(),'cohort','MDT-AP-1208.hg19.bed')\n",
    "bed_from_AA_graph(g,b,10)"
   ]
  },
  {
   "cell_type": "code",
   "execution_count": 128,
   "metadata": {
    "ExecuteTime": {
     "end_time": "2020-06-15T18:07:18.781507Z",
     "start_time": "2020-06-15T18:07:18.773917Z"
    }
   },
   "outputs": [
    {
     "name": "stdout",
     "output_type": "stream",
     "text": [
      "Wrote 13 lines.\n"
     ]
    }
   ],
   "source": [
    "g='/mnt/c/Users/ochapman/Documents/Mesirov/medullo_ecDNA/icgc/MDT-AP-1209/AA_results/AA_amplicon1_graph.txt'\n",
    "b=os.path.join(os.getcwd(),'cohort','MDT-AP-1209.hg19.bed')\n",
    "bed_from_AA_graph(g,b,5)"
   ]
  },
  {
   "cell_type": "code",
   "execution_count": 129,
   "metadata": {
    "ExecuteTime": {
     "end_time": "2020-06-15T18:09:11.676912Z",
     "start_time": "2020-06-15T18:09:11.666275Z"
    }
   },
   "outputs": [
    {
     "name": "stdout",
     "output_type": "stream",
     "text": [
      "Wrote 21 lines.\n"
     ]
    }
   ],
   "source": [
    "g='/mnt/c/Users/ochapman/Documents/Mesirov/medullo_ecDNA/icgc/MDT-AP-1210/AA_results/AA_amplicon2_graph.txt'\n",
    "b=os.path.join(os.getcwd(),'cohort','MDT-AP-1210.hg19.bed')\n",
    "bed_from_AA_graph(g,b,4)"
   ]
  },
  {
   "cell_type": "code",
   "execution_count": 131,
   "metadata": {
    "ExecuteTime": {
     "end_time": "2020-06-15T18:12:23.943064Z",
     "start_time": "2020-06-15T18:12:23.933571Z"
    }
   },
   "outputs": [
    {
     "name": "stdout",
     "output_type": "stream",
     "text": [
      "Wrote 78 lines.\n"
     ]
    }
   ],
   "source": [
    "g='/mnt/c/Users/ochapman/Documents/Mesirov/medullo_ecDNA/icgc/MDT-AP-1218/AA_results/AA_amplicon1_graph.txt'\n",
    "b=os.path.join(os.getcwd(),'cohort','MDT-AP-1218.hg19.bed')\n",
    "bed_from_AA_graph(g,b,9)"
   ]
  },
  {
   "cell_type": "code",
   "execution_count": 133,
   "metadata": {
    "ExecuteTime": {
     "end_time": "2020-06-15T18:13:17.717551Z",
     "start_time": "2020-06-15T18:13:17.712331Z"
    }
   },
   "outputs": [
    {
     "name": "stdout",
     "output_type": "stream",
     "text": [
      "Wrote 19 lines.\n"
     ]
    }
   ],
   "source": [
    "g='/mnt/c/Users/ochapman/Documents/Mesirov/medullo_ecDNA/icgc/MDT-AP-2001/AA_results/AA_amplicon2_graph.txt'\n",
    "b=os.path.join(os.getcwd(),'cohort','MDT-AP-2001.hg19.bed')\n",
    "bed_from_AA_graph(g,b,10)"
   ]
  },
  {
   "cell_type": "code",
   "execution_count": 135,
   "metadata": {
    "ExecuteTime": {
     "end_time": "2020-06-15T18:14:50.375202Z",
     "start_time": "2020-06-15T18:14:50.369848Z"
    }
   },
   "outputs": [
    {
     "name": "stdout",
     "output_type": "stream",
     "text": [
      "Wrote 7 lines.\n"
     ]
    }
   ],
   "source": [
    "g='/mnt/c/Users/ochapman/Documents/Mesirov/medullo_ecDNA/icgc/MDT-AP-2174/AA_results/AA_amplicon2_graph.txt'\n",
    "b=os.path.join(os.getcwd(),'cohort','MDT-AP-2174.hg19.bed')\n",
    "bed_from_AA_graph(g,b,10)"
   ]
  },
  {
   "cell_type": "code",
   "execution_count": 136,
   "metadata": {
    "ExecuteTime": {
     "end_time": "2020-06-15T18:18:36.286149Z",
     "start_time": "2020-06-15T18:18:36.279851Z"
    }
   },
   "outputs": [
    {
     "name": "stdout",
     "output_type": "stream",
     "text": [
      "Wrote 5 lines.\n"
     ]
    }
   ],
   "source": [
    "g='/mnt/c/Users/ochapman/Documents/Mesirov/medullo_ecDNA/icgc/MDT-AP-2182/AA_results/AA_amplicon3_graph.txt'\n",
    "b=os.path.join(os.getcwd(),'cohort','MDT-AP-2182_3.hg19.bed')\n",
    "bed_from_AA_graph(g,b,10)"
   ]
  },
  {
   "cell_type": "code",
   "execution_count": 137,
   "metadata": {
    "ExecuteTime": {
     "end_time": "2020-06-15T18:19:03.231478Z",
     "start_time": "2020-06-15T18:19:03.223719Z"
    }
   },
   "outputs": [
    {
     "name": "stdout",
     "output_type": "stream",
     "text": [
      "Wrote 28 lines.\n"
     ]
    }
   ],
   "source": [
    "g='/mnt/c/Users/ochapman/Documents/Mesirov/medullo_ecDNA/icgc/MDT-AP-2182/AA_results/AA_amplicon6_graph.txt'\n",
    "b=os.path.join(os.getcwd(),'cohort','MDT-AP-2182_6.hg19.bed')\n",
    "bed_from_AA_graph(g,b,10)"
   ]
  },
  {
   "cell_type": "code",
   "execution_count": 138,
   "metadata": {
    "ExecuteTime": {
     "end_time": "2020-06-15T18:20:30.770594Z",
     "start_time": "2020-06-15T18:20:30.762003Z"
    }
   },
   "outputs": [
    {
     "name": "stdout",
     "output_type": "stream",
     "text": [
      "Wrote 99 lines.\n"
     ]
    }
   ],
   "source": [
    "g='/mnt/c/Users/ochapman/Documents/Mesirov/medullo_ecDNA/icgc/MDT-AP-2510/AA_results/AA_amplicon1_graph.txt'\n",
    "b=os.path.join(os.getcwd(),'cohort','MDT-AP-2510.hg19.bed')\n",
    "bed_from_AA_graph(g,b,8)"
   ]
  },
  {
   "cell_type": "code",
   "execution_count": 139,
   "metadata": {
    "ExecuteTime": {
     "end_time": "2020-06-15T18:21:22.854008Z",
     "start_time": "2020-06-15T18:21:22.838881Z"
    }
   },
   "outputs": [
    {
     "name": "stdout",
     "output_type": "stream",
     "text": [
      "Wrote 14 lines.\n"
     ]
    }
   ],
   "source": [
    "g='/mnt/c/Users/ochapman/Documents/Mesirov/medullo_ecDNA/icgc/MDT-AP-2559/AA_results/AA_amplicon2_graph.txt'\n",
    "b=os.path.join(os.getcwd(),'cohort','MDT-AP-2559.hg19.bed')\n",
    "bed_from_AA_graph(g,b,10)"
   ]
  },
  {
   "cell_type": "code",
   "execution_count": 140,
   "metadata": {
    "ExecuteTime": {
     "end_time": "2020-06-15T18:24:05.820133Z",
     "start_time": "2020-06-15T18:24:05.810363Z"
    }
   },
   "outputs": [
    {
     "name": "stdout",
     "output_type": "stream",
     "text": [
      "Wrote 33 lines.\n"
     ]
    }
   ],
   "source": [
    "g='/mnt/c/Users/ochapman/Documents/Mesirov/medullo_ecDNA/icgc/MDT-AP-2738/AA_results/AA_amplicon1_graph.txt'\n",
    "b=os.path.join(os.getcwd(),'cohort','MDT-AP-2738_1.hg19.bed')\n",
    "bed_from_AA_graph(g,b,10)"
   ]
  },
  {
   "cell_type": "code",
   "execution_count": 141,
   "metadata": {
    "ExecuteTime": {
     "end_time": "2020-06-15T18:24:24.782339Z",
     "start_time": "2020-06-15T18:24:24.775237Z"
    }
   },
   "outputs": [
    {
     "name": "stdout",
     "output_type": "stream",
     "text": [
      "Wrote 121 lines.\n"
     ]
    }
   ],
   "source": [
    "g='/mnt/c/Users/ochapman/Documents/Mesirov/medullo_ecDNA/icgc/MDT-AP-2738/AA_results/AA_amplicon2_graph.txt'\n",
    "b=os.path.join(os.getcwd(),'cohort','MDT-AP-2738_2.hg19.bed')\n",
    "bed_from_AA_graph(g,b,10)"
   ]
  },
  {
   "cell_type": "code",
   "execution_count": 142,
   "metadata": {
    "ExecuteTime": {
     "end_time": "2020-06-15T18:25:18.327750Z",
     "start_time": "2020-06-15T18:25:18.316765Z"
    }
   },
   "outputs": [
    {
     "name": "stdout",
     "output_type": "stream",
     "text": [
      "Wrote 46 lines.\n"
     ]
    }
   ],
   "source": [
    "g='/mnt/c/Users/ochapman/Documents/Mesirov/medullo_ecDNA/icgc/MDT-AP-2878/AA_results/AA_amplicon2_graph.txt'\n",
    "b=os.path.join(os.getcwd(),'cohort','MDT-AP-2878.hg19.bed')\n",
    "bed_from_AA_graph(g,b,10)"
   ]
  },
  {
   "cell_type": "code",
   "execution_count": 143,
   "metadata": {
    "ExecuteTime": {
     "end_time": "2020-06-15T18:26:01.394354Z",
     "start_time": "2020-06-15T18:26:01.384031Z"
    }
   },
   "outputs": [
    {
     "name": "stdout",
     "output_type": "stream",
     "text": [
      "Wrote 20 lines.\n"
     ]
    }
   ],
   "source": [
    "g='/mnt/c/Users/ochapman/Documents/Mesirov/medullo_ecDNA/icgc/MDT-AP-3017/AA_results/AA_amplicon2_graph.txt'\n",
    "b=os.path.join(os.getcwd(),'cohort','MDT-AP-3017.hg19.bed')\n",
    "bed_from_AA_graph(g,b,10)"
   ]
  },
  {
   "cell_type": "code",
   "execution_count": 144,
   "metadata": {
    "ExecuteTime": {
     "end_time": "2020-06-15T18:28:31.097784Z",
     "start_time": "2020-06-15T18:28:31.088891Z"
    }
   },
   "outputs": [
    {
     "name": "stdout",
     "output_type": "stream",
     "text": [
      "Wrote 2 lines.\n"
     ]
    }
   ],
   "source": [
    "g='/mnt/c/Users/ochapman/Documents/Mesirov/medullo_ecDNA/icgc/MDT-AP-3431/AA_results/AA_amplicon3_graph.txt'\n",
    "b=os.path.join(os.getcwd(),'cohort','MDT-AP-3431.hg19.bed')\n",
    "bed_from_AA_graph(g,b,10)"
   ]
  },
  {
   "cell_type": "code",
   "execution_count": 6,
   "metadata": {
    "ExecuteTime": {
     "end_time": "2020-10-24T00:04:46.142032Z",
     "start_time": "2020-10-24T00:04:46.136865Z"
    }
   },
   "outputs": [
    {
     "name": "stdout",
     "output_type": "stream",
     "text": [
      "Wrote 4 lines.\n"
     ]
    }
   ],
   "source": [
    "g='/mnt/c/Users/ochapman/Documents/Mesirov/medullo_ecDNA/cbttc/PT_7QKGGMKV/9aae06a5-802f-44fe-8fcd-9ae5e0c155e6_amplicon2_graph.txt'\n",
    "b=os.path.join(os.getcwd(),'cohort','PT_7QKGGMKV.hg38.bed')\n",
    "bed_from_AA_graph(g,b,10)"
   ]
  },
  {
   "cell_type": "code",
   "execution_count": 9,
   "metadata": {
    "ExecuteTime": {
     "end_time": "2020-10-24T00:04:46.142032Z",
     "start_time": "2020-10-24T00:04:46.136865Z"
    }
   },
   "outputs": [
    {
     "name": "stdout",
     "output_type": "stream",
     "text": [
      "Wrote 1 lines.\n"
     ]
    }
   ],
   "source": [
    "g='/mnt/c/Users/ochapman/Documents/Mesirov/medullo_ecDNA/cbttc/PT_8RB3EKNP/7d7707ef-2114-41e0-9882-3bbada0178fa_amplicon2_graph.txt'\n",
    "b=os.path.join(os.getcwd(),'cohort','PT_8RB3EKNP.hg38.bed')\n",
    "bed_from_AA_graph(g,b,10)"
   ]
  },
  {
   "cell_type": "code",
   "execution_count": 10,
   "metadata": {
    "ExecuteTime": {
     "end_time": "2020-10-24T00:06:25.617024Z",
     "start_time": "2020-10-24T00:06:25.610235Z"
    }
   },
   "outputs": [
    {
     "name": "stdout",
     "output_type": "stream",
     "text": [
      "Wrote 15 lines.\n"
     ]
    }
   ],
   "source": [
    "g='/mnt/c/Users/ochapman/Documents/Mesirov/medullo_ecDNA/cbttc/PT_9DER14KH/4f217025-edcf-4b9a-ac62-c27c8df15a66_amplicon3_graph.txt'\n",
    "b=os.path.join(os.getcwd(),'cohort','PT_9DER14KH.hg38.bed')\n",
    "bed_from_AA_graph(g,b,10)"
   ]
  },
  {
   "cell_type": "code",
   "execution_count": 11,
   "metadata": {
    "ExecuteTime": {
     "end_time": "2020-10-24T00:08:31.410947Z",
     "start_time": "2020-10-24T00:08:31.404699Z"
    }
   },
   "outputs": [
    {
     "name": "stdout",
     "output_type": "stream",
     "text": [
      "Wrote 8 lines.\n"
     ]
    }
   ],
   "source": [
    "g='/mnt/c/Users/ochapman/Documents/Mesirov/medullo_ecDNA/cbttc/PT_9YMRNZHH/ed7b2cd0-b04f-40c9-be5a-75ae8fbb05d5_amplicon2_graph.txt'\n",
    "b=os.path.join(os.getcwd(),'cohort','PT_9YMRNZHH.hg38.bed')\n",
    "bed_from_AA_graph(g,b,30)"
   ]
  },
  {
   "cell_type": "code",
   "execution_count": 13,
   "metadata": {
    "ExecuteTime": {
     "end_time": "2020-10-24T00:10:36.366913Z",
     "start_time": "2020-10-24T00:10:36.360824Z"
    }
   },
   "outputs": [
    {
     "name": "stdout",
     "output_type": "stream",
     "text": [
      "Wrote 15 lines.\n"
     ]
    }
   ],
   "source": [
    "g='/mnt/c/Users/ochapman/Documents/Mesirov/medullo_ecDNA/cbttc/PT_CXT81GRM/BS_3CG2N4PD/f1b1c4ed-efe5-4be1-a966-39a4d8d1cd93_amplicon1_graph.txt'\n",
    "b=os.path.join(os.getcwd(),'cohort','PT_CXT81GRM.hg38.bed')\n",
    "bed_from_AA_graph(g,b,10)"
   ]
  },
  {
   "cell_type": "code",
   "execution_count": 14,
   "metadata": {
    "ExecuteTime": {
     "end_time": "2020-10-24T00:13:24.469751Z",
     "start_time": "2020-10-24T00:13:24.463513Z"
    }
   },
   "outputs": [
    {
     "name": "stdout",
     "output_type": "stream",
     "text": [
      "Wrote 8 lines.\n"
     ]
    }
   ],
   "source": [
    "g='/mnt/c/Users/ochapman/Documents/Mesirov/medullo_ecDNA/cbttc/PT_FN4GEEFR/BS_E1VJCEWB/4973aa4a-1193-4a9c-83ac-7bd8234cbf10_amplicon1_graph.txt'\n",
    "b=os.path.join(os.getcwd(),'cohort','PT_FN4GEEFR.hg38.bed')\n",
    "bed_from_AA_graph(g,b,10)"
   ]
  },
  {
   "cell_type": "code",
   "execution_count": 15,
   "metadata": {
    "ExecuteTime": {
     "end_time": "2020-10-24T00:15:30.099408Z",
     "start_time": "2020-10-24T00:15:30.093667Z"
    }
   },
   "outputs": [
    {
     "name": "stdout",
     "output_type": "stream",
     "text": [
      "Wrote 8 lines.\n"
     ]
    }
   ],
   "source": [
    "g='/mnt/c/Users/ochapman/Documents/Mesirov/medullo_ecDNA/cbttc/PT_GR8P8NY5/BS_P99S85CY/eb8c28f8-1aea-4715-932f-a1a5b1588765_amplicon2_graph.txt'\n",
    "b=os.path.join(os.getcwd(),'cohort','PT_GR8P8NY5.hg38.bed')\n",
    "bed_from_AA_graph(g,b,10)"
   ]
  },
  {
   "cell_type": "code",
   "execution_count": 16,
   "metadata": {
    "ExecuteTime": {
     "end_time": "2020-10-24T00:16:37.575340Z",
     "start_time": "2020-10-24T00:16:37.568875Z"
    }
   },
   "outputs": [
    {
     "name": "stdout",
     "output_type": "stream",
     "text": [
      "Wrote 71 lines.\n"
     ]
    }
   ],
   "source": [
    "g='/mnt/c/Users/ochapman/Documents/Mesirov/medullo_ecDNA/cbttc/PT_QW5VW2PY/afebfb8d-8065-4db3-976e-4cabdb96ef94_amplicon1_graph.txt'\n",
    "b=os.path.join(os.getcwd(),'cohort','PT_QW5VW2PY.hg38.bed')\n",
    "bed_from_AA_graph(g,b,10)"
   ]
  },
  {
   "cell_type": "code",
   "execution_count": 18,
   "metadata": {
    "ExecuteTime": {
     "end_time": "2020-10-24T00:19:56.671536Z",
     "start_time": "2020-10-24T00:19:56.665216Z"
    }
   },
   "outputs": [
    {
     "name": "stdout",
     "output_type": "stream",
     "text": [
      "Wrote 45 lines.\n"
     ]
    }
   ],
   "source": [
    "g='/mnt/c/Users/ochapman/Documents/Mesirov/medullo_ecDNA/cbttc/PT_RFB07MZS/8fca16b2-fc48-46bf-b8e0-76b882aacdcb_amplicon1_graph.txt'\n",
    "b=os.path.join(os.getcwd(),'cohort','PT_RFB07MZS.hg38.bed')\n",
    "bed_from_AA_graph(g,b,4)"
   ]
  },
  {
   "cell_type": "code",
   "execution_count": 19,
   "metadata": {
    "ExecuteTime": {
     "end_time": "2020-10-24T00:21:41.753137Z",
     "start_time": "2020-10-24T00:21:41.747718Z"
    }
   },
   "outputs": [
    {
     "name": "stdout",
     "output_type": "stream",
     "text": [
      "Wrote 14 lines.\n"
     ]
    }
   ],
   "source": [
    "g='/mnt/c/Users/ochapman/Documents/Mesirov/medullo_ecDNA/cbttc/PT_VY45XTT7/84603d2e-dcbf-4b5f-bbcb-01c2c2d037cc_amplicon1_graph.txt'\n",
    "b=os.path.join(os.getcwd(),'cohort','PT_VY45XTT7.hg38.bed')\n",
    "bed_from_AA_graph(g,b,6)"
   ]
  },
  {
   "cell_type": "code",
   "execution_count": 20,
   "metadata": {
    "ExecuteTime": {
     "end_time": "2020-10-24T00:24:34.334282Z",
     "start_time": "2020-10-24T00:24:34.324200Z"
    }
   },
   "outputs": [
    {
     "name": "stdout",
     "output_type": "stream",
     "text": [
      "Wrote 98 lines.\n"
     ]
    }
   ],
   "source": [
    "g='/mnt/c/Users/ochapman/Documents/Mesirov/medullo_ecDNA/cbttc/PT_XA98HG1C/BS_5JC116NM/dd599690-14b6-4232-b58a-ef6ccabf692e_amplicon1_graph.txt'\n",
    "b=os.path.join(os.getcwd(),'cohort','PT_XA98HG1C.hg38.bed')\n",
    "bed_from_AA_graph(g,b,10)"
   ]
  },
  {
   "cell_type": "code",
   "execution_count": 21,
   "metadata": {
    "ExecuteTime": {
     "end_time": "2020-10-24T00:25:52.441219Z",
     "start_time": "2020-10-24T00:25:52.434523Z"
    }
   },
   "outputs": [
    {
     "name": "stdout",
     "output_type": "stream",
     "text": [
      "Wrote 25 lines.\n"
     ]
    }
   ],
   "source": [
    "g='/mnt/c/Users/ochapman/Documents/Mesirov/medullo_ecDNA/cbttc/PT_YFS3AWC0/43441b48-71ed-49e5-9a8e-47e981da5308_amplicon1_graph.txt'\n",
    "b=os.path.join(os.getcwd(),'cohort','PT_YFS3AWC0.hg38.bed')\n",
    "bed_from_AA_graph(g,b,10)"
   ]
  },
  {
   "cell_type": "code",
   "execution_count": 22,
   "metadata": {
    "ExecuteTime": {
     "end_time": "2020-10-24T00:56:06.666034Z",
     "start_time": "2020-10-24T00:56:06.659339Z"
    }
   },
   "outputs": [
    {
     "name": "stdout",
     "output_type": "stream",
     "text": [
      "Wrote 19 lines.\n"
     ]
    }
   ],
   "source": [
    "g='/mnt/c/Users/ochapman/Documents/Mesirov/medullo_ecDNA/stjude/SJMB008_D/SJMB008_D_amplicon1_graph.txt'\n",
    "b=os.path.join(os.getcwd(),'cohort','SJMB008_D.hg38.bed')\n",
    "bed_from_AA_graph(g,b,10)"
   ]
  },
  {
   "cell_type": "code",
   "execution_count": 23,
   "metadata": {
    "ExecuteTime": {
     "end_time": "2020-10-24T00:57:28.161194Z",
     "start_time": "2020-10-24T00:57:28.155348Z"
    }
   },
   "outputs": [
    {
     "name": "stdout",
     "output_type": "stream",
     "text": [
      "Wrote 7 lines.\n"
     ]
    }
   ],
   "source": [
    "g='/mnt/c/Users/ochapman/Documents/Mesirov/medullo_ecDNA/stjude/SJMB019_D/SJMB019_D_amplicon1_graph.txt'\n",
    "b=os.path.join(os.getcwd(),'cohort','SJMB019_D.hg38.bed')\n",
    "bed_from_AA_graph(g,b,8)"
   ]
  },
  {
   "cell_type": "code",
   "execution_count": 24,
   "metadata": {
    "ExecuteTime": {
     "end_time": "2020-10-24T00:59:10.303893Z",
     "start_time": "2020-10-24T00:59:10.297520Z"
    }
   },
   "outputs": [
    {
     "name": "stdout",
     "output_type": "stream",
     "text": [
      "Wrote 28 lines.\n"
     ]
    }
   ],
   "source": [
    "g='/mnt/c/Users/ochapman/Documents/Mesirov/medullo_ecDNA/stjude/SJMB024_D/SJMB024_D_amplicon1_graph.txt'\n",
    "b=os.path.join(os.getcwd(),'cohort','SJMB024_D.hg38.bed')\n",
    "bed_from_AA_graph(g,b,5)"
   ]
  },
  {
   "cell_type": "code",
   "execution_count": 25,
   "metadata": {
    "ExecuteTime": {
     "end_time": "2020-10-24T01:00:47.413770Z",
     "start_time": "2020-10-24T01:00:47.407739Z"
    }
   },
   "outputs": [
    {
     "name": "stdout",
     "output_type": "stream",
     "text": [
      "Wrote 12 lines.\n"
     ]
    }
   ],
   "source": [
    "g='/mnt/c/Users/ochapman/Documents/Mesirov/medullo_ecDNA/stjude/SJMB027_D/SJMB027_D_amplicon1_graph.txt'\n",
    "b=os.path.join(os.getcwd(),'cohort','SJMB027_D.hg38.bed')\n",
    "bed_from_AA_graph(g,b,8)"
   ]
  },
  {
   "cell_type": "code",
   "execution_count": 27,
   "metadata": {
    "ExecuteTime": {
     "end_time": "2020-10-24T01:03:51.241609Z",
     "start_time": "2020-10-24T01:03:51.236282Z"
    }
   },
   "outputs": [
    {
     "name": "stdout",
     "output_type": "stream",
     "text": [
      "Wrote 7 lines.\n"
     ]
    }
   ],
   "source": [
    "g='/mnt/c/Users/ochapman/Documents/Mesirov/medullo_ecDNA/stjude/SJMB030020_D1/SJMB030020_D1_amplicon1_graph.txt'\n",
    "b=os.path.join(os.getcwd(),'cohort','SJMB030020_D1_1.hg38.bed')\n",
    "bed_from_AA_graph(g,b,7)"
   ]
  },
  {
   "cell_type": "code",
   "execution_count": 28,
   "metadata": {
    "ExecuteTime": {
     "end_time": "2020-10-24T01:04:37.680714Z",
     "start_time": "2020-10-24T01:04:37.674168Z"
    }
   },
   "outputs": [
    {
     "name": "stdout",
     "output_type": "stream",
     "text": [
      "Wrote 18 lines.\n"
     ]
    }
   ],
   "source": [
    "g='/mnt/c/Users/ochapman/Documents/Mesirov/medullo_ecDNA/stjude/SJMB030020_D1/SJMB030020_D1_amplicon2_graph.txt'\n",
    "b=os.path.join(os.getcwd(),'cohort','SJMB030020_D1_2.hg38.bed')\n",
    "bed_from_AA_graph(g,b,20)"
   ]
  },
  {
   "cell_type": "code",
   "execution_count": 29,
   "metadata": {
    "ExecuteTime": {
     "end_time": "2020-10-24T01:05:24.497264Z",
     "start_time": "2020-10-24T01:05:24.489769Z"
    }
   },
   "outputs": [
    {
     "name": "stdout",
     "output_type": "stream",
     "text": [
      "Wrote 92 lines.\n"
     ]
    }
   ],
   "source": [
    "g='/mnt/c/Users/ochapman/Documents/Mesirov/medullo_ecDNA/stjude/SJMB030020_D1/SJMB030020_D1_amplicon3_graph.txt'\n",
    "b=os.path.join(os.getcwd(),'cohort','SJMB030020_D1_3.hg38.bed')\n",
    "bed_from_AA_graph(g,b,5)"
   ]
  },
  {
   "cell_type": "code",
   "execution_count": 30,
   "metadata": {
    "ExecuteTime": {
     "end_time": "2020-10-24T01:06:50.418476Z",
     "start_time": "2020-10-24T01:06:50.410824Z"
    }
   },
   "outputs": [
    {
     "name": "stdout",
     "output_type": "stream",
     "text": [
      "Wrote 31 lines.\n"
     ]
    }
   ],
   "source": [
    "g='/mnt/c/Users/ochapman/Documents/Mesirov/medullo_ecDNA/stjude/SJMB030020_D1/SJMB030020_D1_amplicon4_graph.txt'\n",
    "b=os.path.join(os.getcwd(),'cohort','SJMB030020_D1_4.hg38.bed')\n",
    "bed_from_AA_graph(g,b,20)"
   ]
  },
  {
   "cell_type": "code",
   "execution_count": 31,
   "metadata": {
    "ExecuteTime": {
     "end_time": "2020-10-24T01:09:41.766044Z",
     "start_time": "2020-10-24T01:09:41.759431Z"
    }
   },
   "outputs": [
    {
     "name": "stdout",
     "output_type": "stream",
     "text": [
      "Wrote 4 lines.\n"
     ]
    }
   ],
   "source": [
    "g='/mnt/c/Users/ochapman/Documents/Mesirov/medullo_ecDNA/stjude/SJMB030056_D1/SJMB030056_D1_amplicon2_graph.txt'\n",
    "b=os.path.join(os.getcwd(),'cohort','SJMB030056_D1.hg38.bed')\n",
    "bed_from_AA_graph(g,b,7)"
   ]
  },
  {
   "cell_type": "code",
   "execution_count": 32,
   "metadata": {
    "ExecuteTime": {
     "end_time": "2020-10-24T01:12:34.683541Z",
     "start_time": "2020-10-24T01:12:34.677338Z"
    }
   },
   "outputs": [
    {
     "name": "stdout",
     "output_type": "stream",
     "text": [
      "Wrote 29 lines.\n"
     ]
    }
   ],
   "source": [
    "g='/mnt/c/Users/ochapman/Documents/Mesirov/medullo_ecDNA/stjude/SJMB030181_D1/SJMB030181_D1_amplicon1_graph.txt'\n",
    "b=os.path.join(os.getcwd(),'cohort','SJMB030181_D1.hg38.bed')\n",
    "bed_from_AA_graph(g,b,10)"
   ]
  },
  {
   "cell_type": "code",
   "execution_count": 33,
   "metadata": {
    "ExecuteTime": {
     "end_time": "2020-10-24T01:26:27.081459Z",
     "start_time": "2020-10-24T01:26:27.076142Z"
    }
   },
   "outputs": [
    {
     "name": "stdout",
     "output_type": "stream",
     "text": [
      "Wrote 6 lines.\n"
     ]
    }
   ],
   "source": [
    "g='/mnt/c/Users/ochapman/Documents/Mesirov/medullo_ecDNA/stjude/SJMB030296_D1/SJMB030296_D1_amplicon1_graph.txt'\n",
    "b=os.path.join(os.getcwd(),'cohort','SJMB030296_D1.hg38.bed')\n",
    "bed_from_AA_graph(g,b,10)"
   ]
  },
  {
   "cell_type": "code",
   "execution_count": 34,
   "metadata": {
    "ExecuteTime": {
     "end_time": "2020-10-24T01:29:12.746815Z",
     "start_time": "2020-10-24T01:29:12.740396Z"
    }
   },
   "outputs": [
    {
     "name": "stdout",
     "output_type": "stream",
     "text": [
      "Wrote 8 lines.\n"
     ]
    }
   ],
   "source": [
    "g='/mnt/c/Users/ochapman/Documents/Mesirov/medullo_ecDNA/stjude/SJMB030312_D1/SJMB030312_D1_amplicon1_graph.txt'\n",
    "b=os.path.join(os.getcwd(),'cohort','SJMB030312_D1.hg38.bed')\n",
    "bed_from_AA_graph(g,b,20)"
   ]
  },
  {
   "cell_type": "code",
   "execution_count": 35,
   "metadata": {
    "ExecuteTime": {
     "end_time": "2020-10-24T01:31:23.312054Z",
     "start_time": "2020-10-24T01:31:23.304747Z"
    }
   },
   "outputs": [
    {
     "name": "stdout",
     "output_type": "stream",
     "text": [
      "Wrote 11 lines.\n"
     ]
    }
   ],
   "source": [
    "g='/mnt/c/Users/ochapman/Documents/Mesirov/medullo_ecDNA/stjude/SJMB030610_D1/SJMB030610_D1_amplicon8_graph.txt'\n",
    "b=os.path.join(os.getcwd(),'cohort','SJMB030610_D1.hg38.bed')\n",
    "bed_from_AA_graph(g,b,10)"
   ]
  },
  {
   "cell_type": "code",
   "execution_count": 36,
   "metadata": {
    "ExecuteTime": {
     "end_time": "2020-10-24T01:34:02.526764Z",
     "start_time": "2020-10-24T01:34:02.520774Z"
    }
   },
   "outputs": [
    {
     "name": "stdout",
     "output_type": "stream",
     "text": [
      "Wrote 8 lines.\n"
     ]
    }
   ],
   "source": [
    "g='/mnt/c/Users/ochapman/Documents/Mesirov/medullo_ecDNA/stjude/SJMB030910_D2/SJMB030910_D2_amplicon9_graph.txt'\n",
    "b=os.path.join(os.getcwd(),'cohort','SJMB030910_D2.hg38.bed')\n",
    "bed_from_AA_graph(g,b,5)"
   ]
  },
  {
   "cell_type": "code",
   "execution_count": 37,
   "metadata": {
    "ExecuteTime": {
     "end_time": "2020-10-24T01:35:45.418731Z",
     "start_time": "2020-10-24T01:35:45.412068Z"
    }
   },
   "outputs": [
    {
     "name": "stdout",
     "output_type": "stream",
     "text": [
      "Wrote 17 lines.\n"
     ]
    }
   ],
   "source": [
    "g='/mnt/c/Users/ochapman/Documents/Mesirov/medullo_ecDNA/stjude/SJMB030915_D2/SJMB030915_D2_amplicon1_graph.txt'\n",
    "b=os.path.join(os.getcwd(),'cohort','SJMB030915_D2.hg38.bed')\n",
    "bed_from_AA_graph(g,b,20)"
   ]
  },
  {
   "cell_type": "code",
   "execution_count": 38,
   "metadata": {
    "ExecuteTime": {
     "end_time": "2020-10-24T01:37:08.587380Z",
     "start_time": "2020-10-24T01:37:08.578711Z"
    }
   },
   "outputs": [
    {
     "name": "stdout",
     "output_type": "stream",
     "text": [
      "Wrote 140 lines.\n"
     ]
    }
   ],
   "source": [
    "g='/mnt/c/Users/ochapman/Documents/Mesirov/medullo_ecDNA/stjude/SJMB038_D/SJMB038_D_amplicon1_graph.txt'\n",
    "b=os.path.join(os.getcwd(),'cohort','SJMB038_D.hg38.bed')\n",
    "bed_from_AA_graph(g,b,10)"
   ]
  },
  {
   "cell_type": "code",
   "execution_count": 39,
   "metadata": {
    "ExecuteTime": {
     "end_time": "2020-10-24T01:40:04.301904Z",
     "start_time": "2020-10-24T01:40:04.295244Z"
    }
   },
   "outputs": [
    {
     "name": "stdout",
     "output_type": "stream",
     "text": [
      "Wrote 25 lines.\n"
     ]
    }
   ],
   "source": [
    "g='/mnt/c/Users/ochapman/Documents/Mesirov/medullo_ecDNA/stjude/SJMB067_D/SJMB067_D_amplicon1_graph.txt'\n",
    "b=os.path.join(os.getcwd(),'cohort','SJMB067_D.hg38.bed')\n",
    "bed_from_AA_graph(g,b,10)"
   ]
  },
  {
   "cell_type": "markdown",
   "metadata": {},
   "source": [
    "# PDX"
   ]
  },
  {
   "cell_type": "code",
   "execution_count": 57,
   "metadata": {
    "ExecuteTime": {
     "end_time": "2020-06-15T00:48:45.706865Z",
     "start_time": "2020-06-15T00:48:45.699090Z"
    }
   },
   "outputs": [
    {
     "name": "stdout",
     "output_type": "stream",
     "text": [
      "Wrote 41 lines.\n"
     ]
    }
   ],
   "source": [
    "g='/mnt/c/Users/ochapman/Documents/Mesirov/medullo_ecDNA/C28/AA_amplicon3_graph.txt'\n",
    "b=os.path.join(os.getcwd(),'pdx','C28.bed')\n",
    "bed_from_AA_graph(g,b,10)"
   ]
  },
  {
   "cell_type": "code",
   "execution_count": 58,
   "metadata": {
    "ExecuteTime": {
     "end_time": "2020-06-15T00:48:46.651229Z",
     "start_time": "2020-06-15T00:48:46.643152Z"
    }
   },
   "outputs": [
    {
     "name": "stdout",
     "output_type": "stream",
     "text": [
      "Wrote 24 lines.\n"
     ]
    }
   ],
   "source": [
    "g='/mnt/c/Users/ochapman/Documents/Mesirov/medullo_ecDNA/D341/AA_amplicon3_graph.txt'\n",
    "b=os.path.join(os.getcwd(),'pdx','D341.bed')\n",
    "bed_from_AA_graph(g,b,10)"
   ]
  },
  {
   "cell_type": "code",
   "execution_count": 59,
   "metadata": {
    "ExecuteTime": {
     "end_time": "2020-06-15T00:48:51.694562Z",
     "start_time": "2020-06-15T00:48:51.685884Z"
    }
   },
   "outputs": [
    {
     "name": "stdout",
     "output_type": "stream",
     "text": [
      "Wrote 38 lines.\n"
     ]
    }
   ],
   "source": [
    "g='/mnt/c/Users/ochapman/Documents/Mesirov/medullo_ecDNA/D425/D425_amplicon451_graph.txt'\n",
    "b=os.path.join(os.getcwd(),'pdx','D425.bed')\n",
    "bed_from_AA_graph(g,b,10)"
   ]
  },
  {
   "cell_type": "code",
   "execution_count": 60,
   "metadata": {
    "ExecuteTime": {
     "end_time": "2020-06-15T00:48:52.001153Z",
     "start_time": "2020-06-15T00:48:51.990707Z"
    }
   },
   "outputs": [
    {
     "name": "stdout",
     "output_type": "stream",
     "text": [
      "Wrote 197 lines.\n"
     ]
    }
   ],
   "source": [
    "g='/mnt/c/Users/ochapman/Documents/Mesirov/medullo_ecDNA/D458/AA_amplicon238_graph.txt'\n",
    "b=os.path.join(os.getcwd(),'pdx','D458.bed')\n",
    "bed_from_AA_graph(g,b,10)"
   ]
  },
  {
   "cell_type": "code",
   "execution_count": 61,
   "metadata": {
    "ExecuteTime": {
     "end_time": "2020-06-15T00:48:52.272693Z",
     "start_time": "2020-06-15T00:48:52.264319Z"
    }
   },
   "outputs": [
    {
     "name": "stdout",
     "output_type": "stream",
     "text": [
      "Wrote 16 lines.\n"
     ]
    }
   ],
   "source": [
    "g='/mnt/c/Users/ochapman/Documents/Mesirov/medullo_ecDNA/MED511/AA_amplicon4_graph.txt'\n",
    "b=os.path.join(os.getcwd(),'pdx','MED511.bed')\n",
    "bed_from_AA_graph(g,b,10)"
   ]
  },
  {
   "cell_type": "code",
   "execution_count": 62,
   "metadata": {
    "ExecuteTime": {
     "end_time": "2020-06-15T00:48:52.557873Z",
     "start_time": "2020-06-15T00:48:52.548808Z"
    },
    "scrolled": true
   },
   "outputs": [
    {
     "name": "stdout",
     "output_type": "stream",
     "text": [
      "Wrote 7 lines.\n"
     ]
    }
   ],
   "source": [
    "g='/mnt/c/Users/ochapman/Documents/Mesirov/medullo_ecDNA/case11/AA_results/AA_amplicon1_graph.txt'\n",
    "b=os.path.join(os.getcwd(),'pdx','RCMB56_1.bed')\n",
    "bed_from_AA_graph(g,b,10)"
   ]
  },
  {
   "cell_type": "code",
   "execution_count": 63,
   "metadata": {
    "ExecuteTime": {
     "end_time": "2020-06-15T00:48:52.918204Z",
     "start_time": "2020-06-15T00:48:52.901249Z"
    }
   },
   "outputs": [
    {
     "name": "stdout",
     "output_type": "stream",
     "text": [
      "Wrote 39 lines.\n"
     ]
    }
   ],
   "source": [
    "g='/mnt/c/Users/ochapman/Documents/Mesirov/medullo_ecDNA/case11/AA_results/AA_amplicon2_graph.txt'\n",
    "b=os.path.join(os.getcwd(),'pdx','RCMB56_2.bed')\n",
    "bed_from_AA_graph(g,b,9)"
   ]
  },
  {
   "cell_type": "code",
   "execution_count": 64,
   "metadata": {
    "ExecuteTime": {
     "end_time": "2020-06-15T00:48:53.333973Z",
     "start_time": "2020-06-15T00:48:53.318867Z"
    }
   },
   "outputs": [
    {
     "name": "stdout",
     "output_type": "stream",
     "text": [
      "Wrote 5 lines.\n"
     ]
    }
   ],
   "source": [
    "g='/mnt/c/Users/ochapman/Documents/Mesirov/medullo_ecDNA/RWR-PDX/HT_018_SD03_XP1_686/AA_results/AA_amplicon1_graph.txt'\n",
    "b=os.path.join(os.getcwd(),'pdx','HT_018_SD03_XP1_686_1.bed')\n",
    "bed_from_AA_graph(g,b,20)"
   ]
  },
  {
   "cell_type": "code",
   "execution_count": 65,
   "metadata": {
    "ExecuteTime": {
     "end_time": "2020-06-15T00:48:53.661822Z",
     "start_time": "2020-06-15T00:48:53.648567Z"
    }
   },
   "outputs": [
    {
     "name": "stdout",
     "output_type": "stream",
     "text": [
      "Wrote 11 lines.\n"
     ]
    }
   ],
   "source": [
    "g='/mnt/c/Users/ochapman/Documents/Mesirov/medullo_ecDNA/RWR-PDX/HT_018_SD03_XP1_686/AA_results/AA_amplicon2_graph.txt'\n",
    "b=os.path.join(os.getcwd(),'pdx','HT_018_SD03_XP1_686_2.bed')\n",
    "bed_from_AA_graph(g,b,20)"
   ]
  },
  {
   "cell_type": "code",
   "execution_count": 66,
   "metadata": {
    "ExecuteTime": {
     "end_time": "2020-06-15T00:48:53.960809Z",
     "start_time": "2020-06-15T00:48:53.943686Z"
    }
   },
   "outputs": [
    {
     "name": "stdout",
     "output_type": "stream",
     "text": [
      "Wrote 18 lines.\n"
     ]
    }
   ],
   "source": [
    "g='/mnt/c/Users/ochapman/Documents/Mesirov/medullo_ecDNA/RWR-PDX/BT084_XP1_629/AA_results/AA_amplicon1_graph.txt'\n",
    "b=os.path.join(os.getcwd(),'pdx','BT084_XP1_629_1.bed')\n",
    "bed_from_AA_graph(g,b,20)"
   ]
  },
  {
   "cell_type": "code",
   "execution_count": 67,
   "metadata": {
    "ExecuteTime": {
     "end_time": "2020-06-15T00:48:54.256764Z",
     "start_time": "2020-06-15T00:48:54.241805Z"
    }
   },
   "outputs": [
    {
     "name": "stdout",
     "output_type": "stream",
     "text": [
      "Wrote 42 lines.\n"
     ]
    }
   ],
   "source": [
    "g='/mnt/c/Users/ochapman/Documents/Mesirov/medullo_ecDNA/RWR-PDX/BT084_XP1_629/AA_results/AA_amplicon3_graph.txt'\n",
    "b=os.path.join(os.getcwd(),'pdx','BT084_XP1_629_3.bed')\n",
    "bed_from_AA_graph(g,b,20)"
   ]
  },
  {
   "cell_type": "code",
   "execution_count": 68,
   "metadata": {
    "ExecuteTime": {
     "end_time": "2020-06-15T00:48:54.531887Z",
     "start_time": "2020-06-15T00:48:54.512358Z"
    }
   },
   "outputs": [
    {
     "name": "stdout",
     "output_type": "stream",
     "text": [
      "Wrote 29 lines.\n"
     ]
    }
   ],
   "source": [
    "g='/mnt/c/Users/ochapman/Documents/Mesirov/medullo_ecDNA/RWR-PDX/HT_028_P1M1/AA_results/AA_amplicon1_graph.txt'\n",
    "b=os.path.join(os.getcwd(),'pdx','HT_028_P1M1.bed')\n",
    "bed_from_AA_graph(g,b,20)"
   ]
  },
  {
   "cell_type": "code",
   "execution_count": 69,
   "metadata": {
    "ExecuteTime": {
     "end_time": "2020-06-15T00:48:54.793512Z",
     "start_time": "2020-06-15T00:48:54.783329Z"
    }
   },
   "outputs": [
    {
     "name": "stdout",
     "output_type": "stream",
     "text": [
      "Wrote 12 lines.\n"
     ]
    }
   ],
   "source": [
    "g='/mnt/c/Users/ochapman/Documents/Mesirov/medullo_ecDNA/RWR-PDX/HT_MB002/AA_results/AA_amplicon1_graph.txt'\n",
    "b=os.path.join(os.getcwd(),'pdx','HT_MB002.bed')\n",
    "bed_from_AA_graph(g,b,10)"
   ]
  },
  {
   "cell_type": "code",
   "execution_count": 70,
   "metadata": {
    "ExecuteTime": {
     "end_time": "2020-06-15T00:48:55.055176Z",
     "start_time": "2020-06-15T00:48:55.046889Z"
    }
   },
   "outputs": [
    {
     "name": "stdout",
     "output_type": "stream",
     "text": [
      "Wrote 4 lines.\n"
     ]
    }
   ],
   "source": [
    "g='/mnt/c/Users/ochapman/Documents/Mesirov/medullo_ecDNA/RWR-PDX/Icb_984MB_XP11/AA_results/AA_amplicon2_graph.txt'\n",
    "b=os.path.join(os.getcwd(),'pdx','Icb984MB_XP11_2.bed')\n",
    "bed_from_AA_graph(g,b,10)"
   ]
  },
  {
   "cell_type": "code",
   "execution_count": 71,
   "metadata": {
    "ExecuteTime": {
     "end_time": "2020-06-15T00:48:55.334745Z",
     "start_time": "2020-06-15T00:48:55.325093Z"
    }
   },
   "outputs": [
    {
     "name": "stdout",
     "output_type": "stream",
     "text": [
      "Wrote 73 lines.\n"
     ]
    }
   ],
   "source": [
    "g='/mnt/c/Users/ochapman/Documents/Mesirov/medullo_ecDNA/RWR-PDX/Icb_984MB_XP11/AA_results/AA_amplicon3_graph.txt'\n",
    "b=os.path.join(os.getcwd(),'pdx','Icb984MB_XP11_3.bed')\n",
    "bed_from_AA_graph(g,b,10)"
   ]
  },
  {
   "cell_type": "code",
   "execution_count": 72,
   "metadata": {
    "ExecuteTime": {
     "end_time": "2020-06-15T00:48:55.611766Z",
     "start_time": "2020-06-15T00:48:55.596412Z"
    }
   },
   "outputs": [
    {
     "name": "stdout",
     "output_type": "stream",
     "text": [
      "Wrote 59 lines.\n"
     ]
    }
   ],
   "source": [
    "g='/mnt/c/Users/ochapman/Documents/Mesirov/medullo_ecDNA/RWR-PDX/Icb_984MB_XP11/AA_results/AA_amplicon7_graph.txt'\n",
    "b=os.path.join(os.getcwd(),'pdx','Icb984MB_XP11_7.bed')\n",
    "bed_from_AA_graph(g,b,10)"
   ]
  },
  {
   "cell_type": "code",
   "execution_count": 73,
   "metadata": {
    "ExecuteTime": {
     "end_time": "2020-06-15T00:48:55.888996Z",
     "start_time": "2020-06-15T00:48:55.881017Z"
    }
   },
   "outputs": [
    {
     "name": "stdout",
     "output_type": "stream",
     "text": [
      "Wrote 4 lines.\n"
     ]
    }
   ],
   "source": [
    "g='/mnt/c/Users/ochapman/Documents/Mesirov/medullo_ecDNA/RWR-PDX/Icb_1487MB_XP/AA_results/AA_amplicon3_graph.txt'\n",
    "b=os.path.join(os.getcwd(),'pdx','Icb_1487MB_XP_3.bed')\n",
    "bed_from_AA_graph(g,b,10)"
   ]
  },
  {
   "cell_type": "code",
   "execution_count": 74,
   "metadata": {
    "ExecuteTime": {
     "end_time": "2020-06-15T00:48:56.181874Z",
     "start_time": "2020-06-15T00:48:56.167321Z"
    }
   },
   "outputs": [
    {
     "name": "stdout",
     "output_type": "stream",
     "text": [
      "Wrote 8 lines.\n"
     ]
    }
   ],
   "source": [
    "g='/mnt/c/Users/ochapman/Documents/Mesirov/medullo_ecDNA/RWR-PDX/Icb_1487MB_XP/AA_results/AA_amplicon6_graph.txt'\n",
    "b=os.path.join(os.getcwd(),'pdx','Icb_1487MB_XP_6.bed')\n",
    "bed_from_AA_graph(g,b,10)"
   ]
  },
  {
   "cell_type": "code",
   "execution_count": 75,
   "metadata": {
    "ExecuteTime": {
     "end_time": "2020-06-15T00:48:56.423721Z",
     "start_time": "2020-06-15T00:48:56.409094Z"
    }
   },
   "outputs": [
    {
     "name": "stdout",
     "output_type": "stream",
     "text": [
      "Wrote 63 lines.\n"
     ]
    }
   ],
   "source": [
    "g='/mnt/c/Users/ochapman/Documents/Mesirov/medullo_ecDNA/RWR-PDX/MB009_XP/AA_results/AA_amplicon1_graph.txt'\n",
    "b=os.path.join(os.getcwd(),'pdx','MB009_XP.bed')\n",
    "bed_from_AA_graph(g,b,10)"
   ]
  },
  {
   "cell_type": "code",
   "execution_count": 76,
   "metadata": {
    "ExecuteTime": {
     "end_time": "2020-06-15T00:48:56.659187Z",
     "start_time": "2020-06-15T00:48:56.644455Z"
    }
   },
   "outputs": [
    {
     "name": "stdout",
     "output_type": "stream",
     "text": [
      "Wrote 16 lines.\n"
     ]
    }
   ],
   "source": [
    "g='/mnt/c/Users/ochapman/Documents/Mesirov/medullo_ecDNA/RWR-PDX/Med211FH_P2-2/AA_results/AA_amplicon1_graph.txt'\n",
    "b=os.path.join(os.getcwd(),'pdx','Med211FH_P2-2.bed')\n",
    "bed_from_AA_graph(g,b,10)"
   ]
  },
  {
   "cell_type": "code",
   "execution_count": 77,
   "metadata": {
    "ExecuteTime": {
     "end_time": "2020-06-15T00:48:56.874694Z",
     "start_time": "2020-06-15T00:48:56.859005Z"
    }
   },
   "outputs": [
    {
     "name": "stdout",
     "output_type": "stream",
     "text": [
      "Wrote 215 lines.\n"
     ]
    }
   ],
   "source": [
    "g='/mnt/c/Users/ochapman/Documents/Mesirov/medullo_ecDNA/RWR-PDX/Med411FH_fP2-4/AA_results/AA_amplicon3_graph.txt'\n",
    "b=os.path.join(os.getcwd(),'pdx','Med411FH_fP2-4.bed')\n",
    "bed_from_AA_graph(g,b,10)"
   ]
  },
  {
   "cell_type": "code",
   "execution_count": 78,
   "metadata": {
    "ExecuteTime": {
     "end_time": "2020-06-15T00:48:57.197888Z",
     "start_time": "2020-06-15T00:48:57.183799Z"
    }
   },
   "outputs": [
    {
     "name": "stdout",
     "output_type": "stream",
     "text": [
      "Wrote 16 lines.\n"
     ]
    }
   ],
   "source": [
    "g='/mnt/c/Users/ochapman/Documents/Mesirov/medullo_ecDNA/RWR-PDX/Med411FH_Med511FH_P3-3/AA_results/AA_amplicon1_graph.txt'\n",
    "b=os.path.join(os.getcwd(),'pdx','Med411FH_Med511FH_P3-3.bed')\n",
    "bed_from_AA_graph(g,b,10)"
   ]
  },
  {
   "cell_type": "code",
   "execution_count": 79,
   "metadata": {
    "ExecuteTime": {
     "end_time": "2020-06-15T00:48:57.485943Z",
     "start_time": "2020-06-15T00:48:57.472121Z"
    }
   },
   "outputs": [
    {
     "name": "stdout",
     "output_type": "stream",
     "text": [
      "Wrote 4 lines.\n"
     ]
    }
   ],
   "source": [
    "g='/mnt/c/Users/ochapman/Documents/Mesirov/medullo_ecDNA/RWR-PDX/Med411FH_P3/AA_results/AA_amplicon3_graph.txt'\n",
    "b=os.path.join(os.getcwd(),'pdx','Med411FH_P3.bed')\n",
    "bed_from_AA_graph(g,b,10)"
   ]
  },
  {
   "cell_type": "code",
   "execution_count": 80,
   "metadata": {
    "ExecuteTime": {
     "end_time": "2020-06-15T00:48:57.832253Z",
     "start_time": "2020-06-15T00:48:57.808036Z"
    }
   },
   "outputs": [
    {
     "name": "stdout",
     "output_type": "stream",
     "text": [
      "Wrote 11 lines.\n"
     ]
    }
   ],
   "source": [
    "g='/mnt/c/Users/ochapman/Documents/Mesirov/medullo_ecDNA/RWR-PDX/Med411FH_P3-5/AA_results/AA_amplicon2_graph.txt'\n",
    "b=os.path.join(os.getcwd(),'pdx','Med411FH_P3-5.bed')\n",
    "bed_from_AA_graph(g,b,10)"
   ]
  },
  {
   "cell_type": "code",
   "execution_count": 81,
   "metadata": {
    "ExecuteTime": {
     "end_time": "2020-06-15T00:48:58.129137Z",
     "start_time": "2020-06-15T00:48:58.115371Z"
    }
   },
   "outputs": [
    {
     "name": "stdout",
     "output_type": "stream",
     "text": [
      "Wrote 2 lines.\n"
     ]
    }
   ],
   "source": [
    "g='/mnt/c/Users/ochapman/Documents/Mesirov/medullo_ecDNA/RWR-PDX/Med1712FH_Med1612FH_P4/AA_results/AA_amplicon2_graph.txt'\n",
    "b=os.path.join(os.getcwd(),'pdx','Med1712FH_Med1612FH_P4.bed')\n",
    "bed_from_AA_graph(g,b,9)"
   ]
  },
  {
   "cell_type": "code",
   "execution_count": 82,
   "metadata": {
    "ExecuteTime": {
     "end_time": "2020-06-15T00:48:58.445608Z",
     "start_time": "2020-06-15T00:48:58.432084Z"
    }
   },
   "outputs": [
    {
     "name": "stdout",
     "output_type": "stream",
     "text": [
      "Wrote 9 lines.\n"
     ]
    }
   ],
   "source": [
    "g='/mnt/c/Users/ochapman/Documents/Mesirov/medullo_ecDNA/RWR-PDX/Med1712FH_P1-2/AA_results/AA_amplicon4_graph.txt'\n",
    "b=os.path.join(os.getcwd(),'pdx','Med1712FH_P1-2.bed')\n",
    "bed_from_AA_graph(g,b,20)"
   ]
  },
  {
   "cell_type": "code",
   "execution_count": 83,
   "metadata": {
    "ExecuteTime": {
     "end_time": "2020-06-15T00:48:58.736345Z",
     "start_time": "2020-06-15T00:48:58.719326Z"
    }
   },
   "outputs": [
    {
     "name": "stdout",
     "output_type": "stream",
     "text": [
      "Wrote 69 lines.\n"
     ]
    }
   ],
   "source": [
    "g='/mnt/c/Users/ochapman/Documents/Mesirov/medullo_ecDNA/RWR-PDX/Med1911FH_P2-2/AA_results/AA_amplicon2_graph.txt'\n",
    "b=os.path.join(os.getcwd(),'pdx','Med1911FH_P2-2.bed')\n",
    "bed_from_AA_graph(g,b,10)"
   ]
  },
  {
   "cell_type": "code",
   "execution_count": 84,
   "metadata": {
    "ExecuteTime": {
     "end_time": "2020-06-15T00:48:59.075529Z",
     "start_time": "2020-06-15T00:48:59.058936Z"
    }
   },
   "outputs": [
    {
     "name": "stdout",
     "output_type": "stream",
     "text": [
      "Wrote 1 lines.\n"
     ]
    }
   ],
   "source": [
    "g='/mnt/c/Users/ochapman/Documents/Mesirov/medullo_ecDNA/RWR-PDX/RCMB24_XP/AA_results/AA_amplicon1_graph.txt'\n",
    "b=os.path.join(os.getcwd(),'pdx','RCMB24_XP_1.bed')\n",
    "bed_from_AA_graph(g,b,10)"
   ]
  },
  {
   "cell_type": "code",
   "execution_count": 85,
   "metadata": {
    "ExecuteTime": {
     "end_time": "2020-06-15T00:48:59.443408Z",
     "start_time": "2020-06-15T00:48:59.428406Z"
    }
   },
   "outputs": [
    {
     "name": "stdout",
     "output_type": "stream",
     "text": [
      "Wrote 3 lines.\n"
     ]
    }
   ],
   "source": [
    "g='/mnt/c/Users/ochapman/Documents/Mesirov/medullo_ecDNA/RWR-PDX/RCMB24_XP/AA_results/AA_amplicon3_graph.txt'\n",
    "b=os.path.join(os.getcwd(),'pdx','RCMB24_XP_3.bed')\n",
    "bed_from_AA_graph(g,b,10)"
   ]
  },
  {
   "cell_type": "code",
   "execution_count": 86,
   "metadata": {
    "ExecuteTime": {
     "end_time": "2020-06-15T00:49:00.569915Z",
     "start_time": "2020-06-15T00:49:00.557958Z"
    }
   },
   "outputs": [
    {
     "name": "stdout",
     "output_type": "stream",
     "text": [
      "Wrote 31 lines.\n"
     ]
    }
   ],
   "source": [
    "g='/mnt/c/Users/ochapman/Documents/Mesirov/medullo_ecDNA/RWR-PDX/RCMB40_XP1/AA_results/AA_amplicon1_graph.txt'\n",
    "b=os.path.join(os.getcwd(),'pdx','RCMB40_XP1.bed')\n",
    "bed_from_AA_graph(g,b,10)"
   ]
  },
  {
   "cell_type": "code",
   "execution_count": 4,
   "metadata": {
    "ExecuteTime": {
     "end_time": "2021-04-30T18:23:51.738061Z",
     "start_time": "2021-04-30T18:23:51.731064Z"
    }
   },
   "outputs": [
    {
     "name": "stdout",
     "output_type": "stream",
     "text": [
      "Wrote 4 lines.\n"
     ]
    }
   ],
   "source": [
    "g='/mnt/c/Users/ochapman/Documents/Mesirov/medullo_ecDNA/RWR-PDX/Icb_1487MB_XP/pdx/AA_results/AA_amplicon3_graph.txt'\n",
    "b=os.path.join(os.getcwd(),'pdx','Icb1487MB_XP_3.bed')\n",
    "bed_from_AA_graph(g,b,10)"
   ]
  },
  {
   "cell_type": "code",
   "execution_count": 5,
   "metadata": {
    "ExecuteTime": {
     "end_time": "2021-04-30T18:23:55.509619Z",
     "start_time": "2021-04-30T18:23:55.504319Z"
    }
   },
   "outputs": [
    {
     "name": "stdout",
     "output_type": "stream",
     "text": [
      "Wrote 8 lines.\n"
     ]
    }
   ],
   "source": [
    "g='/mnt/c/Users/ochapman/Documents/Mesirov/medullo_ecDNA/RWR-PDX/Icb_1487MB_XP/pdx/AA_results/AA_amplicon6_graph.txt'\n",
    "b=os.path.join(os.getcwd(),'pdx','Icb1487MB_XP_6.bed')\n",
    "bed_from_AA_graph(g,b,10)"
   ]
  },
  {
   "cell_type": "code",
   "execution_count": 6,
   "metadata": {
    "ExecuteTime": {
     "end_time": "2021-04-30T18:49:06.576805Z",
     "start_time": "2021-04-30T18:49:06.571128Z"
    }
   },
   "outputs": [
    {
     "name": "stdout",
     "output_type": "stream",
     "text": [
      "Wrote 25 lines.\n"
     ]
    }
   ],
   "source": [
    "g='/mnt/c/Users/ochapman/Documents/Mesirov/medullo_ecDNA/RWR-PDX/HT85P1/AA_results/AA_amplicon2_graph.txt'\n",
    "b=os.path.join(os.getcwd(),'pdx','RCMB69_2.hg38.bed')\n",
    "bed_from_AA_graph(g,b,7)"
   ]
  },
  {
   "cell_type": "code",
   "execution_count": null,
   "metadata": {},
   "outputs": [],
   "source": []
  }
 ],
 "metadata": {
  "kernelspec": {
   "display_name": "Python 3 (ipykernel)",
   "language": "python",
   "name": "python3"
  },
  "language_info": {
   "codemirror_mode": {
    "name": "ipython",
    "version": 3
   },
   "file_extension": ".py",
   "mimetype": "text/x-python",
   "name": "python",
   "nbconvert_exporter": "python",
   "pygments_lexer": "ipython3",
   "version": "3.7.12"
  }
 },
 "nbformat": 4,
 "nbformat_minor": 2
}
